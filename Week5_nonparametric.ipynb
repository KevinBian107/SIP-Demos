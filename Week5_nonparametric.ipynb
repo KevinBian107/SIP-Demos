{
 "cells": [
  {
   "cell_type": "markdown",
   "id": "d499b8cf",
   "metadata": {},
   "source": [
    "# Math 189 Week 5 Summary\n",
    "> NAME: $\\color{blue}{\\text{Kaiwen Bian}}$\n",
    "> \n",
    "> PID: $\\color{blue}{\\text{A17316568}}$\n",
    ">\n",
    "> \n",
    "---"
   ]
  },
  {
   "cell_type": "markdown",
   "id": "1bce0cf8",
   "metadata": {},
   "source": [
    "I certify that the following write-up is my own work, and have abided by the UCSD Academic Integrity Guidelines.\n",
    "\n",
    "- [x] Yes\n",
    "- [ ] No"
   ]
  },
  {
   "cell_type": "markdown",
   "id": "6a1c41b1",
   "metadata": {},
   "source": [
    "% # %load tex-macros\n",
    "<div hidden>\n",
    "\\newcommand{\\require}[1]{}\n",
    "\n",
    "$\\require{begingroup}\\require{newcommand}$\n",
    "$\\long\\def \\forcecommand #1{\\providecommand{#1}{}\\renewcommand{#1}}$\n",
    "$\\forcecommand{\\defeq}{\\stackrel{\\small\\bullet}{=}}$\n",
    "$\\forcecommand{\\ra}{\\rangle}$\n",
    "$\\forcecommand{\\la}{\\langle}$\n",
    "$\\forcecommand{\\pr}{{\\mathbb P}}$\n",
    "$\\forcecommand{\\qr}{{\\mathbb Q}}$\n",
    "$\\forcecommand{\\xv}{{\\boldsymbol{x}}}$\n",
    "$\\forcecommand{\\av}{{\\boldsymbol{a}}}$\n",
    "$\\forcecommand{\\bv}{{\\boldsymbol{b}}}$\n",
    "$\\forcecommand{\\cv}{{\\boldsymbol{c}}}$\n",
    "$\\forcecommand{\\dv}{{\\boldsymbol{d}}}$\n",
    "$\\forcecommand{\\ev}{{\\boldsymbol{e}}}$\n",
    "$\\forcecommand{\\fv}{{\\boldsymbol{f}}}$\n",
    "$\\forcecommand{\\gv}{{\\boldsymbol{g}}}$\n",
    "$\\forcecommand{\\hv}{{\\boldsymbol{h}}}$\n",
    "$\\forcecommand{\\nv}{{\\boldsymbol{n}}}$\n",
    "$\\forcecommand{\\sv}{{\\boldsymbol{s}}}$\n",
    "$\\forcecommand{\\tv}{{\\boldsymbol{t}}}$\n",
    "$\\forcecommand{\\uv}{{\\boldsymbol{u}}}$\n",
    "$\\forcecommand{\\vv}{{\\boldsymbol{v}}}$\n",
    "$\\forcecommand{\\wv}{{\\boldsymbol{w}}}$\n",
    "$\\forcecommand{\\zerov}{{\\mathbf{0}}}$\n",
    "$\\forcecommand{\\onev}{{\\mathbf{0}}}$\n",
    "$\\forcecommand{\\phiv}{{\\boldsymbol{\\phi}}}$\n",
    "$\\forcecommand{\\cc}{{\\check{C}}}$\n",
    "$\\forcecommand{\\xv}{{\\boldsymbol{x}}}$\n",
    "$\\forcecommand{\\Xv}{{\\boldsymbol{X}\\!}}$\n",
    "$\\forcecommand{\\yv}{{\\boldsymbol{y}}}$\n",
    "$\\forcecommand{\\Yv}{{\\boldsymbol{Y}}}$\n",
    "$\\forcecommand{\\zv}{{\\boldsymbol{z}}}$\n",
    "$\\forcecommand{\\Zv}{{\\boldsymbol{Z}}}$\n",
    "$\\forcecommand{\\Iv}{{\\boldsymbol{I}}}$\n",
    "$\\forcecommand{\\Jv}{{\\boldsymbol{J}}}$\n",
    "$\\forcecommand{\\Cv}{{\\boldsymbol{C}}}$\n",
    "$\\forcecommand{\\Ev}{{\\boldsymbol{E}}}$\n",
    "$\\forcecommand{\\Fv}{{\\boldsymbol{F}}}$\n",
    "$\\forcecommand{\\Gv}{{\\boldsymbol{G}}}$\n",
    "$\\forcecommand{\\Hv}{{\\boldsymbol{H}}}$\n",
    "$\\forcecommand{\\alphav}{{\\boldsymbol{\\alpha}}}$\n",
    "$\\forcecommand{\\epsilonv}{{\\boldsymbol{\\epsilon}}}$\n",
    "$\\forcecommand{\\betav}{{\\boldsymbol{\\beta}}}$\n",
    "$\\forcecommand{\\deltav}{{\\boldsymbol{\\delta}}}$\n",
    "$\\forcecommand{\\gammav}{{\\boldsymbol{\\gamma}}}$\n",
    "$\\forcecommand{\\etav}{{\\boldsymbol{\\eta}}}$\n",
    "$\\forcecommand{\\piv}{{\\boldsymbol{\\pi}}}$\n",
    "$\\forcecommand{\\thetav}{{\\boldsymbol{\\theta}}}$\n",
    "$\\forcecommand{\\tauv}{{\\boldsymbol{\\tau}}}$\n",
    "$\\forcecommand{\\muv}{{\\boldsymbol{\\mu}}}$\n",
    "$%$\n",
    "$\\forcecommand{\\sd}{\\text{SD}}$\n",
    "$\\forcecommand{\\se}{\\text{SE}}$\n",
    "$\\forcecommand{\\med}{\\text{median}}$\n",
    "$\\forcecommand{\\median}{\\text{median}}$\n",
    "$%$\n",
    "$\\forcecommand{\\supp}{\\text{supp}}$\n",
    "$\\forcecommand{\\E}{\\mathbb{E}}$\n",
    "$\\forcecommand{\\var}{\\text{Var}}$\n",
    "$\\forcecommand{\\Ber}{{\\text{Ber}}}$\n",
    "$\\forcecommand{\\Bin}{{\\text{Bin}}}$\n",
    "$\\forcecommand{\\Geo}{{\\text{Geo}}}$\n",
    "$\\forcecommand{\\Unif}{{\\text{Unif}}}$\n",
    "$\\forcecommand{\\Poi}{{\\text{Poi}}}$\n",
    "$\\forcecommand{\\Exp}{{\\text{Exp}}}$\n",
    "$\\forcecommand{\\Chisq}{{\\chi^2}}$\n",
    "$\\forcecommand{\\N}{\\mathbb{N}}$\n",
    "$\\forcecommand{\\iid}{{\\stackrel{iid}{\\sim}}}$\n",
    "$\\forcecommand{\\px}{p_{X}}$\n",
    "$\\forcecommand{\\fx}{f_{X}}$\n",
    "$\\forcecommand{\\Fx}{F_{X}}$\n",
    "$\\forcecommand{\\py}{p_{Y}}$\n",
    "$\\forcecommand{\\pxy}{p_{X,Y}}$\n",
    "$\\forcecommand{\\po}{{p_0}}$\n",
    "$\\forcecommand{\\pa}{{p_a}}$\n",
    "$\\forcecommand{\\Xbar}{\\overline{X}}$\n",
    "$\\forcecommand{\\Ybar}{\\overline{Y}}$\n",
    "$\\forcecommand{\\Zbar}{\\overline{Z}}$\n",
    "$\\forcecommand{\\nXbar}{n \\cdot \\overline{X}}$\n",
    "$\\forcecommand{\\nYbar}{n \\cdot \\overline{Y}}$\n",
    "$\\forcecommand{\\nZbar}{n \\cdot \\overline{Z}}$\n",
    "$\\forcecommand{\\Xn}{X_1, X_2, \\dots, X_n}$\n",
    "$\\forcecommand{\\Xm}{{X_1, X_2, \\dots, X_m}}$\n",
    "$\\forcecommand{\\Yn}{Y_1, Y_2, \\dots, Y_n}$\n",
    "$\\forcecommand{\\Ym}{{Y_1, Y_2, \\dots, Y_m}}$\n",
    "$\\forcecommand{\\sumXn}{X_1 + X_2 + \\dots + X_n}$\n",
    "$\\forcecommand{\\sumym}{Y_1 + Y_2 + \\dots + Y_m}$\n",
    "$\\forcecommand{\\la}{\\ell_\\alpha}$\n",
    "$\\forcecommand{\\ua}{u_\\alpha}$\n",
    "$\\forcecommand{\\at}{{\\alpha/2}}$\n",
    "$\\forcecommand{\\mux}{\\mu_{X}}$\n",
    "$\\forcecommand{\\muy}{\\mu_{Y}}$\n",
    "$\\forcecommand{\\sx}{\\sigma_{X}}$\n",
    "$\\forcecommand{\\sy}{\\sigma_{Y}}$\n",
    "$\\forcecommand{\\ci}{\\text{CI}}$\n",
    "$\\forcecommand{\\pvalue}{$p$-value}$\n",
    "$\\forcecommand{\\Ho}{H_{0}}$\n",
    "$\\forcecommand{\\Ha}{H_{a}}$\n",
    "\n",
    "\\vskip-\\parskip\n",
    "\\vskip-\\baselineskip\n",
    "</div>"
   ]
  },
  {
   "cell_type": "code",
   "execution_count": 1,
   "id": "bb0120db",
   "metadata": {},
   "outputs": [],
   "source": [
    "import numpy as np\n",
    "import scipy\n",
    "from scipy import stats as stats\n",
    "\n",
    "import statsmodels\n",
    "import statsmodels.api as sm"
   ]
  },
  {
   "cell_type": "markdown",
   "id": "fbfec7ec",
   "metadata": {},
   "source": [
    "---"
   ]
  },
  {
   "cell_type": "markdown",
   "id": "15c6dc53",
   "metadata": {},
   "source": [
    "# Key Takeaways from Week 5"
   ]
  },
  {
   "cell_type": "markdown",
   "id": "cc992f31",
   "metadata": {},
   "source": [
    "\n",
    "#### Tuesday: \n",
    "\n",
    "... insert your key takeaways here ..."
   ]
  },
  {
   "cell_type": "markdown",
   "id": "6d69de7b",
   "metadata": {},
   "source": [
    "#### Thursday\n",
    "\n",
    "... insert your takeaway here ...\n"
   ]
  },
  {
   "cell_type": "markdown",
   "id": "aaadbca8",
   "metadata": {},
   "source": [
    "---"
   ]
  },
  {
   "cell_type": "markdown",
   "id": "af54d945",
   "metadata": {},
   "source": [
    "# Hypothesis Testing with Minimal Assumptions\n",
    "\n",
    "> **Nonparametric tests** are hypothesis tests that make minimal assumptions about the distribution of the data.\n",
    "> \n",
    "> They are used when it's not reasonable to assume that the data follows a known distribution, or when the data is ordinal or nominal.\n",
    "\n",
    "The main difference between parametric and nonparametric tests is that **non-parameteric test makes no assumption of the distribution that our data comes from** & we 0nly want to tell if tewo distributions are apart (they are strctly more general)."
   ]
  },
  {
   "cell_type": "markdown",
   "id": "b8201782",
   "metadata": {},
   "source": [
    "### Parametric Tests\n",
    "The tests which we have looked at so far, such as the t-test, z-test, and $\\chi^2$-test, are called **parametric tests** because they make assumptions about the distribution of the data, such as the mean, variance, or proportion, e.g.,  \n",
    "\n",
    "- $X_1, X_2, \\dots, X_n \\sim \\mathcal{N}(\\mu, \\sigma^2)$,  \n",
    "- $X_1, X_2, \\dots, X_n \\sim \\mathcal{N}(\\mu_X, \\sigma_X^2)$ and $Y_1, Y_2, \\dots, Y_m \\sim \\mathcal{N}(\\mu_Y, \\sigma_Y^2)$,  \n",
    "- $X_1, X_2, \\dots, X_n \\sim \\text{Ber}(p)$,  \n",
    "- $X_1, X_2, \\dots, X_n \\sim \\text{Exp}(\\lambda)$,  \n",
    "\n",
    "The parameters here are the population parameters $\\mu, \\sigma^2, \\mu_X, \\sigma_X, \\mu_Y, \\sigma_Y, p, \\lambda, \\pi$, etc."
   ]
  },
  {
   "cell_type": "markdown",
   "id": "ac3bc4d3",
   "metadata": {},
   "source": [
    "### Nonparametric Tests\n",
    "Nonparametric tests, on the other hand, are based on assumptions such as:\n",
    "\n",
    "- The data is exchangeable, i.e., the order in which the data is observed does not matter,\n",
    "  - Does not holds for time series data\n",
    "- $X_1, X_2, \\dots, X_n \\sim F$\n",
    "  - $F$ is some probability distribution, but we don't know what $F$ is,\n",
    "- $X_1, X_2, \\dots, X_n \\sim F_X$ and $Y_1, Y_2, \\dots, Y_m \\sim F_Y$\n",
    "  - where $F_X$ and $F_Y$ are some probability distributions, but we don't know what $F_X$ and $F_Y$ are\n",
    "  \n",
    "⚠️ **In fact, the family of $\\chi^2$ tests we looked at in the last lecture are actually nonparametric tests.** ⚠️"
   ]
  },
  {
   "cell_type": "markdown",
   "id": "eaec5e23",
   "metadata": {},
   "source": [
    "### Examples"
   ]
  },
  {
   "cell_type": "markdown",
   "id": "c20ae5b4",
   "metadata": {},
   "source": [
    "\n",
    "\n",
    "\n",
    "An example (not discussed in class) where I might want to use a nonparametric test is in the following scenario(s): \n",
    "\n",
    "* ...\n",
    "* ..."
   ]
  },
  {
   "cell_type": "markdown",
   "id": "f6bf189a",
   "metadata": {},
   "source": [
    "---"
   ]
  },
  {
   "cell_type": "markdown",
   "id": "3ce5d9d1",
   "metadata": {},
   "source": [
    "# Wald-Wolfowitz Runs Test\n",
    "\n",
    "Simplest test for seeing if two sampels come from the same distribution (the genralization of it `All of Non-parametric Statistics`) The **Wald-Wolfowitz runs test** is a nonparametric test for two independent samples. The test is used to determine if the two samples are from the same distribution, i.e.,  \n",
    "\n",
    "$$\n",
    "X_1, X_2, \\dots, X_n \\sim F_X \\quad \\text{and} \\quad Y_1, Y_2, \\dots, Y_m \\sim F_Y\n",
    "$$\n",
    "\n",
    "and,  \n",
    "\n",
    "$$\n",
    "H_0: F_X = F_Y \\quad \\text{vs} \\quad H_a: F_X \\neq F_Y\n",
    "$$"
   ]
  },
  {
   "cell_type": "markdown",
   "id": "16866c4b",
   "metadata": {},
   "source": [
    "### Telling Things From Runs\n",
    "A **run** is a theoritical construct coming from CS. It is a sequence of consecutive observations of the same type, i.e., all $X$'s or all $Y$'s. More concretely,\n",
    "\n",
    "- Arrange $X_1, X_2, \\dots, X_n, Y_1, Y_2, \\dots, Y_m$ in increasing order,\n",
    "- Suppose it looks like  \n",
    "  $$\n",
    "  Y_{10}, X_3, X_7, Y_5, X_1, X_2, Y_1, Y_2, X_4, X_5, X_6, Y_3, Y_4, X_8, X_9, Y_6, Y_7, Y_8, Y_9, Y_{11}\n",
    "  $$\n",
    "\n",
    "For simplicity, let \"+\" denote a sample from $X$ and \"-\" denote a sample from $Y$. Then the sequence above looks like the following (this is our observations, you can think of them as 0 and 1):\n",
    "\n",
    "$$\n",
    "-++-++--+++--++-----\n",
    "$$\n",
    "\n",
    "Then we create partitions: a **run** is a sequence of consecutive `+`'s or `-`'s. In the sequence above, there are 9 runs, i.e.,  \n",
    "\n",
    "$$\n",
    "| ++ | - | ++ | -- | +++ | -- | ++ | - -\n",
    "$$\n",
    "\n",
    "We are not intersting in what is in run but the length of the run."
   ]
  },
  {
   "cell_type": "markdown",
   "id": "00d2ea52",
   "metadata": {},
   "source": [
    "### Different Mean\n",
    "If the two distributions $F_X$ and $F_Y$ are **different**, then the number of runs will be small:\n",
    "\n",
    "- If the **two means or medians are very different**, then your ordered sequence will look something like:\n",
    "\n",
    "$$\n",
    "- - - - -| + | - | + + + + + +\n",
    "$$\n",
    "\n",
    "- This is because you have a region where there is a bunch of \"-\" on one side and \"+\" on the other side.\n",
    "\n",
    "- Minimum runs are 2 as they are completley seperated.\n",
    "\n",
    "### Different Variance\n",
    "If the two **means are similar** but the **variances are very different**, then your ordered sequence will look something like:\n",
    "\n",
    "- If $F_y$ has lower SD and $F_x$ has a greater SD, assumng they have similar means, than you would see a good mix in the middle with one type centered and teh other type spreading out.\n",
    "\n",
    "$$\n",
    "+ + + + | - - - - | + + + +\n",
    "$$\n",
    "\n",
    "- The number of runs is still small.\n",
    "\n",
    "\n",
    "### Indistinguishable\n",
    "If the two distributions $F_X$ and $F_Y$ are **indistinguishable**, then the number of runs will be large:\n",
    "\n",
    "- If the two means or medians are very different, then your ordered sequence will look something like:\n",
    "\n",
    "$$\n",
    "| + | - | ++ | - | + | -- | ++ | -\n",
    "$$\n",
    "\n",
    "- Large number of runs if they are thes ame distribution, all fixes together."
   ]
  },
  {
   "cell_type": "markdown",
   "id": "9f6a634c",
   "metadata": {},
   "source": [
    "### Wald-Wolfowitz Runs Test"
   ]
  },
  {
   "cell_type": "markdown",
   "id": "65bd4159",
   "metadata": {},
   "source": [
    "- **Assumption**:\n",
    "\n",
    "    $$\n",
    "    X_1, X_2, \\dots, X_n \\sim F_X \\quad \\text{and} \\quad Y_1, Y_2, \\dots, Y_m \\sim F_Y\n",
    "    $$\n",
    "\n",
    "- **Hypotheses**:\n",
    "    - If $H_0$ is true, number of runs should be high, else, the number of runs should be low\n",
    "    - Then $\\mu_R$ shoud be high and $\\hat{R} - \\mu_R$ will be very negative, test statistics falls into negative zone.\n",
    "\n",
    "    $$\n",
    "    H_0: F_X = F_Y \\quad \\text{vs} \\quad H_a: F_X \\neq F_Y\n",
    "    $$\n",
    "\n",
    "- **Test Statistic**:\n",
    "    - If $\\hat{R}$ is the observed number of runs, then the test statistic is the following:\n",
    "    - $\\mu_R$ is the number of runs under the assumption that Null Hypothesis is true. These are the expected value and variance of the number of runs under the null hypothesis.\n",
    "\n",
    "    $$\n",
    "    Z = \\frac{\\hat{R} - \\mu_R}{s_R}\n",
    "    $$\n",
    "    $$\n",
    "    \\mu_R = 1 + 2 \\frac{n_X \\cdot n_Y}{n_X + n_Y}\n",
    "    $$  \n",
    "\n",
    "    $$\n",
    "    s_R = \\sqrt{\\frac{2 n_X \\cdot n_Y \\cdot (2 n_X n_Y - n_X - n_Y)}{(n_X + n_Y)^2 \\cdot (n_X + n_Y - 1)}}\n",
    "    $$  \n",
    "\n",
    "- **Rejection Region**:\n",
    "    - For the most common use case, we reject the null hypothesis if the number of runs is too small, i.e.\n",
    "    - $x_{\\alpha} = z_{\\alpha}$ is the $\\alpha$-th **upper quantile** of the standard normal distribution $\\mathcal{N}(0,1)$.\n",
    "    - $x_{\\alpha}$ comes from the central limit theorem, which holds neglecting what the distribution is.\n",
    "\n",
    "\n",
    "    $$\n",
    "    \\text{rejection region} = (-\\infty, -x_{\\alpha})\n",
    "    $$"
   ]
  },
  {
   "cell_type": "markdown",
   "id": "484966cf",
   "metadata": {},
   "source": [
    "The run test does not exist in the `scipy` module, not in production code"
   ]
  },
  {
   "cell_type": "code",
   "execution_count": null,
   "id": "92e7efc5",
   "metadata": {},
   "outputs": [],
   "source": []
  },
  {
   "cell_type": "markdown",
   "id": "3f5e7f47",
   "metadata": {},
   "source": [
    "### Anatomy\n",
    "\n",
    "| Anatomy of the hypothesis test |  Answer  |\n",
    "|:------------------------------:|:--------:|\n",
    "| **Assumption**                     | The data consists of two independent samples from two distributions, denoted as $F_X$ and $F_Y$. |\n",
    "| **Null hypothesis**                | $H_0: F_X = F_Y$ (The two samples come from the same distribution). |\n",
    "| **Alternate hypothesis**           | $H_a: F_X \\neq F_Y$ (The two samples come from different distributions). |\n",
    "| **Test statistic**                 | The number of runs $\\hat{R}$ in the combined sequence of $X$'s and $Y$'s. The standardized test statistic is:  $$ Z = \\frac{\\hat{R} - \\mu_R}{s_R} $$ where $\\mu_R$ and $s_R$ are the mean and standard deviation of runs under the null hypothesis. |\n",
    "| **Rejection region shape**         | Left-tailed: Reject $H_0$ if the number of runs is significantly small (i.e., $Z < -z_{\\alpha}$ for a given significance level $\\alpha$). |"
   ]
  },
  {
   "cell_type": "markdown",
   "id": "41fb99aa",
   "metadata": {},
   "source": [
    "---"
   ]
  },
  {
   "cell_type": "markdown",
   "id": "75e79cb2",
   "metadata": {},
   "source": [
    "# Kolmogorov-Smirnov Test\n",
    "The Kolmogorov-Smirnov test is a nonparametric test for the equality of two probability distributions. It comes in two variants:"
   ]
  },
  {
   "cell_type": "markdown",
   "id": "2fde02ca",
   "metadata": {},
   "source": [
    "### One Sample K-S Test\n",
    "\n",
    "We make the assumtion that there is some distribution, or even just a function (satisfying assumption of CDF), and we want to test our hypothesis about **whether our data is generated from such distribution or from  different distribution**.\n",
    "\n",
    "$$\n",
    "X_1, X_2, \\dots, X_n \\sim F_X\n",
    "$$\n",
    "\n",
    "$$\n",
    "H_0: F_X = F_0 \\quad \\text{vs} \\quad H_a: F_X \\neq F_0\n",
    "$$\n",
    "\n",
    "where $F_0$ is some known hypothesized, reference distribution, e.g., $\\mathcal{N}(\\mu, \\sigma^2)$, $\\Gamma(\\alpha, \\lambda)$, $\\text{Beta}(\\alpha, \\beta)$, etc.\n",
    "\n",
    "### Two Sample K-S Test\n",
    "\n",
    "$$\n",
    "X_1, X_2, \\dots, X_n \\sim F_X \\quad \\text{and} \\quad Y_1, Y_2, \\dots, Y_m \\sim F_Y\n",
    "$$\n",
    "\n",
    "$$\n",
    "H_0: F_X = F_Y \\quad \\text{vs} \\quad H_a: F_X \\neq F_Y\n",
    "$$"
   ]
  },
  {
   "cell_type": "markdown",
   "id": "80cd845f",
   "metadata": {},
   "source": [
    "### More Into One-sample K-S Test\n",
    "\n",
    "To develop some intuition, let's take a look at the one-sample K-S test. Suppose we have a collection $X_1, X_2, \\dots, X_n \\sim F_X$, where $F_X$ is some unknown distribution, and we want to test the hypothesis:\n",
    "\n",
    "$$\n",
    "H_0: F_X = F_0 \\quad \\text{vs} \\quad H_a: F_X \\neq F_0\n",
    "$$\n",
    "\n",
    "We can use the **empirical distribution function (EDF)** to estimate $F_X$. The EDF is defined as  \n",
    "\n",
    "$$\n",
    "\\hat{F}_n(x) = \\frac{1}{n} \\sum_{i=1}^{n} \\mathbb{1}(X_i \\leq x)\n",
    "$$\n",
    "\n",
    "where $\\mathbb{1}(X_i \\leq x)$ is the indicator function, i.e.,  \n",
    "\n",
    "$$\n",
    "\\mathbb{1}(X_i \\leq x) =\n",
    "\\begin{cases} \n",
    "1 & \\text{if } X_i \\leq x \\\\\n",
    "0 & \\text{if } X_i > x\n",
    "\\end{cases}\n",
    "$$\n"
   ]
  },
  {
   "cell_type": "code",
   "execution_count": null,
   "id": "ffd0364e",
   "metadata": {},
   "outputs": [],
   "source": []
  },
  {
   "cell_type": "markdown",
   "id": "3edd9de9",
   "metadata": {},
   "source": [
    "### Test Statistic\n",
    "\n",
    "The test statistic is the **Kolmogorov-Smirnov statistic**, defined as  \n",
    "\n",
    "$$\n",
    "D_n = \\sup_x \\left| \\hat{F}_n(x) - F_0(x) \\right|\n",
    "$$\n",
    "\n",
    "where $\\sup_x$ is the supremum over all $x$ in the support of $F_0$. Intuitively, this is the maximum  \n",
    "vertical distance between the orange and the blue lines in the plots above.\n",
    "\n",
    "- If $D_n$ is small, then we have evidence that $F_X$ is close to $F_0$.\n",
    "- If $D_n$ is large, then we have evidence that $F_X$ is different from $F_0$.\n"
   ]
  },
  {
   "cell_type": "markdown",
   "id": "22a623d7",
   "metadata": {},
   "source": [
    "Intuitively, the KS test statistic measures the **maximum vertical distance**."
   ]
  },
  {
   "cell_type": "markdown",
   "id": "293f5795",
   "metadata": {},
   "source": [
    "### Extension to Two-sample K-S Test\n",
    "\n",
    "The two-sample K-S test is a generalization of the one-sample K-S test. Given  \n",
    "\n",
    "$$\n",
    "X_1, X_2, \\dots, X_n \\sim F_X \\quad \\text{and} \\quad Y_1, Y_2, \\dots, Y_m \\sim F_Y\n",
    "$$\n",
    "\n",
    "and the hypotheses  \n",
    "\n",
    "$$\n",
    "H_0: F_X = F_Y \\quad \\text{vs} \\quad H_a: F_X \\neq F_Y\n",
    "$$\n",
    "\n",
    "the test statistic is given by  \n",
    "\n",
    "$$\n",
    "D_{n,m} = \\sup_x \\left| \\hat{F}_n(x) - \\hat{F}_m(x) \\right|\n",
    "$$\n",
    "\n",
    "where $\\hat{F}_n(x)$ and $\\hat{F}_m(x)$ are the empirical distribution functions of $X_1, X_2, \\dots, X_n$ and $Y_1, Y_2, \\dots, Y_m$, respectively.\n"
   ]
  },
  {
   "cell_type": "markdown",
   "id": "b3c5d845",
   "metadata": {},
   "source": [
    "### Rejection Region\n",
    "\n",
    "We reject the null hypothesis if the deviation of EDFs, $D_{m,n}$, is large, i.e.,  \n",
    "\n",
    "$$\n",
    "\\text{rejection region} = (x_{\\alpha}, \\infty)\n",
    "$$\n",
    "\n",
    "where $x_{\\alpha}$ is given by  \n",
    "\n",
    "$$\n",
    "x_{\\alpha} = \\sqrt{\\frac{1}{2} \\log \\left(\\frac{\\alpha}{2} \\right) \\times \\frac{m + n}{m \\cdot n}}\n",
    "$$\n",
    "\n",
    "This has to do with CLT and stochastics processings with Brownian motion.\n",
    "- Caluclating p-value is complicated\n"
   ]
  },
  {
   "cell_type": "markdown",
   "id": "a4b9731c",
   "metadata": {},
   "source": [
    "### Anatomy\n",
    "\n",
    "| Anatomy of the hypothesis test |  Answer  |\n",
    "|:------------------------------:|:--------:|\n",
    "| **Assumption**                     | The data consists of one or two independent samples drawn from continuous distributions. |\n",
    "| **Null hypothesis**                | **One-sample K-S test:** $H_0: F_X = F_0$ (The sample follows the hypothesized distribution $F_0$).  <br> **Two-sample K-S test:** $H_0: F_X = F_Y$ (The two samples come from the same distribution). |\n",
    "| **Alternate hypothesis**           | **One-sample K-S test:** $H_a: F_X \\neq F_0$ (The sample does not follow the hypothesized distribution). <br> **Two-sample K-S test:** $H_a: F_X \\neq F_Y$ (The two samples come from different distributions). |\n",
    "| **Test statistic**                 | The Kolmogorov-Smirnov statistic:  $$ D_n = \\sup_x \\left| \\hat{F}_n(x) - F_0(x) \\right| $$ (One-sample K-S test) <br> $$ D_{n,m} = \\sup_x \\left| \\hat{F}_n(x) - \\hat{F}_m(x) \\right| $$ (Two-sample K-S test) |\n",
    "| **Rejection region shape**         | Right-tailed: Reject $H_0$ if $D_n$ (or $D_{n,m}$) is greater than the critical value $$ x_{\\alpha} = \\sqrt{\\frac{1}{2} \\log \\left(\\frac{\\alpha}{2} \\right) \\times \\frac{m + n}{m \\cdot n}} $$ based on the sample size and significance level $\\alpha$. |\n"
   ]
  },
  {
   "cell_type": "code",
   "execution_count": null,
   "id": "0900b888",
   "metadata": {},
   "outputs": [],
   "source": []
  },
  {
   "cell_type": "markdown",
   "id": "234cc290",
   "metadata": {},
   "source": [
    "---"
   ]
  },
  {
   "cell_type": "markdown",
   "id": "f529da33",
   "metadata": {},
   "source": [
    "# More Explorative Data Analysis: QQ-plot"
   ]
  },
  {
   "cell_type": "markdown",
   "id": "392df8f5",
   "metadata": {},
   "source": [
    "Suppose we are given a sample $X_1, X_2, \\dots, X_n$, can we visualize if it comes from a reference distribution $D(\\theta)$?\n",
    "\n",
    "- Previously we do historgram and overlay CDF\n",
    "- Or we just learned to use the K-S test\n",
    "- JNow we use a QQ-plot"
   ]
  },
  {
   "cell_type": "markdown",
   "id": "08267167",
   "metadata": {},
   "source": [
    "### QQ Plots\n",
    "\n",
    "A **quantile-quantile (QQ) plot** is a graphical tool to compare two probability distributions. It is used to check if a given data follows a known distribution, or if two data sets are from the same distribution.\n"
   ]
  },
  {
   "cell_type": "code",
   "execution_count": null,
   "id": "55c5129d",
   "metadata": {},
   "outputs": [],
   "source": []
  },
  {
   "cell_type": "markdown",
   "id": "7709cc3e",
   "metadata": {},
   "source": [
    "Essentially, a QQ plot is a scatter plot of the **quantiles of one distribution** against the quantiles of another distribution. **This is similar to the idea of plotting two CDFs against each other, but it's easier to visualize.**\n",
    "- Plot the theoritical quantiles for $D(\\theta)$ against the actual quantitle for the sample distribution.\n",
    "- If sample come from the theoritical distribution, it will be an staright line with slope 1, passing through origin.\n",
    "- The distance between the line and the sample line is known as **optimal transport distance**, or the w1-warsertein distance."
   ]
  },
  {
   "cell_type": "code",
   "execution_count": null,
   "id": "81fa192a",
   "metadata": {},
   "outputs": [],
   "source": []
  },
  {
   "cell_type": "markdown",
   "id": "b72afcd5",
   "metadata": {},
   "source": [
    "> The effect of different means in the QQ-plot\n",
    "\n",
    "...\n",
    "\n",
    "> The effect of different variances in the QQ-plot\n",
    "\n",
    "...\n",
    "\n",
    "\n",
    "> The effect of different skewness in the QQ-plot\n",
    "\n",
    "..."
   ]
  },
  {
   "cell_type": "markdown",
   "id": "f15473cf",
   "metadata": {},
   "source": [
    "---\n",
    "---"
   ]
  },
  {
   "cell_type": "markdown",
   "id": "06efcaa3",
   "metadata": {},
   "source": [
    "## Thu, Feb 6"
   ]
  },
  {
   "cell_type": "markdown",
   "id": "4bde99e5",
   "metadata": {},
   "source": [
    "### Tests for Assumptions\n",
    "\n",
    "In words, here's how I would go about testing for some common assumptions in statistical inference."
   ]
  },
  {
   "cell_type": "markdown",
   "id": "08a4d992",
   "metadata": {},
   "source": [
    "#### Independence\n",
    "\n",
    "\n",
    "..."
   ]
  },
  {
   "cell_type": "markdown",
   "id": "2be8d545",
   "metadata": {},
   "source": [
    "#### Indentical Assumption\n",
    "\n",
    "\n",
    "..."
   ]
  },
  {
   "cell_type": "markdown",
   "id": "fe97a67d",
   "metadata": {},
   "source": [
    "#### Normality\n",
    "\n",
    "\n",
    "..."
   ]
  },
  {
   "cell_type": "markdown",
   "id": "fdf57e41",
   "metadata": {},
   "source": [
    "#### Associations between two quantitative variables\n",
    "\n",
    "Given data $(x_1, y_1), (x_2, y_2), \\dots (x_n, y_n)$\n",
    "\n",
    "usually:\n",
    "\n",
    "* The variable $x$ is called ...\n",
    "* The variable $y$ is called ..."
   ]
  },
  {
   "cell_type": "markdown",
   "id": "750f7bfa",
   "metadata": {},
   "source": [
    "<br></br>"
   ]
  },
  {
   "cell_type": "markdown",
   "id": "ae14ffa5",
   "metadata": {},
   "source": [
    "We can visualize the association/relationship between $x$ and $y$ visually using a \n",
    "\n",
    "..."
   ]
  },
  {
   "cell_type": "markdown",
   "id": "8a56ecba",
   "metadata": {},
   "source": [
    "<br></br>"
   ]
  },
  {
   "cell_type": "markdown",
   "id": "972f7e6f",
   "metadata": {},
   "source": [
    "**Simple linear regression** \n",
    "\n",
    "In the simple linear regression model, the underlying assumption is that\n",
    "\n",
    "..."
   ]
  },
  {
   "cell_type": "markdown",
   "id": "bb547852",
   "metadata": {},
   "source": [
    "<br></br>"
   ]
  },
  {
   "cell_type": "markdown",
   "id": "3670bcca",
   "metadata": {},
   "source": [
    "**Objective**\n",
    "\n",
    "The objective of simple linear regression is\n",
    "\n",
    "\n",
    "..."
   ]
  },
  {
   "cell_type": "markdown",
   "id": "1e2bca13",
   "metadata": {},
   "source": [
    "<br></br>"
   ]
  },
  {
   "cell_type": "markdown",
   "id": "62fd62ad",
   "metadata": {},
   "source": [
    "**Estimation**\n",
    "\n",
    "Intuitively, the best guess for ... and ... using the data is obtained by\n",
    "\n",
    "\n",
    "\n",
    "..."
   ]
  },
  {
   "cell_type": "markdown",
   "id": "419aeed9",
   "metadata": {},
   "source": [
    "<br></br>"
   ]
  },
  {
   "cell_type": "markdown",
   "id": "cfb131fe",
   "metadata": {},
   "source": [
    "**Representation**\n",
    "\n",
    "In matrix form, the linear regression model can be written as\n",
    "\n",
    "$$\n",
    "...\n",
    "$$\n"
   ]
  },
  {
   "cell_type": "markdown",
   "id": "088dee3c",
   "metadata": {},
   "source": [
    "<br></br>"
   ]
  },
  {
   "cell_type": "markdown",
   "id": "62452b4e",
   "metadata": {},
   "source": [
    "**Solution**\n",
    "\n",
    "The solution to the least-squares estimation problem is given by\n",
    "\n",
    "$$\n",
    "...\n",
    "$$\n"
   ]
  },
  {
   "cell_type": "markdown",
   "id": "1b90c7f0",
   "metadata": {},
   "source": [
    "<br></br>"
   ]
  },
  {
   "cell_type": "markdown",
   "id": "2afd4444",
   "metadata": {},
   "source": [
    "An example application is described here:\n",
    "\n",
    "..."
   ]
  },
  {
   "cell_type": "markdown",
   "id": "fb90a793",
   "metadata": {},
   "source": [
    "Here is the code to perform this:"
   ]
  },
  {
   "cell_type": "code",
   "execution_count": null,
   "id": "4d3b4a78",
   "metadata": {},
   "outputs": [
    {
     "data": {
      "text/plain": [
       "Ellipsis"
      ]
     },
     "metadata": {},
     "output_type": "display_data"
    }
   ],
   "source": [
    "..."
   ]
  },
  {
   "cell_type": "markdown",
   "id": "d73a0cfa",
   "metadata": {},
   "source": [
    "<br></br>\n",
    "<br></br>\n",
    "<br></br>"
   ]
  },
  {
   "cell_type": "markdown",
   "id": "c2054701",
   "metadata": {},
   "source": [
    "---"
   ]
  }
 ],
 "metadata": {
  "celltoolbar": "Slideshow",
  "hide_input": false,
  "kernelspec": {
   "display_name": "Python 3 (ipykernel)",
   "language": "python",
   "name": "python3"
  },
  "language_info": {
   "codemirror_mode": {
    "name": "ipython",
    "version": 3
   },
   "file_extension": ".py",
   "mimetype": "text/x-python",
   "name": "python",
   "nbconvert_exporter": "python",
   "pygments_lexer": "ipython3",
   "version": "3.8.20"
  },
  "toc": {
   "base_numbering": 2
  }
 },
 "nbformat": 4,
 "nbformat_minor": 5
}
