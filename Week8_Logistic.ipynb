{
 "cells": [
  {
   "cell_type": "markdown",
   "id": "d499b8cf",
   "metadata": {},
   "source": [
    "# Math 189 Week 8 Summary\n",
    "> NAME: $\\color{blue}{\\text{Kaiwen Bian}}$\n",
    "> \n",
    "> PID: $\\color{blue}{\\text{A17316568}}$\n",
    ">\n",
    "> \n",
    "---"
   ]
  },
  {
   "cell_type": "markdown",
   "id": "1bce0cf8",
   "metadata": {},
   "source": [
    "I certify that the following write-up is my own work, and have abided by the UCSD Academic Integrity Guidelines.\n",
    "\n",
    "- [x] Yes\n",
    "- [ ] No"
   ]
  },
  {
   "cell_type": "markdown",
   "id": "6a1c41b1",
   "metadata": {},
   "source": [
    "% # %load tex-macros\n",
    "<div hidden>\n",
    "\\newcommand{\\require}[1]{}\n",
    "\n",
    "$\\require{begingroup}\\require{newcommand}$\n",
    "$\\long\\def \\forcecommand #1{\\providecommand{#1}{}\\renewcommand{#1}}$\n",
    "$\\forcecommand{\\defeq}{\\stackrel{\\small\\bullet}{=}}$\n",
    "$\\forcecommand{\\ra}{\\rangle}$\n",
    "$\\forcecommand{\\la}{\\langle}$\n",
    "$\\forcecommand{\\pr}{{\\mathbb P}}$\n",
    "$\\forcecommand{\\qr}{{\\mathbb Q}}$\n",
    "$\\forcecommand{\\xv}{{\\boldsymbol{x}}}$\n",
    "$\\forcecommand{\\av}{{\\boldsymbol{a}}}$\n",
    "$\\forcecommand{\\bv}{{\\boldsymbol{b}}}$\n",
    "$\\forcecommand{\\cv}{{\\boldsymbol{c}}}$\n",
    "$\\forcecommand{\\dv}{{\\boldsymbol{d}}}$\n",
    "$\\forcecommand{\\ev}{{\\boldsymbol{e}}}$\n",
    "$\\forcecommand{\\fv}{{\\boldsymbol{f}}}$\n",
    "$\\forcecommand{\\gv}{{\\boldsymbol{g}}}$\n",
    "$\\forcecommand{\\hv}{{\\boldsymbol{h}}}$\n",
    "$\\forcecommand{\\nv}{{\\boldsymbol{n}}}$\n",
    "$\\forcecommand{\\sv}{{\\boldsymbol{s}}}$\n",
    "$\\forcecommand{\\tv}{{\\boldsymbol{t}}}$\n",
    "$\\forcecommand{\\uv}{{\\boldsymbol{u}}}$\n",
    "$\\forcecommand{\\vv}{{\\boldsymbol{v}}}$\n",
    "$\\forcecommand{\\wv}{{\\boldsymbol{w}}}$\n",
    "$\\forcecommand{\\zerov}{{\\mathbf{0}}}$\n",
    "$\\forcecommand{\\onev}{{\\mathbf{0}}}$\n",
    "$\\forcecommand{\\phiv}{{\\boldsymbol{\\phi}}}$\n",
    "$\\forcecommand{\\cc}{{\\check{C}}}$\n",
    "$\\forcecommand{\\xv}{{\\boldsymbol{x}}}$\n",
    "$\\forcecommand{\\Xv}{{\\boldsymbol{X}\\!}}$\n",
    "$\\forcecommand{\\yv}{{\\boldsymbol{y}}}$\n",
    "$\\forcecommand{\\Yv}{{\\boldsymbol{Y}}}$\n",
    "$\\forcecommand{\\zv}{{\\boldsymbol{z}}}$\n",
    "$\\forcecommand{\\Zv}{{\\boldsymbol{Z}}}$\n",
    "$\\forcecommand{\\Iv}{{\\boldsymbol{I}}}$\n",
    "$\\forcecommand{\\Jv}{{\\boldsymbol{J}}}$\n",
    "$\\forcecommand{\\Cv}{{\\boldsymbol{C}}}$\n",
    "$\\forcecommand{\\Ev}{{\\boldsymbol{E}}}$\n",
    "$\\forcecommand{\\Fv}{{\\boldsymbol{F}}}$\n",
    "$\\forcecommand{\\Gv}{{\\boldsymbol{G}}}$\n",
    "$\\forcecommand{\\Hv}{{\\boldsymbol{H}}}$\n",
    "$\\forcecommand{\\alphav}{{\\boldsymbol{\\alpha}}}$\n",
    "$\\forcecommand{\\epsilonv}{{\\boldsymbol{\\epsilon}}}$\n",
    "$\\forcecommand{\\betav}{{\\boldsymbol{\\beta}}}$\n",
    "$\\forcecommand{\\deltav}{{\\boldsymbol{\\delta}}}$\n",
    "$\\forcecommand{\\gammav}{{\\boldsymbol{\\gamma}}}$\n",
    "$\\forcecommand{\\etav}{{\\boldsymbol{\\eta}}}$\n",
    "$\\forcecommand{\\piv}{{\\boldsymbol{\\pi}}}$\n",
    "$\\forcecommand{\\thetav}{{\\boldsymbol{\\theta}}}$\n",
    "$\\forcecommand{\\tauv}{{\\boldsymbol{\\tau}}}$\n",
    "$\\forcecommand{\\muv}{{\\boldsymbol{\\mu}}}$\n",
    "$%$\n",
    "$\\forcecommand{\\sd}{\\text{SD}}$\n",
    "$\\forcecommand{\\se}{\\text{SE}}$\n",
    "$\\forcecommand{\\med}{\\text{median}}$\n",
    "$\\forcecommand{\\median}{\\text{median}}$\n",
    "$%$\n",
    "$\\forcecommand{\\supp}{\\text{supp}}$\n",
    "$\\forcecommand{\\E}{\\mathbb{E}}$\n",
    "$\\forcecommand{\\var}{\\text{Var}}$\n",
    "$\\forcecommand{\\Ber}{{\\text{Ber}}}$\n",
    "$\\forcecommand{\\Bin}{{\\text{Bin}}}$\n",
    "$\\forcecommand{\\Geo}{{\\text{Geo}}}$\n",
    "$\\forcecommand{\\Unif}{{\\text{Unif}}}$\n",
    "$\\forcecommand{\\Poi}{{\\text{Poi}}}$\n",
    "$\\forcecommand{\\Exp}{{\\text{Exp}}}$\n",
    "$\\forcecommand{\\Chisq}{{\\chi^2}}$\n",
    "$\\forcecommand{\\N}{\\mathbb{N}}$\n",
    "$\\forcecommand{\\iid}{{\\stackrel{iid}{\\sim}}}$\n",
    "$\\forcecommand{\\px}{p_{X}}$\n",
    "$\\forcecommand{\\fx}{f_{X}}$\n",
    "$\\forcecommand{\\Fx}{F_{X}}$\n",
    "$\\forcecommand{\\py}{p_{Y}}$\n",
    "$\\forcecommand{\\pxy}{p_{X,Y}}$\n",
    "$\\forcecommand{\\po}{{p_0}}$\n",
    "$\\forcecommand{\\pa}{{p_a}}$\n",
    "$\\forcecommand{\\Xbar}{\\overline{X}}$\n",
    "$\\forcecommand{\\Ybar}{\\overline{Y}}$\n",
    "$\\forcecommand{\\Zbar}{\\overline{Z}}$\n",
    "$\\forcecommand{\\nXbar}{n \\cdot \\overline{X}}$\n",
    "$\\forcecommand{\\nYbar}{n \\cdot \\overline{Y}}$\n",
    "$\\forcecommand{\\nZbar}{n \\cdot \\overline{Z}}$\n",
    "$\\forcecommand{\\Xn}{X_1, X_2, \\dots, X_n}$\n",
    "$\\forcecommand{\\Xm}{{X_1, X_2, \\dots, X_m}}$\n",
    "$\\forcecommand{\\Yn}{Y_1, Y_2, \\dots, Y_n}$\n",
    "$\\forcecommand{\\Ym}{{Y_1, Y_2, \\dots, Y_m}}$\n",
    "$\\forcecommand{\\sumXn}{X_1 + X_2 + \\dots + X_n}$\n",
    "$\\forcecommand{\\sumym}{Y_1 + Y_2 + \\dots + Y_m}$\n",
    "$\\forcecommand{\\la}{\\ell_\\alpha}$\n",
    "$\\forcecommand{\\ua}{u_\\alpha}$\n",
    "$\\forcecommand{\\at}{{\\alpha/2}}$\n",
    "$\\forcecommand{\\mux}{\\mu_{X}}$\n",
    "$\\forcecommand{\\muy}{\\mu_{Y}}$\n",
    "$\\forcecommand{\\sx}{\\sigma_{X}}$\n",
    "$\\forcecommand{\\sy}{\\sigma_{Y}}$\n",
    "$\\forcecommand{\\ci}{\\text{CI}}$\n",
    "$\\forcecommand{\\pvalue}{$p$-value}$\n",
    "$\\forcecommand{\\Ho}{H_{0}}$\n",
    "$\\forcecommand{\\Ha}{H_{a}}$\n",
    "\n",
    "\\vskip-\\parskip\n",
    "\\vskip-\\baselineskip\n",
    "</div>"
   ]
  },
  {
   "cell_type": "markdown",
   "id": "fbfec7ec",
   "metadata": {},
   "source": [
    "---"
   ]
  },
  {
   "cell_type": "markdown",
   "id": "15c6dc53",
   "metadata": {},
   "source": [
    "## Key Takeaways from Week 8"
   ]
  },
  {
   "cell_type": "markdown",
   "id": "cc992f31",
   "metadata": {},
   "source": [
    "\n",
    "#### Tuesday: \n",
    "\n",
    "... insert your key takeaways here ..."
   ]
  },
  {
   "cell_type": "markdown",
   "id": "6d69de7b",
   "metadata": {},
   "source": [
    "#### Thursday\n",
    "\n",
    "... insert your takeaway here ...\n"
   ]
  },
  {
   "cell_type": "markdown",
   "id": "aaadbca8",
   "metadata": {},
   "source": [
    "---"
   ]
  },
  {
   "cell_type": "markdown",
   "id": "2915e324",
   "metadata": {},
   "source": [
    "# Rest of Logistic Regression"
   ]
  },
  {
   "cell_type": "markdown",
   "id": "6b2a08f9",
   "metadata": {},
   "source": [
    "> #### Interpretation of coefficients\n",
    "\n",
    "The interprettaion of it comes from a log scale. Given the logistic regression model:\n",
    "\n",
    "$$\n",
    "\\text{log-odds}(y = 1 \\mid x_1, x_2, \\dots, x_p) = \\beta_0 + \\beta_1 x_1 + \\beta_2 x_2 + \\dots + \\beta_p x_p\n",
    "$$\n",
    "\n",
    "The partial derivative of the log-odds with respect to $ x_i $ is:\n",
    "\n",
    "$$\n",
    "\\frac{\\partial}{\\partial x_i} \\text{log-odds}(y = 1 \\mid x_1, x_2, \\dots, x_p) = \\beta_i\n",
    "$$\n",
    "\n",
    "This means that the coefficient $ \\beta_i $ is the expected change in the log-odds of the response variable for an infinitesimal change in $ x_i $, holding all other variables constant.\n"
   ]
  },
  {
   "cell_type": "markdown",
   "id": "9d2b5a0f",
   "metadata": {},
   "source": [
    "**log odds is not as easy to interpret**, we will look at another term to discuss about it."
   ]
  },
  {
   "cell_type": "markdown",
   "id": "c287e5fd",
   "metadata": {},
   "source": [
    "#### Odds-Ratio\n",
    "\n",
    "If we want an interpretation on the odds-scale (which is more intuitive), we need to do a little more math.\n",
    "\n",
    "<br><br>\n",
    "\n",
    "Given two events $A$ and $B$, the odds-ratio of $A$ to $B$ is:\n",
    "\n",
    "$$\n",
    "\\text{odds-ratio}(A:B) = \\frac{\\text{odds}(A)}{\\text{odds}(B)} = \\frac{\\pr(A)/\\pr(A^c)}{\\pr(B)/\\pr(B^c)} = \\frac{\\pr(A)\\pr(B^c)}{\\pr(A^c)\\pr(B)}\n",
    "$$\n",
    "\n",
    "<br><br>\n",
    "\n",
    "Now, consider the following events:\n",
    "\n",
    "* $A = \\{y=1 \\mid x_1, x_2, \\dots, x_p  \\text{ and } x_i = x_i\\}$\n",
    "* $B = \\{y=1 \\mid x_1, x_2, \\dots, x_p \\text{ and } x_i = x_i + 1\\}$"
   ]
  },
  {
   "cell_type": "markdown",
   "id": "813f4f01",
   "metadata": {},
   "source": [
    "Now we can say that:\n",
    "\n",
    "$$\n",
    "\\begin{aligned}\n",
    "\\text{odds}(A) &= \\text{odds}(y=1 | x_1, x_2, \\dots, x_p  \\text{ and } x_i = x_i)\\\\ \\\\ \n",
    "&= \\exp(\\beta_0 + \\beta_1 x_1 + \\beta_2 x_2 + \\dots + \\beta_p x_p + \\beta_i x_i)\\\\ \\\\ \\\\ \\\\\n",
    "\\text{odds}(B) &= \\text{odds}(y=1 | x_1, x_2, \\dots, x_p  \\text{ and } x_i = x_i + 1)\\\\ \\\\ \n",
    "&= \\exp(\\beta_0 + \\beta_1 x_1 + \\beta_2 x_2 + \\dots + \\beta_p x_p + \\beta_i x_i + \\beta_i)\\\\ \\\\\n",
    "\\end{aligned}\n",
    "$$\n",
    "\n",
    "$$\n",
    "\\begin{aligned}\n",
    "\\text{odds-ratio}(B:A) &= \\frac{\\exp(\\beta_0 + \\beta_1 x_1 + \\beta_2 x_2 + \\dots + \\beta_p x_p + \\beta_i x_i + \\beta_i)}{\\exp(\\beta_0 + \\beta_1 x_1 + \\beta_2 x_2 + \\dots + \\beta_p x_p + \\beta_i x_i)}\\\\ \\\\\n",
    "&= \\exp(\\beta_i)\n",
    "\\end{aligned}\n",
    "$$"
   ]
  },
  {
   "cell_type": "markdown",
   "id": "2c396d7c",
   "metadata": {},
   "source": [
    "This leads to the following interpretation of the coefficient $\\beta_i$:\n",
    "\n",
    "$$\n",
    "\\exp(\\beta_i) = \\frac{\\text{odds}(y=1 \\mid x_i = x_i + 1)}{\\text{odds}(y=1 \\mid x_i = x_i)}\n",
    "$$\n",
    "\n",
    "i.e., $\\exp(\\beta_i)$ is the **relative change** in odds for **a one unit change** in $x_i$ holding all other variables constant.\n",
    "\n",
    "* $\\beta_i < 0$ implies that a **one unit increase** in $x_i$ **decreases** the odds of the response variable $y=1$.\n",
    "* $\\beta_i > 0$ implies that a **one unit increase** in $x_i$ **increases** the odds of the response variable $y=1$."
   ]
  },
  {
   "cell_type": "code",
   "execution_count": null,
   "id": "8fbcec29",
   "metadata": {},
   "outputs": [],
   "source": []
  },
  {
   "cell_type": "markdown",
   "id": "e0ad6baf",
   "metadata": {},
   "source": [
    "> #### Logistic regression assumptions\n",
    "\n",
    "Given data $(x_1, y_1), (x_2, y_2), \\dots, (x_n, y_n)$, the logistic regression model assumes that:\n",
    "\n",
    "- The response variable $y_i$ is a Bernoulli random variable with parameter $p(x_i)$, i.e.,\n",
    "  \n",
    "  $$\n",
    "  y | x_1, x_2, \\dots, x_p \\sim \\text{Ber}(p(x_1, x_2, \\dots, x_p))\n",
    "  $$\n",
    "\n",
    "- The function $p^{-1}(x)$ is a linear function of the predictor variables, i.e.,\n",
    "\n",
    "  $$\n",
    "  \\sigma^{-1}(p(x)) = \\beta_0 + \\beta_1 x_1 + \\beta_2 x_2 + \\dots + \\beta_p x_p\n",
    "  $$\n",
    "\n",
    "This is the **key** assumption on the data for making inference.\n",
    "\n",
    "- This is the **inverse of teh noraml distribution** CDF (whi it is called probid or logits in libraries)\n",
    "- This help us connect logistic regression to cross entropy"
   ]
  },
  {
   "cell_type": "code",
   "execution_count": null,
   "id": "1e3a3fd9",
   "metadata": {},
   "outputs": [],
   "source": []
  },
  {
   "cell_type": "markdown",
   "id": "c2d12e6d",
   "metadata": {},
   "source": [
    "> #### Maximum likelihood to bernulli distribution\n",
    "**We are essentially trying to maximize the likelihood of our created distribution via logistic regression towards to true binomial distribution of the data (from binary cross entropy).**"
   ]
  },
  {
   "cell_type": "markdown",
   "id": "b8157d28",
   "metadata": {},
   "source": [
    "Given the data $(x_1, y_1), (x_2, y_2), \\dots, (x_n, y_n)$, the likelihood function is the following when data follows a Bernulli distribution:\n",
    "\n",
    "$$\n",
    "L(\\beta) = \\prod_{i=1}^{n} p(x_i)^{y_i} (1 - p(x_i))^{1 - y_i}\n",
    "$$\n",
    "\n",
    "\n",
    "The log-likelihood function is\n",
    "\n",
    "$$\n",
    "\\ell(\\beta) = \\sum_{i=1}^{n} y_i \\log(p(x_i)) + (1 - y_i) \\log(1 - p(x_i))\n",
    "$$\n",
    "\n",
    "$$\n",
    "= \\sum_{i=1}^{n} y_i \\log \\left( \\frac{p(x_i)}{1 - p(x_i)} \\right) + \\log(1 - p(x_i))\n",
    "$$\n",
    "\n",
    "This is the prcise **binary cross entropy** function that we would be using. It is the log likelihood function of MLE that you would get when asssuming that data comes from a bernulli distribution. For bernulli distribution data, we can do MLE with this objective\n",
    "\n",
    "<br><br>\n",
    "\n",
    "Now, let's we can write logistic regression models using the sigmoid function:\n",
    "\n",
    "$$\n",
    "p(x_i) = \\mathbb{P}(y_i = 1 | x_i) = \\sigma(\\beta_0 + \\beta_1 x_{i1} + \\beta_2 x_{i2})\n",
    "$$\n",
    "\n",
    "Then the odds ratio is:\n",
    "\n",
    "$$\n",
    "\\frac{p(x_i)}{1 - p(x_i)} = \\text{odds}(y_i = 1 | x_i) = \\exp(\\beta_0 + \\beta_1 x_{i1} + \\beta_2 x_{i2})\n",
    "$$\n",
    "\n",
    "$$\n",
    "\\Rightarrow \\log \\left( \\frac{p(x_i)}{1 - p(x_i)} \\right) = \\beta_0 + \\beta_1 x_{i1} + \\beta_2 x_{i2}\n",
    "$$\n",
    "\n",
    "The log-likelihood function from MLE above is rewritten as the following when substituting in the logistic components\n",
    "\n",
    "$$\n",
    "\\ell(\\beta_0, \\beta_1, \\beta_2) = \\sum_{i=1}^{n} y_i \\left(\\beta_0 + \\beta_1 x_{i1} + \\beta_2 x_{i2} \\right) + \\log(1 - \\sigma(\\beta_0 + \\beta_1 x_{i1} + \\beta_2 x_{i2}))\n",
    "$$\n",
    "\n",
    "This is the binary cross-entropy loss when using logistic regression."
   ]
  },
  {
   "cell_type": "code",
   "execution_count": null,
   "id": "e83473c8",
   "metadata": {},
   "outputs": [],
   "source": []
  },
  {
   "cell_type": "markdown",
   "id": "1f42d865",
   "metadata": {},
   "source": [
    "> #### Diagnostics\n",
    "There are several ways to diagnose the logistic regression model fit. **Similar with linear regression**.\n"
   ]
  },
  {
   "cell_type": "markdown",
   "id": "5505cc1c",
   "metadata": {},
   "source": [
    "The logistic regression model assumes that:\n",
    "\n",
    "$$\n",
    "y | x \\sim Ber(p(x))\n",
    "$$\n",
    "\n",
    "Therefore, in `statsmodels` the fitted values are given by:\n",
    "\n",
    "$$\n",
    "\\hat{\\beta}(x) = \\hat{\\beta}_0 + \\hat{\\beta}_1 x_1 + \\hat{\\beta}_2 x_2 + \\dots + \\hat{\\beta}_p x_p\n",
    "$$\n",
    "\n",
    "And the **predicted probabilities** are:\n",
    "\n",
    "$$\n",
    "\\hat{y} = \\hat{p}(x) = \\sigma(\\hat{\\beta}(x))\n",
    "$$\n"
   ]
  },
  {
   "cell_type": "code",
   "execution_count": null,
   "id": "5aba4155",
   "metadata": {},
   "outputs": [],
   "source": []
  },
  {
   "cell_type": "markdown",
   "id": "e686ac3f",
   "metadata": {},
   "source": [
    "> #### Fit of model\n",
    "For three of the most popular techniques for assessing model fit in logistic regression, the intuition is as follows:"
   ]
  },
  {
   "cell_type": "markdown",
   "id": "3768d5a2",
   "metadata": {},
   "source": [
    "**1. Heurostic**"
   ]
  },
  {
   "cell_type": "code",
   "execution_count": null,
   "id": "30bc601f",
   "metadata": {},
   "outputs": [],
   "source": []
  },
  {
   "cell_type": "markdown",
   "id": "cb0f2fa7",
   "metadata": {},
   "source": [
    "**2. Confusion matrix**"
   ]
  },
  {
   "cell_type": "code",
   "execution_count": null,
   "id": "d4d967bb",
   "metadata": {},
   "outputs": [],
   "source": []
  },
  {
   "cell_type": "markdown",
   "id": "96393c56",
   "metadata": {},
   "source": [
    "**3. ROC Curve**\n",
    "\n",
    "ROC curve is just taking in confusion matrix and ploting...\n",
    "\n",
    "- Monotnic increaing/flatten\n",
    "\n",
    "- Straightline following slope is just a **random guessing**, area is maximzied when the curve is most away from the $x=y$ line\n",
    "\n",
    "- Though doesn't tell you much interpretation of each of teh coeefficient"
   ]
  },
  {
   "cell_type": "code",
   "execution_count": null,
   "id": "270bab5c",
   "metadata": {},
   "outputs": [],
   "source": []
  },
  {
   "cell_type": "markdown",
   "id": "76b89534",
   "metadata": {},
   "source": [
    "---\n",
    "---"
   ]
  },
  {
   "cell_type": "markdown",
   "id": "5a2cc0d6",
   "metadata": {},
   "source": [
    "# Multinomial Logistic Regression"
   ]
  },
  {
   "cell_type": "markdown",
   "id": "a8ebf81b",
   "metadata": {},
   "source": [
    "When the response variable $y$ has more than two levels, we can extend the logistic regression model to **multinomial logistic regression**."
   ]
  },
  {
   "cell_type": "code",
   "execution_count": null,
   "id": "630714d8",
   "metadata": {},
   "outputs": [],
   "source": []
  },
  {
   "cell_type": "markdown",
   "id": "72326620",
   "metadata": {},
   "source": [
    "The multinomial logistic regression model is a generalization of the logistic regression model to the case where the response variable can take on more than two values, assuming that:\n",
    "\n",
    "$$\n",
    "y | x \\sim \\text{Categorical}(\\pi(x))\n",
    "$$"
   ]
  },
  {
   "cell_type": "markdown",
   "id": "b34eeff1",
   "metadata": {},
   "source": [
    "Here we're going to assume that the parameters $ \\pi(x) $ are given by **bunch of seperate distribution**:\n",
    "\n",
    "$$\n",
    "\\pi(x) = (\\pi_1(x), \\pi_2(x), \\dots, \\pi_k(x))\n",
    "$$\n",
    "\n",
    "where\n",
    "\n",
    "$$\n",
    "\\pi_i(x) = \\mathbb{P}(y = i | x), \\quad \\text{for } i = 2,3,4, \\dots, k\n",
    "$$\n",
    "\n",
    "and the first parameter is given by:\n",
    "\n",
    "$$\n",
    "\\pi_1(x) = 1 - \\sum_{i=2}^{k} \\pi_i(x)\n",
    "$$\n",
    "\n",
    "Additionally,\n",
    "\n",
    "$$\n",
    "\\text{Ber}(p) = \\text{Categorical}(1 - p, p)\n",
    "$$\n"
   ]
  },
  {
   "cell_type": "markdown",
   "id": "fa05c063",
   "metadata": {},
   "source": [
    "Since all of the $\\pi_i(x)$ are probabilities, we can use the logistic regression trick.\n",
    "\n",
    "- There's one **key difference**, the odds has different construction:\n",
    "\n",
    "> **Logistic regression**\n",
    "\n",
    "The odds for logistic regression is  \n",
    "\n",
    "$$\n",
    "\\text{odds}(\\{ y = 1 | x \\}) = \\frac{\\mathbb{P}(y = 1 | x)}{\\mathbb{P}(y = 0 | x)}\n",
    "$$  \n",
    "\n",
    "> **Multinomial logistic regression**s\n",
    "\n",
    "We need to **choose something as the base category**, make it **relative**. The odds looking at is different. The odds for multinomial logistic regression is  \n",
    "\n",
    "$$\n",
    "\\text{odds}(\\{ y = i | x \\}) = \\frac{\\mathbb{P}(y = i | x)}{\\mathbb{P}(y = 1 | x)}\n",
    "$$  \n",
    "\n",
    "The odds are always with reference to the **baseline** category. We need to manually impose to make it a probability."
   ]
  },
  {
   "cell_type": "markdown",
   "id": "bf53fd06",
   "metadata": {},
   "source": [
    "Then we will just fit $k$ logistic model, you are comparing many with whatever you choose as the baseline category.\n",
    "\n",
    "$$\n",
    "\\log \\left( \\frac{\\pi_i(x)}{\\pi_1(x)} \\right) = \\beta_0 + \\beta_1 x_1 + \\beta_2 x_2 + \\dots + \\beta_{ip} x_p, \\quad \\text{for } i = 2, 3, 4, \\dots, k\n",
    "$$\n",
    "\n",
    "Note the $\\beta_{ip}$ term. This is the key difference between the multinomial logistic regression model and the logistic regression model.\n",
    "\n",
    "> *Essentially, the multinomial logistic regression model fits* $(k - 1)$ *different logistic regression models, one for each category, with the first category as the reference category.*\n"
   ]
  },
  {
   "cell_type": "code",
   "execution_count": null,
   "id": "72f74a7a",
   "metadata": {},
   "outputs": [],
   "source": []
  },
  {
   "cell_type": "markdown",
   "id": "d037c339",
   "metadata": {},
   "source": [
    "> #### Interpretation of the coefficients\n",
    "\n",
    "Consider the following events $A$ and $B$:\n",
    "\n",
    "- $ A = \\{ y = i \\mid x_1, x_2, \\dots, x_p, \\text{ and } x_j = x_j \\} $\n",
    "- $ B = \\{ y = i \\mid x_1, x_2, \\dots, x_p, \\text{ and } x_j = x_j + 1 \\} $\n",
    "\n",
    "If we were to fit a multinomial logistic regression model to the data, the interpretation of the coefficients would be:\n",
    "\n",
    "$$\n",
    "\\text{odds-ratio}(B : A) = \\exp(\\beta_{ij})\n",
    "$$\n",
    "\n",
    "Going to the $i$ -th table and look at the $j$ -th row"
   ]
  },
  {
   "cell_type": "code",
   "execution_count": null,
   "id": "4f879b42",
   "metadata": {},
   "outputs": [],
   "source": []
  },
  {
   "cell_type": "markdown",
   "id": "f15473cf",
   "metadata": {},
   "source": [
    "---\n",
    "---"
   ]
  },
  {
   "cell_type": "markdown",
   "id": "3cbe5aee",
   "metadata": {},
   "source": [
    "# Variable Selection"
   ]
  },
  {
   "cell_type": "markdown",
   "id": "f1dd0fac",
   "metadata": {},
   "source": [
    "The reason why we need variable selection is \n",
    "\n",
    "..."
   ]
  },
  {
   "cell_type": "markdown",
   "id": "e5f3b7b1",
   "metadata": {},
   "source": [
    "In class, we discussed three main techniques for variable selection:\n",
    "\n",
    "1. ...\n",
    "2. ...\n",
    "3. ...\n",
    "\n",
    "\n",
    "<br></br>"
   ]
  },
  {
   "cell_type": "markdown",
   "id": "c0495a82",
   "metadata": {
    "vscode": {
     "languageId": "plaintext"
    }
   },
   "source": [
    "##### Selection criterion\n",
    "\n",
    "For the first two methods, we need to define a selection criterion. \n",
    "\n",
    "Some examples of selection criteria include ...\n",
    "\n",
    "* ...\n",
    "* ...\n",
    "* ...\n",
    "* ...\n",
    "* ..."
   ]
  },
  {
   "cell_type": "markdown",
   "id": "07b4b73a",
   "metadata": {},
   "source": [
    "The main drawback with the first method is \n",
    "\n",
    "..."
   ]
  },
  {
   "cell_type": "markdown",
   "id": "76443a1a",
   "metadata": {},
   "source": [
    "In the second method, there are three main methods for selecting the best subset of variables. These are ...\n",
    "\n",
    "1. ...\n",
    "2. ...\n",
    "3. ..."
   ]
  },
  {
   "cell_type": "markdown",
   "id": "2a49e943",
   "metadata": {},
   "source": [
    "For an example of the second method, consider the following example \n",
    "\n",
    "..."
   ]
  },
  {
   "cell_type": "markdown",
   "id": "84c1d8f7",
   "metadata": {},
   "source": [
    "The second method finds a good subset of variables using the following steps:\n",
    "\n",
    "..."
   ]
  },
  {
   "cell_type": "markdown",
   "id": "c2054701",
   "metadata": {},
   "source": [
    "---"
   ]
  }
 ],
 "metadata": {
  "celltoolbar": "Slideshow",
  "hide_input": false,
  "kernelspec": {
   "display_name": "Python 3 (ipykernel)",
   "language": "python",
   "name": "python3"
  },
  "language_info": {
   "codemirror_mode": {
    "name": "ipython",
    "version": 3
   },
   "file_extension": ".py",
   "mimetype": "text/x-python",
   "name": "python",
   "nbconvert_exporter": "python",
   "pygments_lexer": "ipython3",
   "version": "3.8.20"
  },
  "toc": {
   "base_numbering": 2
  }
 },
 "nbformat": 4,
 "nbformat_minor": 5
}
