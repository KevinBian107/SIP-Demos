{
 "cells": [
  {
   "cell_type": "markdown",
   "id": "d499b8cf",
   "metadata": {},
   "source": [
    "# Math 189 Week 8 Summary\n",
    "> NAME: $\\color{blue}{\\text{Kaiwen Bian}}$\n",
    "> \n",
    "> PID: $\\color{blue}{\\text{A17316568}}$\n",
    ">\n",
    "> \n",
    "---"
   ]
  },
  {
   "cell_type": "markdown",
   "id": "1bce0cf8",
   "metadata": {},
   "source": [
    "I certify that the following write-up is my own work, and have abided by the UCSD Academic Integrity Guidelines.\n",
    "\n",
    "- [x] Yes\n",
    "- [ ] No"
   ]
  },
  {
   "cell_type": "markdown",
   "id": "6a1c41b1",
   "metadata": {},
   "source": [
    "% # %load tex-macros\n",
    "<div hidden>\n",
    "\\newcommand{\\require}[1]{}\n",
    "\n",
    "$\\require{begingroup}\\require{newcommand}$\n",
    "$\\long\\def \\forcecommand #1{\\providecommand{#1}{}\\renewcommand{#1}}$\n",
    "$\\forcecommand{\\defeq}{\\stackrel{\\small\\bullet}{=}}$\n",
    "$\\forcecommand{\\ra}{\\rangle}$\n",
    "$\\forcecommand{\\la}{\\langle}$\n",
    "$\\forcecommand{\\pr}{{\\mathbb P}}$\n",
    "$\\forcecommand{\\qr}{{\\mathbb Q}}$\n",
    "$\\forcecommand{\\xv}{{\\boldsymbol{x}}}$\n",
    "$\\forcecommand{\\av}{{\\boldsymbol{a}}}$\n",
    "$\\forcecommand{\\bv}{{\\boldsymbol{b}}}$\n",
    "$\\forcecommand{\\cv}{{\\boldsymbol{c}}}$\n",
    "$\\forcecommand{\\dv}{{\\boldsymbol{d}}}$\n",
    "$\\forcecommand{\\ev}{{\\boldsymbol{e}}}$\n",
    "$\\forcecommand{\\fv}{{\\boldsymbol{f}}}$\n",
    "$\\forcecommand{\\gv}{{\\boldsymbol{g}}}$\n",
    "$\\forcecommand{\\hv}{{\\boldsymbol{h}}}$\n",
    "$\\forcecommand{\\nv}{{\\boldsymbol{n}}}$\n",
    "$\\forcecommand{\\sv}{{\\boldsymbol{s}}}$\n",
    "$\\forcecommand{\\tv}{{\\boldsymbol{t}}}$\n",
    "$\\forcecommand{\\uv}{{\\boldsymbol{u}}}$\n",
    "$\\forcecommand{\\vv}{{\\boldsymbol{v}}}$\n",
    "$\\forcecommand{\\wv}{{\\boldsymbol{w}}}$\n",
    "$\\forcecommand{\\zerov}{{\\mathbf{0}}}$\n",
    "$\\forcecommand{\\onev}{{\\mathbf{0}}}$\n",
    "$\\forcecommand{\\phiv}{{\\boldsymbol{\\phi}}}$\n",
    "$\\forcecommand{\\cc}{{\\check{C}}}$\n",
    "$\\forcecommand{\\xv}{{\\boldsymbol{x}}}$\n",
    "$\\forcecommand{\\Xv}{{\\boldsymbol{X}\\!}}$\n",
    "$\\forcecommand{\\yv}{{\\boldsymbol{y}}}$\n",
    "$\\forcecommand{\\Yv}{{\\boldsymbol{Y}}}$\n",
    "$\\forcecommand{\\zv}{{\\boldsymbol{z}}}$\n",
    "$\\forcecommand{\\Zv}{{\\boldsymbol{Z}}}$\n",
    "$\\forcecommand{\\Iv}{{\\boldsymbol{I}}}$\n",
    "$\\forcecommand{\\Jv}{{\\boldsymbol{J}}}$\n",
    "$\\forcecommand{\\Cv}{{\\boldsymbol{C}}}$\n",
    "$\\forcecommand{\\Ev}{{\\boldsymbol{E}}}$\n",
    "$\\forcecommand{\\Fv}{{\\boldsymbol{F}}}$\n",
    "$\\forcecommand{\\Gv}{{\\boldsymbol{G}}}$\n",
    "$\\forcecommand{\\Hv}{{\\boldsymbol{H}}}$\n",
    "$\\forcecommand{\\alphav}{{\\boldsymbol{\\alpha}}}$\n",
    "$\\forcecommand{\\epsilonv}{{\\boldsymbol{\\epsilon}}}$\n",
    "$\\forcecommand{\\betav}{{\\boldsymbol{\\beta}}}$\n",
    "$\\forcecommand{\\deltav}{{\\boldsymbol{\\delta}}}$\n",
    "$\\forcecommand{\\gammav}{{\\boldsymbol{\\gamma}}}$\n",
    "$\\forcecommand{\\etav}{{\\boldsymbol{\\eta}}}$\n",
    "$\\forcecommand{\\piv}{{\\boldsymbol{\\pi}}}$\n",
    "$\\forcecommand{\\thetav}{{\\boldsymbol{\\theta}}}$\n",
    "$\\forcecommand{\\tauv}{{\\boldsymbol{\\tau}}}$\n",
    "$\\forcecommand{\\muv}{{\\boldsymbol{\\mu}}}$\n",
    "$%$\n",
    "$\\forcecommand{\\sd}{\\text{SD}}$\n",
    "$\\forcecommand{\\se}{\\text{SE}}$\n",
    "$\\forcecommand{\\med}{\\text{median}}$\n",
    "$\\forcecommand{\\median}{\\text{median}}$\n",
    "$%$\n",
    "$\\forcecommand{\\supp}{\\text{supp}}$\n",
    "$\\forcecommand{\\E}{\\mathbb{E}}$\n",
    "$\\forcecommand{\\var}{\\text{Var}}$\n",
    "$\\forcecommand{\\Ber}{{\\text{Ber}}}$\n",
    "$\\forcecommand{\\Bin}{{\\text{Bin}}}$\n",
    "$\\forcecommand{\\Geo}{{\\text{Geo}}}$\n",
    "$\\forcecommand{\\Unif}{{\\text{Unif}}}$\n",
    "$\\forcecommand{\\Poi}{{\\text{Poi}}}$\n",
    "$\\forcecommand{\\Exp}{{\\text{Exp}}}$\n",
    "$\\forcecommand{\\Chisq}{{\\chi^2}}$\n",
    "$\\forcecommand{\\N}{\\mathbb{N}}$\n",
    "$\\forcecommand{\\iid}{{\\stackrel{iid}{\\sim}}}$\n",
    "$\\forcecommand{\\px}{p_{X}}$\n",
    "$\\forcecommand{\\fx}{f_{X}}$\n",
    "$\\forcecommand{\\Fx}{F_{X}}$\n",
    "$\\forcecommand{\\py}{p_{Y}}$\n",
    "$\\forcecommand{\\pxy}{p_{X,Y}}$\n",
    "$\\forcecommand{\\po}{{p_0}}$\n",
    "$\\forcecommand{\\pa}{{p_a}}$\n",
    "$\\forcecommand{\\Xbar}{\\overline{X}}$\n",
    "$\\forcecommand{\\Ybar}{\\overline{Y}}$\n",
    "$\\forcecommand{\\Zbar}{\\overline{Z}}$\n",
    "$\\forcecommand{\\nXbar}{n \\cdot \\overline{X}}$\n",
    "$\\forcecommand{\\nYbar}{n \\cdot \\overline{Y}}$\n",
    "$\\forcecommand{\\nZbar}{n \\cdot \\overline{Z}}$\n",
    "$\\forcecommand{\\Xn}{X_1, X_2, \\dots, X_n}$\n",
    "$\\forcecommand{\\Xm}{{X_1, X_2, \\dots, X_m}}$\n",
    "$\\forcecommand{\\Yn}{Y_1, Y_2, \\dots, Y_n}$\n",
    "$\\forcecommand{\\Ym}{{Y_1, Y_2, \\dots, Y_m}}$\n",
    "$\\forcecommand{\\sumXn}{X_1 + X_2 + \\dots + X_n}$\n",
    "$\\forcecommand{\\sumym}{Y_1 + Y_2 + \\dots + Y_m}$\n",
    "$\\forcecommand{\\la}{\\ell_\\alpha}$\n",
    "$\\forcecommand{\\ua}{u_\\alpha}$\n",
    "$\\forcecommand{\\at}{{\\alpha/2}}$\n",
    "$\\forcecommand{\\mux}{\\mu_{X}}$\n",
    "$\\forcecommand{\\muy}{\\mu_{Y}}$\n",
    "$\\forcecommand{\\sx}{\\sigma_{X}}$\n",
    "$\\forcecommand{\\sy}{\\sigma_{Y}}$\n",
    "$\\forcecommand{\\ci}{\\text{CI}}$\n",
    "$\\forcecommand{\\pvalue}{$p$-value}$\n",
    "$\\forcecommand{\\Ho}{H_{0}}$\n",
    "$\\forcecommand{\\Ha}{H_{a}}$\n",
    "\n",
    "\\vskip-\\parskip\n",
    "\\vskip-\\baselineskip\n",
    "</div>"
   ]
  },
  {
   "cell_type": "markdown",
   "id": "fbfec7ec",
   "metadata": {},
   "source": [
    "---"
   ]
  },
  {
   "cell_type": "code",
   "execution_count": 40,
   "id": "bce66805",
   "metadata": {},
   "outputs": [],
   "source": [
    "import numpy as np\n",
    "import scipy.stats as stats\n",
    "import sklearn.metrics as metrics\n",
    "\n",
    "import warnings\n",
    "warnings.simplefilter(action='ignore', category=FutureWarning)\n",
    "import pandas as pd\n",
    "import seaborn as sns\n",
    "\n",
    "import plotly\n",
    "import plotly.express as px\n",
    "import plotly.graph_objects as go\n",
    "import plotly.io as pio\n",
    "# pio.renderers.default='notebook'\n",
    "\n",
    "import matplotlib\n",
    "import matplotlib.pyplot as plt\n",
    "import seaborn as sns\n",
    "\n",
    "import statsmodels\n",
    "import statsmodels.api as sm\n",
    "import statsmodels.formula.api as smf\n",
    "from statsmodels.tsa.stattools import acf\n",
    "\n",
    "# Optional \n",
    "import ipywidgets as widgets\n",
    "from ipywidgets import interact, interactive, fixed, interact_manual\n",
    "matplotlib.rcParams['figure.figsize'] = 7, 7\n",
    "%matplotlib inline"
   ]
  },
  {
   "cell_type": "code",
   "execution_count": 41,
   "id": "9052c9ff",
   "metadata": {},
   "outputs": [],
   "source": [
    "def plot_X(X, ax, type='pmf', **kwargs):\n",
    "    ax.set_xlabel('Support')\n",
    "    ax.set_title(f'{X.dist.name}{X.args}')\n",
    "    \n",
    "    min_X, max_X = X.ppf((1e-3, 1-1e-3))\n",
    "    supp_X = np.linspace(min_X-1, max_X + 1, 200)\n",
    "    \n",
    "    if type == 'pmf':\n",
    "        supp_X = np.arange(min_X-1, max_X + 1)\n",
    "        ax.bar(supp_X, X.pmf(supp_X), **kwargs)\n",
    "        ax.set_ylabel('PMF')\n",
    "    elif type == 'pdf':\n",
    "        ax.plot(supp_X, X.pdf(supp_X), **kwargs)\n",
    "        ax.set_ylabel('PDF')\n",
    "    elif type == 'cdf':\n",
    "        ax.plot(supp_X, X.cdf(supp_X), **kwargs)\n",
    "        ax.set_ylabel('CDF')\n",
    "    else:\n",
    "        raise ValueError('type must be pmf or cdf')\n",
    "\n",
    "def decision(pvalue, alpha):\n",
    "    if pvalue < alpha:\n",
    "        print(f'reject H0: pvalue={pvalue} < {alpha}')  \n",
    "    else: \n",
    "        print(f'fail to reject H0: pvalue={pvalue} ≥ {alpha}')\n",
    "\n",
    "def standardize(X):\n",
    "    return (X - X.mean()) / X.std()\n",
    "\n",
    "\n",
    "def make_data(errors):\n",
    "    n = len(errors)\n",
    "    x1 = np.linspace(0, 1, n)\n",
    "    x2 = np.random.rand(n)\n",
    "\n",
    "    return pd.DataFrame({\n",
    "        'x1': x1, \n",
    "        'x2': x2, \n",
    "        'y': 2 + 3*x1 + 4*x2 + errors\n",
    "    })\n",
    "\n",
    "def plot_regression(data, fit, residuals=True):\n",
    "    b = fit.params\n",
    "    b0, b1, b2 = *b, *np.zeros(3 - len(b))\n",
    "    y, x1, x2 = data.y, data.x1, data.x2\n",
    "    fig = px.scatter_3d(x=x1, y=x2, z=y)\n",
    "    fig.update_layout(\n",
    "        scene = dict(\n",
    "            xaxis_title='X1',\n",
    "            yaxis_title='X2',\n",
    "            zaxis_title='Y'),\n",
    "            margin=dict(l=0, r=0, b=0, t=0\n",
    "        )\n",
    "    )\n",
    "    fig.update_traces(marker=dict(size=5))\n",
    "    \n",
    "    x1_grid, x2_grid = np.meshgrid(x1, x2)\n",
    "    yhat = b0 + (b1 * x1_grid) + (b2 * x2_grid)\n",
    "    fig.add_trace(\n",
    "        go.Surface(x=x1_grid, y=x2_grid, z=yhat, opacity=0.5,colorscale='Gray')\n",
    "    )\n",
    "    if residuals:\n",
    "        for i in range(len(x1)):\n",
    "            fig.add_trace(\n",
    "                go.Scatter3d(x=[x1[i], x1[i]], y=[x2[i], x2[i]], z=[b0 + b1*x1[i] + b2*x2[i], y[i]], mode='lines', line=dict(color='black', width=2))\n",
    "            )\n",
    "    fig.update_layout(showlegend=False, scene_camera=dict(eye=dict(x=2.0, y=0.5, z=0.1)))\n",
    "    fig.show()"
   ]
  },
  {
   "cell_type": "markdown",
   "id": "15c6dc53",
   "metadata": {},
   "source": [
    "## Key Takeaways from Week 8"
   ]
  },
  {
   "cell_type": "markdown",
   "id": "cc992f31",
   "metadata": {},
   "source": [
    "#### Tuesday: \n",
    "\n",
    "We finished our discussion towards odds and logistic regression y examining the effects of each coefficients and looking at how logistic fits into teh picture of doing MLE with bernulli distribution. In addition, we examined different methods of fitting the data as well as extending logistic regression to multiple cases in multinomial distribution."
   ]
  },
  {
   "cell_type": "markdown",
   "id": "6d69de7b",
   "metadata": {},
   "source": [
    "#### Thursday\n",
    "\n",
    "We finished off our discussion with multinomial logistic regression and then started to discuss how to conduct a balanced variable selection since we know that enumerating all the possible combination is exponential complexity. We examined different selection criterions followed by step-swise selection method + shrinking methods."
   ]
  },
  {
   "cell_type": "markdown",
   "id": "aaadbca8",
   "metadata": {},
   "source": [
    "---"
   ]
  },
  {
   "cell_type": "markdown",
   "id": "2915e324",
   "metadata": {},
   "source": [
    "# Rest of Logistic Regression"
   ]
  },
  {
   "cell_type": "markdown",
   "id": "6b2a08f9",
   "metadata": {},
   "source": [
    "> #### Interpretation of coefficients\n",
    "\n",
    "The interprettaion of it comes from a log scale. Given the logistic regression model:\n",
    "\n",
    "$$\n",
    "\\text{log-odds}(y = 1 \\mid x_1, x_2, \\dots, x_p) = \\beta_0 + \\beta_1 x_1 + \\beta_2 x_2 + \\dots + \\beta_p x_p\n",
    "$$\n",
    "\n",
    "The partial derivative of the log-odds with respect to $ x_i $ is:\n",
    "\n",
    "$$\n",
    "\\frac{\\partial}{\\partial x_i} \\text{log-odds}(y = 1 \\mid x_1, x_2, \\dots, x_p) = \\beta_i\n",
    "$$\n",
    "\n",
    "This means that the coefficient $ \\beta_i $ is the expected change in the log-odds of the response variable for an infinitesimal change in $ x_i $, holding all other variables constant.\n"
   ]
  },
  {
   "cell_type": "markdown",
   "id": "9d2b5a0f",
   "metadata": {},
   "source": [
    "**log odds is not as easy to interpret**, we will look at another term to discuss about it."
   ]
  },
  {
   "cell_type": "markdown",
   "id": "c287e5fd",
   "metadata": {},
   "source": [
    "#### Odds-Ratio\n",
    "\n",
    "If we want an interpretation on the odds-scale (which is more intuitive), we need to do a little more math.\n",
    "\n",
    "<br><br>\n",
    "\n",
    "Given two events $A$ and $B$, the odds-ratio of $A$ to $B$ is:\n",
    "\n",
    "$$\n",
    "\\text{odds-ratio}(A:B) = \\frac{\\text{odds}(A)}{\\text{odds}(B)} = \\frac{\\pr(A)/\\pr(A^c)}{\\pr(B)/\\pr(B^c)} = \\frac{\\pr(A)\\pr(B^c)}{\\pr(A^c)\\pr(B)}\n",
    "$$\n",
    "\n",
    "<br><br>\n",
    "\n",
    "Now, consider the following events:\n",
    "\n",
    "* $A = \\{y=1 \\mid x_1, x_2, \\dots, x_p  \\text{ and } x_i = x_i\\}$\n",
    "* $B = \\{y=1 \\mid x_1, x_2, \\dots, x_p \\text{ and } x_i = x_i + 1\\}$"
   ]
  },
  {
   "cell_type": "markdown",
   "id": "813f4f01",
   "metadata": {},
   "source": [
    "Now we can say that:\n",
    "\n",
    "$$\n",
    "\\begin{aligned}\n",
    "\\text{odds}(A) &= \\text{odds}(y=1 | x_1, x_2, \\dots, x_p  \\text{ and } x_i = x_i)\\\\ \\\\ \n",
    "&= \\exp(\\beta_0 + \\beta_1 x_1 + \\beta_2 x_2 + \\dots + \\beta_p x_p + \\beta_i x_i)\\\\ \\\\ \\\\ \\\\\n",
    "\\text{odds}(B) &= \\text{odds}(y=1 | x_1, x_2, \\dots, x_p  \\text{ and } x_i = x_i + 1)\\\\ \\\\ \n",
    "&= \\exp(\\beta_0 + \\beta_1 x_1 + \\beta_2 x_2 + \\dots + \\beta_p x_p + \\beta_i x_i + \\beta_i)\\\\ \\\\\n",
    "\\end{aligned}\n",
    "$$\n",
    "\n",
    "$$\n",
    "\\begin{aligned}\n",
    "\\text{odds-ratio}(B:A) &= \\frac{\\exp(\\beta_0 + \\beta_1 x_1 + \\beta_2 x_2 + \\dots + \\beta_p x_p + \\beta_i x_i + \\beta_i)}{\\exp(\\beta_0 + \\beta_1 x_1 + \\beta_2 x_2 + \\dots + \\beta_p x_p + \\beta_i x_i)}\\\\ \\\\\n",
    "&= \\exp(\\beta_i)\n",
    "\\end{aligned}\n",
    "$$"
   ]
  },
  {
   "cell_type": "markdown",
   "id": "2c396d7c",
   "metadata": {},
   "source": [
    "This leads to the following interpretation of the coefficient $\\beta_i$:\n",
    "\n",
    "$$\n",
    "\\exp(\\beta_i) = \\frac{\\text{odds}(y=1 \\mid x_i = x_i + 1)}{\\text{odds}(y=1 \\mid x_i = x_i)}\n",
    "$$\n",
    "\n",
    "i.e., $\\exp(\\beta_i)$ is the **relative change** in odds for **a one unit change** in $x_i$ holding all other variables constant.\n",
    "\n",
    "* $\\beta_i < 0$ implies that a **one unit increase** in $x_i$ **decreases** the odds of the response variable $y=1$.\n",
    "* $\\beta_i > 0$ implies that a **one unit increase** in $x_i$ **increases** the odds of the response variable $y=1$."
   ]
  },
  {
   "cell_type": "code",
   "execution_count": 42,
   "id": "8fbcec29",
   "metadata": {},
   "outputs": [
    {
     "data": {
      "text/html": [
       "<div>\n",
       "<style scoped>\n",
       "    .dataframe tbody tr th:only-of-type {\n",
       "        vertical-align: middle;\n",
       "    }\n",
       "\n",
       "    .dataframe tbody tr th {\n",
       "        vertical-align: top;\n",
       "    }\n",
       "\n",
       "    .dataframe thead th {\n",
       "        text-align: right;\n",
       "    }\n",
       "</style>\n",
       "<table border=\"1\" class=\"dataframe\">\n",
       "  <thead>\n",
       "    <tr style=\"text-align: right;\">\n",
       "      <th></th>\n",
       "      <th>age</th>\n",
       "      <th>job</th>\n",
       "      <th>marital</th>\n",
       "      <th>education</th>\n",
       "      <th>default</th>\n",
       "      <th>balance</th>\n",
       "      <th>housing</th>\n",
       "      <th>loan</th>\n",
       "      <th>day_of_week</th>\n",
       "      <th>month</th>\n",
       "      <th>duration</th>\n",
       "      <th>campaign</th>\n",
       "      <th>previous</th>\n",
       "      <th>outcome</th>\n",
       "    </tr>\n",
       "  </thead>\n",
       "  <tbody>\n",
       "    <tr>\n",
       "      <th>0</th>\n",
       "      <td>58</td>\n",
       "      <td>management</td>\n",
       "      <td>married</td>\n",
       "      <td>tertiary</td>\n",
       "      <td>no</td>\n",
       "      <td>2143</td>\n",
       "      <td>yes</td>\n",
       "      <td>no</td>\n",
       "      <td>5</td>\n",
       "      <td>may</td>\n",
       "      <td>261</td>\n",
       "      <td>1</td>\n",
       "      <td>0</td>\n",
       "      <td>0</td>\n",
       "    </tr>\n",
       "    <tr>\n",
       "      <th>1</th>\n",
       "      <td>44</td>\n",
       "      <td>technician</td>\n",
       "      <td>single</td>\n",
       "      <td>secondary</td>\n",
       "      <td>no</td>\n",
       "      <td>29</td>\n",
       "      <td>yes</td>\n",
       "      <td>no</td>\n",
       "      <td>5</td>\n",
       "      <td>may</td>\n",
       "      <td>151</td>\n",
       "      <td>1</td>\n",
       "      <td>0</td>\n",
       "      <td>0</td>\n",
       "    </tr>\n",
       "    <tr>\n",
       "      <th>2</th>\n",
       "      <td>33</td>\n",
       "      <td>entrepreneur</td>\n",
       "      <td>married</td>\n",
       "      <td>secondary</td>\n",
       "      <td>no</td>\n",
       "      <td>2</td>\n",
       "      <td>yes</td>\n",
       "      <td>yes</td>\n",
       "      <td>5</td>\n",
       "      <td>may</td>\n",
       "      <td>76</td>\n",
       "      <td>1</td>\n",
       "      <td>0</td>\n",
       "      <td>0</td>\n",
       "    </tr>\n",
       "    <tr>\n",
       "      <th>5</th>\n",
       "      <td>35</td>\n",
       "      <td>management</td>\n",
       "      <td>married</td>\n",
       "      <td>tertiary</td>\n",
       "      <td>no</td>\n",
       "      <td>231</td>\n",
       "      <td>yes</td>\n",
       "      <td>no</td>\n",
       "      <td>5</td>\n",
       "      <td>may</td>\n",
       "      <td>139</td>\n",
       "      <td>1</td>\n",
       "      <td>0</td>\n",
       "      <td>0</td>\n",
       "    </tr>\n",
       "    <tr>\n",
       "      <th>6</th>\n",
       "      <td>28</td>\n",
       "      <td>management</td>\n",
       "      <td>single</td>\n",
       "      <td>tertiary</td>\n",
       "      <td>no</td>\n",
       "      <td>447</td>\n",
       "      <td>yes</td>\n",
       "      <td>yes</td>\n",
       "      <td>5</td>\n",
       "      <td>may</td>\n",
       "      <td>217</td>\n",
       "      <td>1</td>\n",
       "      <td>0</td>\n",
       "      <td>0</td>\n",
       "    </tr>\n",
       "    <tr>\n",
       "      <th>7</th>\n",
       "      <td>42</td>\n",
       "      <td>entrepreneur</td>\n",
       "      <td>divorced</td>\n",
       "      <td>tertiary</td>\n",
       "      <td>yes</td>\n",
       "      <td>2</td>\n",
       "      <td>yes</td>\n",
       "      <td>no</td>\n",
       "      <td>5</td>\n",
       "      <td>may</td>\n",
       "      <td>380</td>\n",
       "      <td>1</td>\n",
       "      <td>0</td>\n",
       "      <td>0</td>\n",
       "    </tr>\n",
       "    <tr>\n",
       "      <th>8</th>\n",
       "      <td>58</td>\n",
       "      <td>retired</td>\n",
       "      <td>married</td>\n",
       "      <td>primary</td>\n",
       "      <td>no</td>\n",
       "      <td>121</td>\n",
       "      <td>yes</td>\n",
       "      <td>no</td>\n",
       "      <td>5</td>\n",
       "      <td>may</td>\n",
       "      <td>50</td>\n",
       "      <td>1</td>\n",
       "      <td>0</td>\n",
       "      <td>0</td>\n",
       "    </tr>\n",
       "    <tr>\n",
       "      <th>9</th>\n",
       "      <td>43</td>\n",
       "      <td>technician</td>\n",
       "      <td>single</td>\n",
       "      <td>secondary</td>\n",
       "      <td>no</td>\n",
       "      <td>593</td>\n",
       "      <td>yes</td>\n",
       "      <td>no</td>\n",
       "      <td>5</td>\n",
       "      <td>may</td>\n",
       "      <td>55</td>\n",
       "      <td>1</td>\n",
       "      <td>0</td>\n",
       "      <td>0</td>\n",
       "    </tr>\n",
       "    <tr>\n",
       "      <th>10</th>\n",
       "      <td>41</td>\n",
       "      <td>admin.</td>\n",
       "      <td>divorced</td>\n",
       "      <td>secondary</td>\n",
       "      <td>no</td>\n",
       "      <td>270</td>\n",
       "      <td>yes</td>\n",
       "      <td>no</td>\n",
       "      <td>5</td>\n",
       "      <td>may</td>\n",
       "      <td>222</td>\n",
       "      <td>1</td>\n",
       "      <td>0</td>\n",
       "      <td>0</td>\n",
       "    </tr>\n",
       "    <tr>\n",
       "      <th>11</th>\n",
       "      <td>29</td>\n",
       "      <td>admin.</td>\n",
       "      <td>single</td>\n",
       "      <td>secondary</td>\n",
       "      <td>no</td>\n",
       "      <td>390</td>\n",
       "      <td>yes</td>\n",
       "      <td>no</td>\n",
       "      <td>5</td>\n",
       "      <td>may</td>\n",
       "      <td>137</td>\n",
       "      <td>1</td>\n",
       "      <td>0</td>\n",
       "      <td>0</td>\n",
       "    </tr>\n",
       "  </tbody>\n",
       "</table>\n",
       "</div>"
      ],
      "text/plain": [
       "    age           job   marital  education default  balance housing loan  \\\n",
       "0    58    management   married   tertiary      no     2143     yes   no   \n",
       "1    44    technician    single  secondary      no       29     yes   no   \n",
       "2    33  entrepreneur   married  secondary      no        2     yes  yes   \n",
       "5    35    management   married   tertiary      no      231     yes   no   \n",
       "6    28    management    single   tertiary      no      447     yes  yes   \n",
       "7    42  entrepreneur  divorced   tertiary     yes        2     yes   no   \n",
       "8    58       retired   married    primary      no      121     yes   no   \n",
       "9    43    technician    single  secondary      no      593     yes   no   \n",
       "10   41        admin.  divorced  secondary      no      270     yes   no   \n",
       "11   29        admin.    single  secondary      no      390     yes   no   \n",
       "\n",
       "   day_of_week month  duration  campaign  previous  outcome  \n",
       "0            5   may       261         1         0        0  \n",
       "1            5   may       151         1         0        0  \n",
       "2            5   may        76         1         0        0  \n",
       "5            5   may       139         1         0        0  \n",
       "6            5   may       217         1         0        0  \n",
       "7            5   may       380         1         0        0  \n",
       "8            5   may        50         1         0        0  \n",
       "9            5   may        55         1         0        0  \n",
       "10           5   may       222         1         0        0  \n",
       "11           5   may       137         1         0        0  "
      ]
     },
     "execution_count": 42,
     "metadata": {},
     "output_type": "execute_result"
    }
   ],
   "source": [
    "from ucimlrepo import fetch_ucirepo \n",
    "bank_marketing = fetch_ucirepo(id=222) \n",
    "df = bank_marketing.data.features\n",
    "df['outcome'] = bank_marketing.data.targets['y'].transform(lambda x: 1 if x == 'yes' else 0)\n",
    "to_drop = ['contact', 'poutcome', 'pdays', 'pdays']\n",
    "df = df.drop(columns=to_drop)\n",
    "df = df.dropna()\n",
    "categorical_vars = ['job', 'marital', 'education', 'default', 'housing', 'loan', 'month', 'day_of_week']\n",
    "\n",
    "for var in categorical_vars:\n",
    "    df[var] = df[var].astype('category')\n",
    "\n",
    "df.head(10)"
   ]
  },
  {
   "cell_type": "code",
   "execution_count": 43,
   "id": "545d5ba9",
   "metadata": {},
   "outputs": [
    {
     "name": "stdout",
     "output_type": "stream",
     "text": [
      "Optimization terminated successfully.\n",
      "         Current function value: 0.290711\n",
      "         Iterations 7\n",
      "========================================================================================\n",
      "                           coef    std err          z      P>|z|      [0.025      0.975]\n",
      "----------------------------------------------------------------------------------------\n",
      "Intercept               -3.1884      0.068    -46.610      0.000      -3.322      -3.054\n",
      "job[T.blue-collar]      -0.7510      0.065    -11.497      0.000      -0.879      -0.623\n",
      "job[T.entrepreneur]     -0.5337      0.117     -4.562      0.000      -0.763      -0.304\n",
      "job[T.housemaid]        -0.4497      0.125     -3.604      0.000      -0.694      -0.205\n",
      "job[T.management]        0.0655      0.058      1.131      0.258      -0.048       0.179\n",
      "job[T.retired]           0.7761      0.075     10.362      0.000       0.629       0.923\n",
      "job[T.self-employed]    -0.1936      0.101     -1.919      0.055      -0.391       0.004\n",
      "job[T.services]         -0.5137      0.078     -6.573      0.000      -0.667      -0.361\n",
      "job[T.student]           1.0169      0.099     10.270      0.000       0.823       1.211\n",
      "job[T.technician]       -0.1902      0.062     -3.049      0.002      -0.313      -0.068\n",
      "job[T.unemployed]        0.1146      0.099      1.158      0.247      -0.079       0.309\n",
      "marital[T.married]      -0.1049      0.054     -1.935      0.053      -0.211       0.001\n",
      "marital[T.single]        0.2924      0.058      5.052      0.000       0.179       0.406\n",
      "default[T.yes]          -0.5434      0.160     -3.389      0.001      -0.858      -0.229\n",
      "duration                 0.0037    5.8e-05     63.158      0.000       0.004       0.004\n",
      "balance               3.181e-05    4.4e-06      7.231      0.000    2.32e-05    4.04e-05\n",
      "========================================================================================\n"
     ]
    }
   ],
   "source": [
    "logistic_model = smf.logit('outcome ~ duration + balance + job + marital + default', data=df).fit()\n",
    "\n",
    "print(logistic_model.summary().tables[1])"
   ]
  },
  {
   "cell_type": "markdown",
   "id": "e0ad6baf",
   "metadata": {},
   "source": [
    "> #### Logistic regression assumptions\n",
    "\n",
    "Given data $(x_1, y_1), (x_2, y_2), \\dots, (x_n, y_n)$, the logistic regression model assumes that:\n",
    "\n",
    "- The response variable $y_i$ is a Bernoulli random variable with parameter $p(x_i)$, i.e.,\n",
    "  \n",
    "  $$\n",
    "  y | x_1, x_2, \\dots, x_p \\sim \\text{Ber}(p(x_1, x_2, \\dots, x_p))\n",
    "  $$\n",
    "\n",
    "- The function $p^{-1}(x)$ is a linear function of the predictor variables, i.e.,\n",
    "\n",
    "  $$\n",
    "  \\sigma^{-1}(p(x)) = \\beta_0 + \\beta_1 x_1 + \\beta_2 x_2 + \\dots + \\beta_p x_p\n",
    "  $$\n",
    "\n",
    "This is the **key** assumption on the data for making inference.\n",
    "\n",
    "- This is the **inverse of the noraml distribution** CDF (whi it is called probid or logits in libraries)\n",
    "- This help us connect logistic regression to cross entropy"
   ]
  },
  {
   "cell_type": "code",
   "execution_count": 44,
   "id": "1e3a3fd9",
   "metadata": {},
   "outputs": [
    {
     "data": {
      "text/html": [
       "<div>\n",
       "<style scoped>\n",
       "    .dataframe tbody tr th:only-of-type {\n",
       "        vertical-align: middle;\n",
       "    }\n",
       "\n",
       "    .dataframe tbody tr th {\n",
       "        vertical-align: top;\n",
       "    }\n",
       "\n",
       "    .dataframe thead th {\n",
       "        text-align: right;\n",
       "    }\n",
       "</style>\n",
       "<table border=\"1\" class=\"dataframe\">\n",
       "  <thead>\n",
       "    <tr style=\"text-align: right;\">\n",
       "      <th></th>\n",
       "      <th>x1</th>\n",
       "      <th>x2</th>\n",
       "      <th>y</th>\n",
       "    </tr>\n",
       "  </thead>\n",
       "  <tbody>\n",
       "    <tr>\n",
       "      <th>0</th>\n",
       "      <td>-0.851041</td>\n",
       "      <td>0.973446</td>\n",
       "      <td>0</td>\n",
       "    </tr>\n",
       "    <tr>\n",
       "      <th>1</th>\n",
       "      <td>1.012581</td>\n",
       "      <td>1.423022</td>\n",
       "      <td>1</td>\n",
       "    </tr>\n",
       "    <tr>\n",
       "      <th>2</th>\n",
       "      <td>-1.230501</td>\n",
       "      <td>0.862750</td>\n",
       "      <td>0</td>\n",
       "    </tr>\n",
       "    <tr>\n",
       "      <th>3</th>\n",
       "      <td>-0.882246</td>\n",
       "      <td>0.798063</td>\n",
       "      <td>0</td>\n",
       "    </tr>\n",
       "    <tr>\n",
       "      <th>4</th>\n",
       "      <td>0.937673</td>\n",
       "      <td>-1.218752</td>\n",
       "      <td>1</td>\n",
       "    </tr>\n",
       "    <tr>\n",
       "      <th>5</th>\n",
       "      <td>0.576982</td>\n",
       "      <td>-0.678274</td>\n",
       "      <td>1</td>\n",
       "    </tr>\n",
       "    <tr>\n",
       "      <th>6</th>\n",
       "      <td>-1.730416</td>\n",
       "      <td>0.979692</td>\n",
       "      <td>0</td>\n",
       "    </tr>\n",
       "    <tr>\n",
       "      <th>7</th>\n",
       "      <td>2.136527</td>\n",
       "      <td>0.355741</td>\n",
       "      <td>1</td>\n",
       "    </tr>\n",
       "    <tr>\n",
       "      <th>8</th>\n",
       "      <td>-0.769747</td>\n",
       "      <td>-1.417558</td>\n",
       "      <td>1</td>\n",
       "    </tr>\n",
       "    <tr>\n",
       "      <th>9</th>\n",
       "      <td>-0.218612</td>\n",
       "      <td>0.870018</td>\n",
       "      <td>0</td>\n",
       "    </tr>\n",
       "  </tbody>\n",
       "</table>\n",
       "</div>"
      ],
      "text/plain": [
       "         x1        x2  y\n",
       "0 -0.851041  0.973446  0\n",
       "1  1.012581  1.423022  1\n",
       "2 -1.230501  0.862750  0\n",
       "3 -0.882246  0.798063  0\n",
       "4  0.937673 -1.218752  1\n",
       "5  0.576982 -0.678274  1\n",
       "6 -1.730416  0.979692  0\n",
       "7  2.136527  0.355741  1\n",
       "8 -0.769747 -1.417558  1\n",
       "9 -0.218612  0.870018  0"
      ]
     },
     "execution_count": 44,
     "metadata": {},
     "output_type": "execute_result"
    }
   ],
   "source": [
    "# generate y | x from bernoulli\n",
    "\n",
    "sigma = lambda x: np.exp(x) / (1 + np.exp(x))\n",
    "p_inv = lambda x1, x2: 3 + 4 * x1 - 2 * x2\n",
    "\n",
    "x1 = np.random.normal(0, 1, 1000)\n",
    "x2 = np.random.normal(0, 1, 1000)\n",
    "\n",
    "p = sigma(p_inv(x1, x2))\n",
    "y = stats.bernoulli(p).rvs(1000)\n",
    "df = pd.DataFrame({'x1': x1, 'x2': x2, 'y': y})\n",
    "df.head(10)"
   ]
  },
  {
   "cell_type": "markdown",
   "id": "c2d12e6d",
   "metadata": {},
   "source": [
    "> #### Maximum likelihood to bernulli distribution\n",
    "**We are essentially trying to maximize the likelihood of our created distribution via logistic regression towards to true binomial distribution of the data (from binary cross entropy).**"
   ]
  },
  {
   "cell_type": "markdown",
   "id": "b8157d28",
   "metadata": {},
   "source": [
    "Given the data $(x_1, y_1), (x_2, y_2), \\dots, (x_n, y_n)$, the likelihood function is the following when data follows a Bernulli distribution:\n",
    "\n",
    "$$\n",
    "L(\\beta) = \\prod_{i=1}^{n} p(x_i)^{y_i} (1 - p(x_i))^{1 - y_i}\n",
    "$$\n",
    "\n",
    "\n",
    "The log-likelihood function is\n",
    "\n",
    "$$\n",
    "\\ell(\\beta) = \\sum_{i=1}^{n} y_i \\log(p(x_i)) + (1 - y_i) \\log(1 - p(x_i))\n",
    "$$\n",
    "\n",
    "$$\n",
    "= \\sum_{i=1}^{n} y_i \\log \\left( \\frac{p(x_i)}{1 - p(x_i)} \\right) + \\log(1 - p(x_i))\n",
    "$$\n",
    "\n",
    "This is the prcise **binary cross entropy** function that we would be using. It is the log likelihood function of MLE that you would get when asssuming that data comes from a bernulli distribution. For bernulli distribution data, we can do MLE with this objective\n",
    "\n",
    "<br><br>\n",
    "\n",
    "Now, let's we can write logistic regression models using the sigmoid function:\n",
    "\n",
    "$$\n",
    "p(x_i) = \\mathbb{P}(y_i = 1 | x_i) = \\sigma(\\beta_0 + \\beta_1 x_{i1} + \\beta_2 x_{i2})\n",
    "$$\n",
    "\n",
    "Then the odds ratio is:\n",
    "\n",
    "$$\n",
    "\\frac{p(x_i)}{1 - p(x_i)} = \\text{odds}(y_i = 1 | x_i) = \\exp(\\beta_0 + \\beta_1 x_{i1} + \\beta_2 x_{i2})\n",
    "$$\n",
    "\n",
    "$$\n",
    "\\Rightarrow \\log \\left( \\frac{p(x_i)}{1 - p(x_i)} \\right) = \\beta_0 + \\beta_1 x_{i1} + \\beta_2 x_{i2}\n",
    "$$\n",
    "\n",
    "The log-likelihood function from MLE above is rewritten as the following when substituting in the logistic components\n",
    "\n",
    "$$\n",
    "\\ell(\\beta_0, \\beta_1, \\beta_2) = \\sum_{i=1}^{n} y_i \\left(\\beta_0 + \\beta_1 x_{i1} + \\beta_2 x_{i2} \\right) + \\log(1 - \\sigma(\\beta_0 + \\beta_1 x_{i1} + \\beta_2 x_{i2}))\n",
    "$$\n",
    "\n",
    "This is the binary cross-entropy loss when using logistic regression."
   ]
  },
  {
   "cell_type": "code",
   "execution_count": 45,
   "id": "e83473c8",
   "metadata": {},
   "outputs": [],
   "source": [
    "def log_lik(b, df):\n",
    "    Bx = [b[0] + b[1] * x1 + b[2] * x2 for x1, x2 in zip(df.x1, df.x2)]\n",
    "    p = sigma(Bx)\n",
    "    ll = np.sum((Bx * y) + np.log(1 - sigma(Bx)))\n",
    "    return ll"
   ]
  },
  {
   "cell_type": "code",
   "execution_count": 46,
   "id": "a60d76ba",
   "metadata": {},
   "outputs": [
    {
     "name": "stdout",
     "output_type": "stream",
     "text": [
      " b0: 3.2025467746769536\n",
      " b1: 4.374708426592983\n",
      " b2: -2.3605596683337495\n",
      "Optimization terminated successfully.\n",
      "         Current function value: 0.205636\n",
      "         Iterations 9\n"
     ]
    },
    {
     "data": {
      "text/html": [
       "<table class=\"simpletable\">\n",
       "<caption>Logit Regression Results</caption>\n",
       "<tr>\n",
       "  <th>Dep. Variable:</th>           <td>y</td>        <th>  No. Observations:  </th>   <td>  1000</td>  \n",
       "</tr>\n",
       "<tr>\n",
       "  <th>Model:</th>                 <td>Logit</td>      <th>  Df Residuals:      </th>   <td>   997</td>  \n",
       "</tr>\n",
       "<tr>\n",
       "  <th>Method:</th>                 <td>MLE</td>       <th>  Df Model:          </th>   <td>     2</td>  \n",
       "</tr>\n",
       "<tr>\n",
       "  <th>Date:</th>            <td>Fri, 28 Feb 2025</td> <th>  Pseudo R-squ.:     </th>   <td>0.6357</td>  \n",
       "</tr>\n",
       "<tr>\n",
       "  <th>Time:</th>                <td>14:47:03</td>     <th>  Log-Likelihood:    </th>  <td> -205.64</td> \n",
       "</tr>\n",
       "<tr>\n",
       "  <th>converged:</th>             <td>True</td>       <th>  LL-Null:           </th>  <td> -564.52</td> \n",
       "</tr>\n",
       "<tr>\n",
       "  <th>Covariance Type:</th>     <td>nonrobust</td>    <th>  LLR p-value:       </th> <td>1.373e-156</td>\n",
       "</tr>\n",
       "</table>\n",
       "<table class=\"simpletable\">\n",
       "<tr>\n",
       "      <td></td>         <th>coef</th>     <th>std err</th>      <th>z</th>      <th>P>|z|</th>  <th>[0.025</th>    <th>0.975]</th>  \n",
       "</tr>\n",
       "<tr>\n",
       "  <th>Intercept</th> <td>    3.2040</td> <td>    0.248</td> <td>   12.945</td> <td> 0.000</td> <td>    2.719</td> <td>    3.689</td>\n",
       "</tr>\n",
       "<tr>\n",
       "  <th>x1</th>        <td>    4.3793</td> <td>    0.337</td> <td>   12.995</td> <td> 0.000</td> <td>    3.719</td> <td>    5.040</td>\n",
       "</tr>\n",
       "<tr>\n",
       "  <th>x2</th>        <td>   -2.3523</td> <td>    0.213</td> <td>  -11.022</td> <td> 0.000</td> <td>   -2.771</td> <td>   -1.934</td>\n",
       "</tr>\n",
       "</table><br/><br/>Possibly complete quasi-separation: A fraction 0.12 of observations can be<br/>perfectly predicted. This might indicate that there is complete<br/>quasi-separation. In this case some parameters will not be identified."
      ],
      "text/plain": [
       "<class 'statsmodels.iolib.summary.Summary'>\n",
       "\"\"\"\n",
       "                           Logit Regression Results                           \n",
       "==============================================================================\n",
       "Dep. Variable:                      y   No. Observations:                 1000\n",
       "Model:                          Logit   Df Residuals:                      997\n",
       "Method:                           MLE   Df Model:                            2\n",
       "Date:                Fri, 28 Feb 2025   Pseudo R-squ.:                  0.6357\n",
       "Time:                        14:47:03   Log-Likelihood:                -205.64\n",
       "converged:                       True   LL-Null:                       -564.52\n",
       "Covariance Type:            nonrobust   LLR p-value:                1.373e-156\n",
       "==============================================================================\n",
       "                 coef    std err          z      P>|z|      [0.025      0.975]\n",
       "------------------------------------------------------------------------------\n",
       "Intercept      3.2040      0.248     12.945      0.000       2.719       3.689\n",
       "x1             4.3793      0.337     12.995      0.000       3.719       5.040\n",
       "x2            -2.3523      0.213    -11.022      0.000      -2.771      -1.934\n",
       "==============================================================================\n",
       "\n",
       "Possibly complete quasi-separation: A fraction 0.12 of observations can be\n",
       "perfectly predicted. This might indicate that there is complete\n",
       "quasi-separation. In this case some parameters will not be identified.\n",
       "\"\"\""
      ]
     },
     "execution_count": 46,
     "metadata": {},
     "output_type": "execute_result"
    }
   ],
   "source": [
    "from scipy.optimize import minimize\n",
    "\n",
    "b0, b1, b2 = minimize(lambda b: -log_lik(b, df), [0, 0, 0]).x\n",
    "print(f' b0: {b0}\\n b1: {b1}\\n b2: {b2}')\n",
    "\n",
    "model = smf.logit('y ~ x1 + x2', data=df).fit()\n",
    "model.summary()"
   ]
  },
  {
   "cell_type": "markdown",
   "id": "1f42d865",
   "metadata": {},
   "source": [
    "> #### Diagnostics\n",
    "There are several ways to diagnose the logistic regression model fit. **Similar with linear regression**.\n"
   ]
  },
  {
   "cell_type": "markdown",
   "id": "5505cc1c",
   "metadata": {},
   "source": [
    "The logistic regression model assumes that:\n",
    "\n",
    "$$\n",
    "y | x \\sim Ber(p(x))\n",
    "$$\n",
    "\n",
    "Therefore, in `statsmodels` the fitted values are given by:\n",
    "\n",
    "$$\n",
    "\\hat{\\beta}(x) = \\hat{\\beta}_0 + \\hat{\\beta}_1 x_1 + \\hat{\\beta}_2 x_2 + \\dots + \\hat{\\beta}_p x_p\n",
    "$$\n",
    "\n",
    "And the **predicted probabilities** are:\n",
    "\n",
    "$$\n",
    "\\hat{y} = \\hat{p}(x) = \\sigma(\\hat{\\beta}(x))\n",
    "$$\n"
   ]
  },
  {
   "cell_type": "code",
   "execution_count": 47,
   "id": "5aba4155",
   "metadata": {},
   "outputs": [
    {
     "data": {
      "text/plain": [
       "0      0.056636\n",
       "1      0.986494\n",
       "2      0.014569\n",
       "3      0.073312\n",
       "4      0.999962\n",
       "         ...   \n",
       "995    0.588515\n",
       "996    0.999983\n",
       "997    0.004912\n",
       "998    0.998419\n",
       "999    0.999823\n",
       "Length: 1000, dtype: float64"
      ]
     },
     "execution_count": 47,
     "metadata": {},
     "output_type": "execute_result"
    }
   ],
   "source": [
    "fitted = model.fittedvalues\n",
    "\n",
    "b = model.params\n",
    "Bx = b['Intercept'] + b['x1'] * df.x1 + b['x2'] * df.x2\n",
    "\n",
    "np.testing.assert_allclose(fitted, Bx)\n",
    "\n",
    "np.column_stack(\n",
    "    [sigma(model.fittedvalues), model.predict(df)]\n",
    ")\n",
    "\n",
    "px = model.predict(df)\n",
    "px"
   ]
  },
  {
   "cell_type": "markdown",
   "id": "fcca5780",
   "metadata": {},
   "source": [
    "The residual of logistic would be somewhat a little bit different:\n",
    "\n",
    "$$\n",
    "E(y|x) = p(x) \\quad\\quad \\text{and}\\quad\\quad Var(y|x) = p(x)(1 - p(x))\n",
    "$$\n",
    "\n",
    "The **standardized pearson residuals** are defined as:\n",
    "\n",
    "$$\n",
    "\\hat\\epsilon_i = \\frac{y_i - p(x_i)}{\\sqrt{p(x_i) \\times (1-p(x_i))}}\n",
    "$$"
   ]
  },
  {
   "cell_type": "code",
   "execution_count": 48,
   "id": "eb6f7c07",
   "metadata": {},
   "outputs": [
    {
     "data": {
      "text/plain": [
       "<matplotlib.collections.PathCollection at 0x17fd7d070>"
      ]
     },
     "execution_count": 48,
     "metadata": {},
     "output_type": "execute_result"
    },
    {
     "data": {
      "image/png": "[encoded data removed]",
      "text/plain": [
       "<Figure size 700x700 with 1 Axes>"
      ]
     },
     "metadata": {},
     "output_type": "display_data"
    }
   ],
   "source": [
    "residuals = model.resid_pearson\n",
    "plt.scatter(range(len(residuals)), residuals)"
   ]
  },
  {
   "cell_type": "markdown",
   "id": "e686ac3f",
   "metadata": {},
   "source": [
    "> #### Fit of model\n",
    "For three of the most popular techniques for assessing model fit in logistic regression, the intuition is as follows:"
   ]
  },
  {
   "cell_type": "code",
   "execution_count": 49,
   "id": "c5b0a6e5",
   "metadata": {},
   "outputs": [],
   "source": [
    "# generate y | x from bernoulli\n",
    "\n",
    "sigma = lambda x: np.exp(x) / (1 + np.exp(x))\n",
    "p_inv = lambda x1, x2: 3 + 4 * x1 - 2 * x2 - 5 * x1 * x2\n",
    "\n",
    "x1 = np.random.normal(0, 1, 1000)\n",
    "x2 = np.random.normal(0, 1, 1000)\n",
    "\n",
    "p = sigma(p_inv(x1, x2))\n",
    "y = stats.bernoulli(p).rvs(1000)\n",
    "df = pd.DataFrame({'x1': x1, 'x2': x2, 'y': y})"
   ]
  },
  {
   "cell_type": "markdown",
   "id": "3768d5a2",
   "metadata": {},
   "source": [
    "**1. Heurostic**"
   ]
  },
  {
   "cell_type": "code",
   "execution_count": 50,
   "id": "30bc601f",
   "metadata": {},
   "outputs": [
    {
     "name": "stdout",
     "output_type": "stream",
     "text": [
      "Optimization terminated successfully.\n",
      "         Current function value: 0.281639\n",
      "         Iterations 9\n"
     ]
    },
    {
     "data": {
      "text/plain": [
       "<AxesSubplot:title={'center':'Decision boundary'}, xlabel='x1', ylabel='x2'>"
      ]
     },
     "execution_count": 50,
     "metadata": {},
     "output_type": "execute_result"
    },
    {
     "data": {
      "image/png": "[encoded data removed]",
      "text/plain": [
       "<Figure size 1400x600 with 3 Axes>"
      ]
     },
     "metadata": {},
     "output_type": "display_data"
    }
   ],
   "source": [
    "model = smf.logit('y ~ x1 * x2', df).fit()\n",
    "\n",
    "fig, ax = plt.subplots(1, 2, figsize=(14, 6))\n",
    "sns.scatterplot(data=df, x='x1', y='x2', hue='y', ax=ax[0], alpha=0.5)\n",
    "ax[0].set_xlim(-5, 5); ax[0].set_ylim(-5, 5); ax[0].set_title(\"Scatterplot\")\n",
    "\n",
    "x1_grid = np.linspace(-5, 5, 100)\n",
    "x2_grid = np.linspace(-5, 5, 100)\n",
    "\n",
    "X1, X2 = np.meshgrid(x1_grid, x2_grid)\n",
    "\n",
    "probs = model.predict(pd.DataFrame({'x1': X1.ravel(), 'x2': X2.ravel()}))\n",
    "P = probs.values.reshape(X1.shape)\n",
    "\n",
    "ax[1].set_title(\"Decision boundary\")\n",
    "cax = ax[1].contourf(X1, X2, P, cmap='viridis', levels=np.linspace(0, 1, 8), alpha=0.8)\n",
    "fig.colorbar(cax, ax=ax[1])\n",
    "sns.scatterplot(data=df, x='x1', y='x2', hue='y', ax=ax[1], alpha=0.75)"
   ]
  },
  {
   "cell_type": "markdown",
   "id": "cb0f2fa7",
   "metadata": {},
   "source": [
    "**2. Confusion matrix**\n",
    "\n",
    "The confusion matrix is a table which shows the number of true positives, true negatives, false positives and false negatives.\n",
    "\n",
    "| $\\phantom{1}$ | Predicted 0 | Predicted 1 |\n",
    "|---|---|---|\n",
    "| Actual 0 | True Negative | False Positive |\n",
    "| Actual 1 | False Negative | True Positive |\n"
   ]
  },
  {
   "cell_type": "code",
   "execution_count": 51,
   "id": "d4d967bb",
   "metadata": {},
   "outputs": [
    {
     "name": "stdout",
     "output_type": "stream",
     "text": [
      " True Positive rate:  0.996\n",
      " True Negative rate:  0.393\n",
      " False Positive rate:  0.607\n",
      " False Negative rate:  0.004\n"
     ]
    }
   ],
   "source": [
    "c_matrix = model.pred_table(threshold=0.1)\n",
    "true_pos = c_matrix[1, 1] / c_matrix[1].sum()\n",
    "true_neg = c_matrix[0, 0] / c_matrix[0].sum()\n",
    "false_pos = c_matrix[0, 1] / c_matrix[0].sum()\n",
    "false_neg = c_matrix[1, 0] / c_matrix[1].sum()\n",
    "print(f' True Positive rate: {true_pos: .3f}\\n True Negative rate: {true_neg: .3f}\\n False Positive rate: {false_pos: .3f}\\n False Negative rate: {false_neg: .3f}')"
   ]
  },
  {
   "cell_type": "markdown",
   "id": "96393c56",
   "metadata": {},
   "source": [
    "**3. ROC Curve**\n",
    "\n",
    "The Receiver Operating Characteristic (ROC) curve is a graphical representation of the trade-off between the **true positive TP rate and the false positive FP rate** for every possible cut-off value. It is a **graphical representation** of the confusing metrics.\n",
    "\n",
    "Then the Area Under the Curve (AUC) is a single scalar value that summarizes the performance of the model.\n",
    "\n",
    "- The ROC curve is always a monotnic increaing/flatten.\n",
    "\n",
    "- Straightline following slope is just a **random guessing** (equal TP and FP), area is maximzied when the curve is most away from the $x=y$ line.\n",
    "\n",
    "- Though doesn't tell you much interpretation of each of teh coeefficient."
   ]
  },
  {
   "cell_type": "code",
   "execution_count": 52,
   "id": "270bab5c",
   "metadata": {},
   "outputs": [
    {
     "name": "stdout",
     "output_type": "stream",
     "text": [
      "AOC is: 0.9317875107348792\n"
     ]
    },
    {
     "data": {
      "image/png": "[encoded data removed]",
      "text/plain": [
       "<Figure size 700x700 with 1 Axes>"
      ]
     },
     "metadata": {},
     "output_type": "display_data"
    }
   ],
   "source": [
    "fpr, tpr, thresholds = metrics.roc_curve(df.y, model.predict(df))\n",
    "indx = (0.1 - 5e-3 <= thresholds) * (thresholds <= 0.1 + 5e-3)\n",
    "tpr[indx], fpr[indx],  thresholds[indx]\n",
    "metrics.RocCurveDisplay(fpr=fpr, tpr=tpr).plot()\n",
    "print(f\"AOC is: {metrics.roc_auc_score(df.y, model.predict(df))}\")"
   ]
  },
  {
   "cell_type": "markdown",
   "id": "76b89534",
   "metadata": {},
   "source": [
    "---\n",
    "---"
   ]
  },
  {
   "cell_type": "markdown",
   "id": "5a2cc0d6",
   "metadata": {},
   "source": [
    "# Multinomial Logistic Regression\n",
    "If we try to fit an OLS model to categorical data (non binary), as like it is binary data, it would lead to inconsistent predictions.\n",
    "\n",
    "When the response variable $y$ has more than two levels, we can extend the logistic regression model to **multinomial logistic regression**."
   ]
  },
  {
   "cell_type": "code",
   "execution_count": 53,
   "id": "630714d8",
   "metadata": {},
   "outputs": [
    {
     "data": {
      "text/html": [
       "<div>\n",
       "<style scoped>\n",
       "    .dataframe tbody tr th:only-of-type {\n",
       "        vertical-align: middle;\n",
       "    }\n",
       "\n",
       "    .dataframe tbody tr th {\n",
       "        vertical-align: top;\n",
       "    }\n",
       "\n",
       "    .dataframe thead th {\n",
       "        text-align: right;\n",
       "    }\n",
       "</style>\n",
       "<table border=\"1\" class=\"dataframe\">\n",
       "  <thead>\n",
       "    <tr style=\"text-align: right;\">\n",
       "      <th></th>\n",
       "      <th>sepal_length</th>\n",
       "      <th>sepal_width</th>\n",
       "      <th>petal_length</th>\n",
       "      <th>petal_width</th>\n",
       "      <th>y</th>\n",
       "      <th>y_numeric</th>\n",
       "    </tr>\n",
       "  </thead>\n",
       "  <tbody>\n",
       "    <tr>\n",
       "      <th>0</th>\n",
       "      <td>5.1</td>\n",
       "      <td>3.5</td>\n",
       "      <td>1.4</td>\n",
       "      <td>0.2</td>\n",
       "      <td>Iris-setosa</td>\n",
       "      <td>2</td>\n",
       "    </tr>\n",
       "    <tr>\n",
       "      <th>1</th>\n",
       "      <td>4.9</td>\n",
       "      <td>3.0</td>\n",
       "      <td>1.4</td>\n",
       "      <td>0.2</td>\n",
       "      <td>Iris-setosa</td>\n",
       "      <td>2</td>\n",
       "    </tr>\n",
       "    <tr>\n",
       "      <th>2</th>\n",
       "      <td>4.7</td>\n",
       "      <td>3.2</td>\n",
       "      <td>1.3</td>\n",
       "      <td>0.2</td>\n",
       "      <td>Iris-setosa</td>\n",
       "      <td>2</td>\n",
       "    </tr>\n",
       "    <tr>\n",
       "      <th>3</th>\n",
       "      <td>4.6</td>\n",
       "      <td>3.1</td>\n",
       "      <td>1.5</td>\n",
       "      <td>0.2</td>\n",
       "      <td>Iris-setosa</td>\n",
       "      <td>2</td>\n",
       "    </tr>\n",
       "    <tr>\n",
       "      <th>4</th>\n",
       "      <td>5.0</td>\n",
       "      <td>3.6</td>\n",
       "      <td>1.4</td>\n",
       "      <td>0.2</td>\n",
       "      <td>Iris-setosa</td>\n",
       "      <td>2</td>\n",
       "    </tr>\n",
       "    <tr>\n",
       "      <th>5</th>\n",
       "      <td>5.4</td>\n",
       "      <td>3.9</td>\n",
       "      <td>1.7</td>\n",
       "      <td>0.4</td>\n",
       "      <td>Iris-setosa</td>\n",
       "      <td>2</td>\n",
       "    </tr>\n",
       "    <tr>\n",
       "      <th>6</th>\n",
       "      <td>4.6</td>\n",
       "      <td>3.4</td>\n",
       "      <td>1.4</td>\n",
       "      <td>0.3</td>\n",
       "      <td>Iris-setosa</td>\n",
       "      <td>2</td>\n",
       "    </tr>\n",
       "    <tr>\n",
       "      <th>7</th>\n",
       "      <td>5.0</td>\n",
       "      <td>3.4</td>\n",
       "      <td>1.5</td>\n",
       "      <td>0.2</td>\n",
       "      <td>Iris-setosa</td>\n",
       "      <td>2</td>\n",
       "    </tr>\n",
       "    <tr>\n",
       "      <th>8</th>\n",
       "      <td>4.4</td>\n",
       "      <td>2.9</td>\n",
       "      <td>1.4</td>\n",
       "      <td>0.2</td>\n",
       "      <td>Iris-setosa</td>\n",
       "      <td>2</td>\n",
       "    </tr>\n",
       "    <tr>\n",
       "      <th>9</th>\n",
       "      <td>4.9</td>\n",
       "      <td>3.1</td>\n",
       "      <td>1.5</td>\n",
       "      <td>0.1</td>\n",
       "      <td>Iris-setosa</td>\n",
       "      <td>2</td>\n",
       "    </tr>\n",
       "  </tbody>\n",
       "</table>\n",
       "</div>"
      ],
      "text/plain": [
       "   sepal_length  sepal_width  petal_length  petal_width            y  \\\n",
       "0           5.1          3.5           1.4          0.2  Iris-setosa   \n",
       "1           4.9          3.0           1.4          0.2  Iris-setosa   \n",
       "2           4.7          3.2           1.3          0.2  Iris-setosa   \n",
       "3           4.6          3.1           1.5          0.2  Iris-setosa   \n",
       "4           5.0          3.6           1.4          0.2  Iris-setosa   \n",
       "5           5.4          3.9           1.7          0.4  Iris-setosa   \n",
       "6           4.6          3.4           1.4          0.3  Iris-setosa   \n",
       "7           5.0          3.4           1.5          0.2  Iris-setosa   \n",
       "8           4.4          2.9           1.4          0.2  Iris-setosa   \n",
       "9           4.9          3.1           1.5          0.1  Iris-setosa   \n",
       "\n",
       "   y_numeric  \n",
       "0          2  \n",
       "1          2  \n",
       "2          2  \n",
       "3          2  \n",
       "4          2  \n",
       "5          2  \n",
       "6          2  \n",
       "7          2  \n",
       "8          2  \n",
       "9          2  "
      ]
     },
     "execution_count": 53,
     "metadata": {},
     "output_type": "execute_result"
    }
   ],
   "source": [
    "from ucimlrepo import fetch_ucirepo \n",
    "\n",
    "iris = fetch_ucirepo(id=53) \n",
    "\n",
    "df = iris.data.features\n",
    "df.columns = [col.replace(' ', '_') for col in df.columns]\n",
    "\n",
    "df['y'] = iris.data.targets.astype('category')\n",
    "df['y'] = df['y'].astype('category')\n",
    "\n",
    "order = ['Iris-virginica', 'Iris-versicolor', 'Iris-setosa']\n",
    "df['y'] = df['y'].cat.reorder_categories(order, ordered=False)\n",
    "df['y_numeric'] = df['y'].cat.codes\n",
    "df.head(10)"
   ]
  },
  {
   "cell_type": "markdown",
   "id": "72326620",
   "metadata": {},
   "source": [
    "The multinomial logistic regression model is a generalization of the logistic regression model to the case where the response variable can take on more than two values, assuming that:\n",
    "\n",
    "$$\n",
    "y | x \\sim \\text{Categorical}(\\pi(x))\n",
    "$$"
   ]
  },
  {
   "cell_type": "markdown",
   "id": "b34eeff1",
   "metadata": {},
   "source": [
    "Here we're going to assume that the parameters $ \\pi(x) $ are given by **bunch of seperate distribution**:\n",
    "\n",
    "$$\n",
    "\\pi(x) = (\\pi_1(x), \\pi_2(x), \\dots, \\pi_k(x))\n",
    "$$\n",
    "\n",
    "where\n",
    "\n",
    "$$\n",
    "\\pi_i(x) = \\mathbb{P}(y = i | x), \\quad \\text{for } i = 2,3,4, \\dots, k\n",
    "$$\n",
    "\n",
    "and the first parameter is given by:\n",
    "\n",
    "$$\n",
    "\\pi_1(x) = 1 - \\sum_{i=2}^{k} \\pi_i(x)\n",
    "$$\n",
    "\n",
    "Additionally,\n",
    "\n",
    "$$\n",
    "\\text{Ber}(p) = \\text{Categorical}(1 - p, p)\n",
    "$$\n"
   ]
  },
  {
   "cell_type": "markdown",
   "id": "fa05c063",
   "metadata": {},
   "source": [
    "Since all of the $\\pi_i(x)$ are probabilities, we can use the logistic regression trick.\n",
    "\n",
    "- There's one **key difference**, the odds has different construction:\n",
    "\n",
    "> **Logistic regression**\n",
    "\n",
    "The odds for logistic regression is  \n",
    "\n",
    "$$\n",
    "\\text{odds}(\\{ y = 1 | x \\}) = \\frac{\\mathbb{P}(y = 1 | x)}{\\mathbb{P}(y = 0 | x)}\n",
    "$$  \n",
    "\n",
    "> **Multinomial logistic regression**s\n",
    "\n",
    "We need to **choose something as the base category**, make it **relative**. The odds looking at is different. The odds for multinomial logistic regression is  \n",
    "\n",
    "$$\n",
    "\\text{odds}(\\{ y = i | x \\}) = \\frac{\\mathbb{P}(y = i | x)}{\\mathbb{P}(y = 1 | x)}\n",
    "$$  \n",
    "\n",
    "The odds are always with reference to the **baseline** category. We need to manually impose to make it a probability."
   ]
  },
  {
   "cell_type": "markdown",
   "id": "bf53fd06",
   "metadata": {},
   "source": [
    "Then we will just fit $k$ logistic model, you are comparing many with whatever you choose as the baseline category.\n",
    "\n",
    "$$\n",
    "\\log \\left( \\frac{\\pi_i(x)}{\\pi_1(x)} \\right) = \\beta_0 + \\beta_1 x_1 + \\beta_2 x_2 + \\dots + \\beta_{ip} x_p, \\quad \\text{for } i = 2, 3, 4, \\dots, k\n",
    "$$\n",
    "\n",
    "Note the $\\beta_{ip}$ term. This is the key difference between the multinomial logistic regression model and the logistic regression model.\n",
    "\n",
    "> *Essentially, the multinomial logistic regression model fits* $(k - 1)$ *different logistic regression models, one for each category, with the first category as the reference category.*\n"
   ]
  },
  {
   "cell_type": "markdown",
   "id": "2555b1e2",
   "metadata": {},
   "source": [
    "In `statsmodels` you can fit a multinomial logistic regression model using the `MNLogit` class."
   ]
  },
  {
   "cell_type": "code",
   "execution_count": 54,
   "id": "72f74a7a",
   "metadata": {},
   "outputs": [
    {
     "name": "stdout",
     "output_type": "stream",
     "text": [
      "Warning: Maximum number of iterations has been exceeded.\n",
      "         Current function value: 0.039662\n",
      "         Iterations: 35\n",
      "                          MNLogit Regression Results                          \n",
      "==============================================================================\n",
      "Dep. Variable:              y_numeric   No. Observations:                  150\n",
      "Model:                        MNLogit   Df Residuals:                      140\n",
      "Method:                           MLE   Df Model:                            8\n",
      "Date:                Fri, 28 Feb 2025   Pseudo R-squ.:                  0.9639\n",
      "Time:                        14:47:03   Log-Likelihood:                -5.9493\n",
      "converged:                      False   LL-Null:                       -164.79\n",
      "Covariance Type:            nonrobust   LLR p-value:                 7.055e-64\n",
      "================================================================================\n",
      " y_numeric=1       coef    std err          z      P>|z|      [0.025      0.975]\n",
      "--------------------------------------------------------------------------------\n",
      "Intercept       42.6378     25.708      1.659      0.097      -7.748      93.024\n",
      "sepal_length     2.4652      2.394      1.030      0.303      -2.228       7.158\n",
      "sepal_width      6.6809      4.480      1.491      0.136      -2.099      15.461\n",
      "petal_length    -9.4294      4.737     -1.990      0.047     -18.714      -0.145\n",
      "petal_width    -18.2861      9.743     -1.877      0.061     -37.381       0.809\n",
      "--------------------------------------------------------------------------------\n",
      " y_numeric=2       coef    std err          z      P>|z|      [0.025      0.975]\n",
      "--------------------------------------------------------------------------------\n",
      "Intercept       38.5919   6.33e+05    6.1e-05      1.000   -1.24e+06    1.24e+06\n",
      "sepal_length    10.5734   1.78e+05   5.94e-05      1.000   -3.49e+05    3.49e+05\n",
      "sepal_width     15.1121   7.55e+04      0.000      1.000   -1.48e+05    1.48e+05\n",
      "petal_length   -29.4870   9.64e+04     -0.000      1.000   -1.89e+05    1.89e+05\n",
      "petal_width    -35.2733   1.82e+05     -0.000      1.000   -3.56e+05    3.56e+05\n",
      "================================================================================\n"
     ]
    },
    {
     "name": "stderr",
     "output_type": "stream",
     "text": [
      "/Users/kevinb/miniforge3/envs/math189/lib/python3.8/site-packages/statsmodels/base/model.py:604: ConvergenceWarning: Maximum Likelihood optimization failed to converge. Check mle_retvals\n",
      "  warnings.warn(\"Maximum Likelihood optimization failed to \"\n"
     ]
    }
   ],
   "source": [
    "mnl_model = smf.mnlogit('y_numeric ~ sepal_length + sepal_width + petal_length + petal_width', data=df).fit()\n",
    "print(mnl_model.summary())"
   ]
  },
  {
   "cell_type": "markdown",
   "id": "d037c339",
   "metadata": {},
   "source": [
    "> #### Interpretation of the coefficients\n",
    "\n",
    "Consider the following events $A$ and $B$:\n",
    "\n",
    "- $ A = \\{ y = i \\mid x_1, x_2, \\dots, x_p, \\text{ and } x_j = x_j \\} $\n",
    "- $ B = \\{ y = i \\mid x_1, x_2, \\dots, x_p, \\text{ and } x_j = x_j + 1 \\} $\n",
    "\n",
    "If we were to fit a multinomial logistic regression model to the data, the interpretation of the coefficients would be:\n",
    "\n",
    "$$\n",
    "\\text{odds-ratio}(B : A) = \\exp(\\beta_{ij})\n",
    "$$\n",
    "\n",
    "Going to the $i$ -th table and look at the $j$ -th row"
   ]
  },
  {
   "cell_type": "markdown",
   "id": "4011684d",
   "metadata": {},
   "source": [
    "> #### Marginal Effects\n"
   ]
  },
  {
   "cell_type": "code",
   "execution_count": 55,
   "id": "4f879b42",
   "metadata": {},
   "outputs": [
    {
     "name": "stdout",
     "output_type": "stream",
     "text": [
      "       MNLogit Marginal Effects      \n",
      "=====================================\n",
      "Dep. Variable:              y_numeric\n",
      "Method:                          dydx\n",
      "At:                           overall\n",
      "================================================================================\n",
      " y_numeric=0      dy/dx    std err          z      P>|z|      [0.025      0.975]\n",
      "--------------------------------------------------------------------------------\n",
      "sepal_length    -0.0297      0.026     -1.163      0.245      -0.080       0.020\n",
      "sepal_width     -0.0805      0.043     -1.891      0.059      -0.164       0.003\n",
      "petal_length     0.1135      0.038      2.965      0.003       0.038       0.189\n",
      "petal_width      0.2202      0.073      2.998      0.003       0.076       0.364\n",
      "--------------------------------------------------------------------------------\n",
      " y_numeric=1      dy/dx    std err          z      P>|z|      [0.025      0.975]\n",
      "--------------------------------------------------------------------------------\n",
      "sepal_length     0.0297      0.026      1.163      0.245      -0.020       0.080\n",
      "sepal_width      0.0805      0.043      1.891      0.059      -0.003       0.164\n",
      "petal_length    -0.1135      0.038     -2.965      0.003      -0.189      -0.038\n",
      "petal_width     -0.2202      0.073     -2.998      0.003      -0.364      -0.076\n",
      "--------------------------------------------------------------------------------\n",
      " y_numeric=2      dy/dx    std err          z      P>|z|      [0.025      0.975]\n",
      "--------------------------------------------------------------------------------\n",
      "sepal_length  1.624e-10   4.51e-06    3.6e-05      1.000   -8.83e-06    8.83e-06\n",
      "sepal_width   1.689e-10   3.35e-06   5.04e-05      1.000   -6.57e-06    6.57e-06\n",
      "petal_length -4.018e-10   7.25e-06  -5.54e-05      1.000   -1.42e-05    1.42e-05\n",
      "petal_width  -3.403e-10   6.86e-06  -4.96e-05      1.000   -1.34e-05    1.34e-05\n",
      "================================================================================\n"
     ]
    }
   ],
   "source": [
    "print(mnl_model.get_margeff(method='dydx').summary())"
   ]
  },
  {
   "cell_type": "markdown",
   "id": "f15473cf",
   "metadata": {},
   "source": [
    "---\n",
    "---"
   ]
  },
  {
   "cell_type": "markdown",
   "id": "3cbe5aee",
   "metadata": {},
   "source": [
    "# Variable Selection: Balancing\n",
    "\n",
    "How can we select the most **optimal subset** of these variables. Usually ANOVA allow us to do this by asking \"is the big model truely adding things that is valuable when looking at varaince\". Now w  are doing it at a much more bigger scale."
   ]
  },
  {
   "cell_type": "markdown",
   "id": "e5f3b7b1",
   "metadata": {},
   "source": [
    "The objective of variable selection is to identify the most important predictors, and include them in the final regression model. There are three main approaches to variable selection:\n",
    "\n",
    "1. **All possible subsets**: Fit all possible models and select the best one based on some criterion.\n",
    "    - However, the number of  combinations grows exponentially with the number of covariate you have $2^p$,not scalable\n",
    "2. **Stepwise selection**: Start with the full or the null model and iteratively add or remove predictors based on some criterion.\n",
    "    - Iteratively **prune** or **grow** the model. Greedy search happenening on covariate space.\n",
    "3. **Shrinkage methods**: Use a penalty to shrink the coefficients of the less important predictors to zero.\n"
   ]
  },
  {
   "cell_type": "markdown",
   "id": "c0495a82",
   "metadata": {
    "vscode": {
     "languageId": "plaintext"
    }
   },
   "source": [
    "## Selection Criterion: What does the predictor do?\n",
    "\n",
    "**Need trade-off between model fit and model complexity, old clasic problem in ML. This criterion decides teh final model fitted**\n",
    "\n",
    "The selection criterion needs to take into account the trade-off between the goodness of fit and the complexity of the model.\n",
    "\n",
    "- As you include more predictors, the model will fit the data better. **The model fit cannot get worse**.\n",
    "- However, as you include more predictors, the model becomes more complex and may not generalize well to new data."
   ]
  },
  {
   "cell_type": "markdown",
   "id": "abec9bd1",
   "metadata": {},
   "source": [
    "We can do it more systematically with partial model and full model"
   ]
  },
  {
   "cell_type": "code",
   "execution_count": 56,
   "id": "6e270466",
   "metadata": {},
   "outputs": [
    {
     "name": "stdout",
     "output_type": "stream",
     "text": [
      "true_x: {'x52', 'x34', 'x73', 'x43', 'x58'}\n"
     ]
    },
    {
     "data": {
      "text/html": [
       "<div>\n",
       "<style scoped>\n",
       "    .dataframe tbody tr th:only-of-type {\n",
       "        vertical-align: middle;\n",
       "    }\n",
       "\n",
       "    .dataframe tbody tr th {\n",
       "        vertical-align: top;\n",
       "    }\n",
       "\n",
       "    .dataframe thead th {\n",
       "        text-align: right;\n",
       "    }\n",
       "</style>\n",
       "<table border=\"1\" class=\"dataframe\">\n",
       "  <thead>\n",
       "    <tr style=\"text-align: right;\">\n",
       "      <th></th>\n",
       "      <th>x0</th>\n",
       "      <th>x1</th>\n",
       "      <th>x2</th>\n",
       "      <th>x3</th>\n",
       "      <th>x4</th>\n",
       "      <th>x5</th>\n",
       "      <th>x6</th>\n",
       "      <th>x7</th>\n",
       "      <th>x8</th>\n",
       "      <th>x9</th>\n",
       "      <th>...</th>\n",
       "      <th>x66</th>\n",
       "      <th>x67</th>\n",
       "      <th>x68</th>\n",
       "      <th>x69</th>\n",
       "      <th>x70</th>\n",
       "      <th>x71</th>\n",
       "      <th>x72</th>\n",
       "      <th>x73</th>\n",
       "      <th>x74</th>\n",
       "      <th>y</th>\n",
       "    </tr>\n",
       "  </thead>\n",
       "  <tbody>\n",
       "    <tr>\n",
       "      <th>0</th>\n",
       "      <td>-1.652788</td>\n",
       "      <td>-0.390895</td>\n",
       "      <td>-1.096091</td>\n",
       "      <td>1.505058</td>\n",
       "      <td>-0.238546</td>\n",
       "      <td>-1.296095</td>\n",
       "      <td>1.166935</td>\n",
       "      <td>1.313029</td>\n",
       "      <td>1.550517</td>\n",
       "      <td>-1.071605</td>\n",
       "      <td>...</td>\n",
       "      <td>0.098235</td>\n",
       "      <td>-0.418897</td>\n",
       "      <td>-0.549008</td>\n",
       "      <td>0.109714</td>\n",
       "      <td>0.484403</td>\n",
       "      <td>-0.519385</td>\n",
       "      <td>-0.888468</td>\n",
       "      <td>-0.761216</td>\n",
       "      <td>1.942099</td>\n",
       "      <td>-10.414569</td>\n",
       "    </tr>\n",
       "    <tr>\n",
       "      <th>1</th>\n",
       "      <td>-1.362392</td>\n",
       "      <td>-0.983450</td>\n",
       "      <td>-1.390917</td>\n",
       "      <td>0.574546</td>\n",
       "      <td>1.325807</td>\n",
       "      <td>-0.258909</td>\n",
       "      <td>1.787974</td>\n",
       "      <td>-0.815201</td>\n",
       "      <td>1.427656</td>\n",
       "      <td>-0.138753</td>\n",
       "      <td>...</td>\n",
       "      <td>0.155112</td>\n",
       "      <td>1.460456</td>\n",
       "      <td>0.664407</td>\n",
       "      <td>-1.295236</td>\n",
       "      <td>1.012026</td>\n",
       "      <td>-1.708269</td>\n",
       "      <td>1.191047</td>\n",
       "      <td>-0.132041</td>\n",
       "      <td>-0.813996</td>\n",
       "      <td>-0.586558</td>\n",
       "    </tr>\n",
       "    <tr>\n",
       "      <th>2</th>\n",
       "      <td>-1.077239</td>\n",
       "      <td>0.676793</td>\n",
       "      <td>-0.393134</td>\n",
       "      <td>0.805639</td>\n",
       "      <td>-0.160088</td>\n",
       "      <td>0.211332</td>\n",
       "      <td>1.140091</td>\n",
       "      <td>0.190887</td>\n",
       "      <td>-2.027328</td>\n",
       "      <td>0.322345</td>\n",
       "      <td>...</td>\n",
       "      <td>-1.309876</td>\n",
       "      <td>1.413152</td>\n",
       "      <td>-0.179086</td>\n",
       "      <td>0.452795</td>\n",
       "      <td>1.216280</td>\n",
       "      <td>-1.521935</td>\n",
       "      <td>0.475152</td>\n",
       "      <td>0.810586</td>\n",
       "      <td>0.253896</td>\n",
       "      <td>-2.079055</td>\n",
       "    </tr>\n",
       "    <tr>\n",
       "      <th>3</th>\n",
       "      <td>0.990695</td>\n",
       "      <td>1.820458</td>\n",
       "      <td>0.993626</td>\n",
       "      <td>1.813806</td>\n",
       "      <td>0.202893</td>\n",
       "      <td>2.117191</td>\n",
       "      <td>0.743612</td>\n",
       "      <td>0.027272</td>\n",
       "      <td>-0.483455</td>\n",
       "      <td>0.027603</td>\n",
       "      <td>...</td>\n",
       "      <td>1.244171</td>\n",
       "      <td>-0.088867</td>\n",
       "      <td>1.087049</td>\n",
       "      <td>-0.450552</td>\n",
       "      <td>2.260566</td>\n",
       "      <td>1.504314</td>\n",
       "      <td>-0.626756</td>\n",
       "      <td>0.186990</td>\n",
       "      <td>-1.008315</td>\n",
       "      <td>11.725010</td>\n",
       "    </tr>\n",
       "    <tr>\n",
       "      <th>4</th>\n",
       "      <td>-0.078354</td>\n",
       "      <td>0.915799</td>\n",
       "      <td>1.297861</td>\n",
       "      <td>-1.122369</td>\n",
       "      <td>-1.654453</td>\n",
       "      <td>-0.455290</td>\n",
       "      <td>-0.225626</td>\n",
       "      <td>1.154398</td>\n",
       "      <td>0.011681</td>\n",
       "      <td>-1.016976</td>\n",
       "      <td>...</td>\n",
       "      <td>-0.220553</td>\n",
       "      <td>0.246706</td>\n",
       "      <td>-0.835376</td>\n",
       "      <td>-0.290574</td>\n",
       "      <td>-0.392090</td>\n",
       "      <td>1.871504</td>\n",
       "      <td>0.181947</td>\n",
       "      <td>1.306160</td>\n",
       "      <td>0.056769</td>\n",
       "      <td>11.854658</td>\n",
       "    </tr>\n",
       "  </tbody>\n",
       "</table>\n",
       "<p>5 rows × 76 columns</p>\n",
       "</div>"
      ],
      "text/plain": [
       "         x0        x1        x2        x3        x4        x5        x6  \\\n",
       "0 -1.652788 -0.390895 -1.096091  1.505058 -0.238546 -1.296095  1.166935   \n",
       "1 -1.362392 -0.983450 -1.390917  0.574546  1.325807 -0.258909  1.787974   \n",
       "2 -1.077239  0.676793 -0.393134  0.805639 -0.160088  0.211332  1.140091   \n",
       "3  0.990695  1.820458  0.993626  1.813806  0.202893  2.117191  0.743612   \n",
       "4 -0.078354  0.915799  1.297861 -1.122369 -1.654453 -0.455290 -0.225626   \n",
       "\n",
       "         x7        x8        x9  ...       x66       x67       x68       x69  \\\n",
       "0  1.313029  1.550517 -1.071605  ...  0.098235 -0.418897 -0.549008  0.109714   \n",
       "1 -0.815201  1.427656 -0.138753  ...  0.155112  1.460456  0.664407 -1.295236   \n",
       "2  0.190887 -2.027328  0.322345  ... -1.309876  1.413152 -0.179086  0.452795   \n",
       "3  0.027272 -0.483455  0.027603  ...  1.244171 -0.088867  1.087049 -0.450552   \n",
       "4  1.154398  0.011681 -1.016976  ... -0.220553  0.246706 -0.835376 -0.290574   \n",
       "\n",
       "        x70       x71       x72       x73       x74          y  \n",
       "0  0.484403 -0.519385 -0.888468 -0.761216  1.942099 -10.414569  \n",
       "1  1.012026 -1.708269  1.191047 -0.132041 -0.813996  -0.586558  \n",
       "2  1.216280 -1.521935  0.475152  0.810586  0.253896  -2.079055  \n",
       "3  2.260566  1.504314 -0.626756  0.186990 -1.008315  11.725010  \n",
       "4 -0.392090  1.871504  0.181947  1.306160  0.056769  11.854658  \n",
       "\n",
       "[5 rows x 76 columns]"
      ]
     },
     "execution_count": 56,
     "metadata": {},
     "output_type": "execute_result"
    }
   ],
   "source": [
    "n, p = 100, 75\n",
    "np.random.seed(2025)\n",
    "\n",
    "true_p = np.random.choice(range(p), replace=False, size=5)\n",
    "true_b = np.array([2,3,4,5,6])\n",
    "\n",
    "x = np.random.randn(n, p)\n",
    "toy_df = pd.DataFrame(x, columns=[f'x{i}' for i in range(p)])\n",
    "toy_df[\"y\"] = x[:, true_p] @ true_b + np.random.randn(n)\n",
    "\n",
    "df = toy_df\n",
    "\n",
    "true_x = set(df.columns[true_p])\n",
    "print(f'true_x: {true_x}')\n",
    "df.head()"
   ]
  },
  {
   "cell_type": "markdown",
   "id": "69d40ea6",
   "metadata": {},
   "source": [
    "> Full Model"
   ]
  },
  {
   "cell_type": "code",
   "execution_count": 57,
   "id": "a54ecf22",
   "metadata": {},
   "outputs": [
    {
     "data": {
      "text/plain": [
       "'y ~ x0 + x1 + x2 + x3 + x4 + x5 + x6 + x7 + x8 + x9 + x10 + x11 + x12 + x13 + x14 + x15 + x16 + x17 + x18 + x19 + x20 + x21 + x22 + x23 + x24 + x25 + x26 + x27 + x28 + x29 + x30 + x31 + x32 + x33 + x34 + x35 + x36 + x37 + x38 + x39 + x40 + x41 + x42 + x43 + x44 + x45 + x46 + x47 + x48 + x49 + x50 + x51 + x52 + x53 + x54 + x55 + x56 + x57 + x58 + x59 + x60 + x61 + x62 + x63 + x64 + x65 + x66 + x67 + x68 + x69 + x70 + x71 + x72 + x73 + x74'"
      ]
     },
     "execution_count": 57,
     "metadata": {},
     "output_type": "execute_result"
    }
   ],
   "source": [
    "response = 'y'\n",
    "all_variables = df.columns.drop(response)\n",
    "full_model_formula = f'{response} ~ {\" + \".join(all_variables)}'\n",
    "full_model_formula"
   ]
  },
  {
   "cell_type": "markdown",
   "id": "fee25d48",
   "metadata": {},
   "source": [
    "> True model"
   ]
  },
  {
   "cell_type": "code",
   "execution_count": 58,
   "id": "0e226162",
   "metadata": {},
   "outputs": [
    {
     "data": {
      "text/plain": [
       "'y ~ x52 + x43 + x73 + x34 + x58'"
      ]
     },
     "execution_count": 58,
     "metadata": {},
     "output_type": "execute_result"
    }
   ],
   "source": [
    "true_model_formula = 'y ~ ' + ' + '.join(df.columns[true_p])\n",
    "true_model_formula"
   ]
  },
  {
   "cell_type": "markdown",
   "id": "e78b568a",
   "metadata": {},
   "source": [
    "Let's look at the full model, which includes all the predictors vs. the true model which only includes the variables under the true_p index."
   ]
  },
  {
   "cell_type": "code",
   "execution_count": 59,
   "id": "7651b7c9",
   "metadata": {},
   "outputs": [
    {
     "name": "stdout",
     "output_type": "stream",
     "text": [
      "full model R2: 0.9971318469486614\n",
      "true model R2: 0.9895989314725879\n"
     ]
    }
   ],
   "source": [
    "full_model = smf.ols(full_model_formula, data=df).fit()\n",
    "true_model = smf.ols(true_model_formula, data=df).fit()\n",
    "\n",
    "print(f'full model R2: {full_model.rsquared}')\n",
    "print(f'true model R2: {true_model.rsquared}')"
   ]
  },
  {
   "cell_type": "code",
   "execution_count": 60,
   "id": "fcb47da0",
   "metadata": {},
   "outputs": [
    {
     "name": "stdout",
     "output_type": "stream",
     "text": [
      "True model\n",
      "                             OLS Regression Results                            \n",
      "==============================================================================\n",
      "Dep. Variable:                      y   R-squared:                       0.990\n",
      "Model:                            OLS   Adj. R-squared:                  0.989\n",
      "Method:                 Least Squares   F-statistic:                     1789.\n",
      "Date:                Fri, 28 Feb 2025   Prob (F-statistic):           1.58e-91\n",
      "Time:                        14:47:03   Log-Likelihood:                -132.44\n",
      "No. Observations:                 100   AIC:                             276.9\n",
      "Df Residuals:                      94   BIC:                             292.5\n",
      "Df Model:                           5                                         \n",
      "Covariance Type:            nonrobust                                         \n",
      "==============================================================================\n",
      "\n",
      "\n",
      "Full model\n",
      "                             OLS Regression Results                            \n",
      "==============================================================================\n",
      "Dep. Variable:                      y   R-squared:                       0.997\n",
      "Model:                            OLS   Adj. R-squared:                  0.988\n",
      "Method:                 Least Squares   F-statistic:                     111.3\n",
      "Date:                Fri, 28 Feb 2025   Prob (F-statistic):           2.26e-20\n",
      "Time:                        14:47:03   Log-Likelihood:                -68.031\n",
      "No. Observations:                 100   AIC:                             288.1\n",
      "Df Residuals:                      24   BIC:                             486.1\n",
      "Df Model:                          75                                         \n",
      "Covariance Type:            nonrobust                                         \n",
      "==============================================================================\n"
     ]
    }
   ],
   "source": [
    "print(f'True model\\n {true_model.summary().tables[0]}\\n\\n')\n",
    "print(f'Full model\\n {full_model.summary().tables[0]}')"
   ]
  },
  {
   "cell_type": "markdown",
   "id": "8dc43a20",
   "metadata": {},
   "source": [
    "How do we choose between them, we have **three different** type of sleection criterion"
   ]
  },
  {
   "cell_type": "markdown",
   "id": "d6553fc3",
   "metadata": {},
   "source": [
    "### Adjusted R-squared (to num of predictors)\n",
    "\n",
    "The adjusted R-squared is a modified version of R-squared that has been adjusted for the number of predictors in the model. The adjusted R-squared increases only if the new term **substantially improves** the model more than just by random chance.\n",
    "\n",
    "In particular, recall that the **vanilla R-squared** is calculated as:\n",
    "\n",
    "$$\n",
    "R^2 = 1 - \\frac{SS_{\\text{res}}}{SS_{\\text{tot}}}\n",
    "$$\n",
    "\n",
    "where $SS_{\\text{res}}$ is the sum of squares of the residuals and $SS_{\\text{tot}}$ is the total sum of squares. Then the **adjusted R-squared** is calculated as:\n",
    "\n",
    "$$\n",
    "\\text{Adjusted } R^2 = 1 - \\frac{n - 1}{n - p - 1} (1 - R^2)\n",
    "$$\n",
    "\n",
    "where $n$ is the number of observations and $p$ is the number of predictors.\n",
    "\n",
    "**Larger $R^2$, better model fit.**"
   ]
  },
  {
   "cell_type": "markdown",
   "id": "0d10790f",
   "metadata": {},
   "source": [
    "**Key idea is that we can use the adjusted $R^2$ to model the effects of the predictors:**\n",
    "\n",
    "* The adjusted R-squared will always be less than or equal to the R-squared.\n",
    "\n",
    "* If $p \\mapsto p+1$ but the R-squared of the new model stays the same\n",
    "    * Then the adjusted R-squared will decrease\n",
    "* If $p \\mapsto p+1$ and the R-squared of the new model increases substantially\n",
    "    * Then the adjusted R-squared will also increase"
   ]
  },
  {
   "cell_type": "code",
   "execution_count": 61,
   "id": "f9fac10b",
   "metadata": {},
   "outputs": [
    {
     "data": {
      "text/plain": [
       "array([52, 43, 73, 34, 58])"
      ]
     },
     "execution_count": 61,
     "metadata": {},
     "output_type": "execute_result"
    }
   ],
   "source": [
    "true_p"
   ]
  },
  {
   "cell_type": "code",
   "execution_count": 62,
   "id": "89a67d02",
   "metadata": {},
   "outputs": [
    {
     "name": "stdout",
     "output_type": "stream",
     "text": [
      "Simple model R2: 0.00014619262056103643\t Adjusted R2: -0.02046934979963355\n",
      "True model R2: 0.9895989314725879\t Adjusted R2: 0.9890456831466617\n",
      "Full model R2: 0.9971318469486614\t Adjusted R2: 0.9881688686632284\n"
     ]
    }
   ],
   "source": [
    "simple_model_formula = 'y ~ 1 + x0 + x1'\n",
    "simple_model = smf.ols(simple_model_formula, data=df).fit()\n",
    "\n",
    "print(f'Simple model R2: {simple_model.rsquared}\\t Adjusted R2: {simple_model.rsquared_adj}')\n",
    "print(f'True model R2: {true_model.rsquared}\\t Adjusted R2: {true_model.rsquared_adj}')\n",
    "print(f'Full model R2: {full_model.rsquared}\\t Adjusted R2: {full_model.rsquared_adj}')"
   ]
  },
  {
   "cell_type": "code",
   "execution_count": 63,
   "id": "dc1d2c74",
   "metadata": {},
   "outputs": [
    {
     "name": "stdout",
     "output_type": "stream",
     "text": [
      "Adjusted R2: 0.9881688686632284\n"
     ]
    }
   ],
   "source": [
    "model = full_model\n",
    "model_p = len(model.params) - 1\n",
    "adjr2 = 1 - (1 - model.rsquared) * (n - 1) / (n - model_p - 1)\n",
    "print(f'Adjusted R2: {adjr2}')"
   ]
  },
  {
   "cell_type": "markdown",
   "id": "d5741f23",
   "metadata": {},
   "source": [
    "Drawbacks of the adjusted R-squared:\n",
    "\n",
    "* It is not a good measure of the **goodness of fit** of the model\n",
    "* There is no good Adjusted R-squared metric for logistic and multinomial regression models"
   ]
  },
  {
   "cell_type": "markdown",
   "id": "7f36946e",
   "metadata": {},
   "source": [
    "### Akaike Information Criterion (AIC) & Bayesian Information Criterion (BIC)\n",
    "\n",
    "The AIC and BIC are measures of **the goodness of fit** of a model, adjusted for the number of predictors. They are both based on the **(log-)likelihood** of the model and the number of predictors.\n",
    "\n",
    "Remember the log-likelihood of the model is given by\n",
    "\n",
    "$$\n",
    "\\ell(\\beta) = \\sum_{i=1}^{n} \\log f(y_i | x_i, \\beta)\n",
    "$$\n",
    "\n",
    "where $f(y_i | x_i, \\beta)$ is the probability density function of the response variable given the predictors and the coefficients.\n",
    "\n",
    "The **AIC** is defined as\n",
    "\n",
    "$$\n",
    "AIC = -2\\ell(\\beta) + 2p\n",
    "$$\n",
    "\n",
    "and the **BIC** is defined as\n",
    "\n",
    "$$\n",
    "BIC = -2\\ell(\\beta) + p \\log n\n",
    "$$\n",
    "\n",
    "The key idea is that:\n",
    "- AIC: Penalizes model complexity with a constant $2p$, making it more lenient for adding predictors.\n",
    "- BIC: Uses a stronger penalty $p \\log(n)$, making it more conservative, especially with larger datasets.\n",
    "\n",
    "**Intuition: it tells you given teh previous predictor, how much does the new one explain teh variance.**\n",
    "\n",
    "**Smaller AIC and BIC resembles better model fit**"
   ]
  },
  {
   "cell_type": "code",
   "execution_count": 64,
   "id": "0e8930d0",
   "metadata": {},
   "outputs": [
    {
     "name": "stdout",
     "output_type": "stream",
     "text": [
      "Simple model AIC: 727.4564984540095 \t BIC: 735.2720090119739\n",
      "True model AIC: 276.88644527557176 \t BIC: 292.5174663915003\n",
      "Full model AIC: 288.0624195360016 \t BIC: 486.05535367109655\n"
     ]
    }
   ],
   "source": [
    "print(f'Simple model AIC: {simple_model.aic} \\t BIC: {simple_model.bic}')\n",
    "print(f'True model AIC: {true_model.aic} \\t BIC: {true_model.bic}')\n",
    "print(f'Full model AIC: {full_model.aic} \\t BIC: {full_model.bic}')"
   ]
  },
  {
   "cell_type": "code",
   "execution_count": 65,
   "id": "1f04bea5",
   "metadata": {},
   "outputs": [
    {
     "name": "stdout",
     "output_type": "stream",
     "text": [
      "AIC: 288.0624195360016 \t BIC: 486.05535367109655\n"
     ]
    }
   ],
   "source": [
    "model = full_model\n",
    "model_p = len(model.params)\n",
    "aic = -2 * model.llf + 2 * model_p\n",
    "bic = -2 * model.llf + np.log(n) * model_p\n",
    "print(f'AIC: {aic} \\t BIC: {bic}')"
   ]
  },
  {
   "cell_type": "markdown",
   "id": "af1f5928",
   "metadata": {},
   "source": [
    "### Cross Validation Error\n",
    "\n",
    "The cross-validation error (also known as the test error or the out-of-sample error) is another metric for evaluating a model’s predictive power. It is based on the average error of the model on new data it didn’t have access to during the model fitting process.\n",
    "\n",
    "> 1. **Split the data into:**\n",
    ">    - a training set $y_{\\text{train}}, X_{\\text{train}}$ **and**\n",
    ">    - a test set $y_{\\text{test}}, X_{\\text{test}}$\n",
    "> \n",
    "> 2. **Fit the model on the training set and obtain** $\\hat{\\beta}_{\\text{train}}$\n",
    "> \n",
    "> 3. **Compute the fit of the model on the test set:**\n",
    "> \n",
    ">    $$\n",
    ">    \\hat{y}_{\\text{test}} = f(\\hat{\\beta}_{\\text{train}}, X_{\\text{test}})\n",
    ">    $$\n",
    "> \n",
    "> 4. **Compute the error of the model on the test set:**\n",
    "> \n",
    ">    $$\n",
    ">    || y_{\\text{test}} - \\hat{y}_{\\text{test}} ||\n",
    ">    $$\n",
    "\n",
    "This is really powerful because we can use this for any model! Does not make assumptions that we need to check like for the previous two models (assume mle of some sort of distribution). However, we  can not make **Inferences** and ties back to model."
   ]
  },
  {
   "cell_type": "code",
   "execution_count": 66,
   "id": "ec7ac8f4",
   "metadata": {},
   "outputs": [
    {
     "name": "stdout",
     "output_type": "stream",
     "text": [
      "simple model formula: y ~ 1 + x0 + x1\n",
      "true model formula: y ~ x52 + x43 + x73 + x34 + x58\n",
      "full model formula: y ~ x0 + x1 + x2 + x3 + x4 + x5 + x6 + x7 + x8 + x9 + x10 + x11 + x12 + x13 + x14 + x15 + x16 + x17 + x18 + x19 + x20 + x21 + x22 + x23 + x24 + x25 + x26 + x27 + x28 + x29 + x30 + x31 + x32 + x33 + x34 + x35 + x36 + x37 + x38 + x39 + x40 + x41 + x42 + x43 + x44 + x45 + x46 + x47 + x48 + x49 + x50 + x51 + x52 + x53 + x54 + x55 + x56 + x57 + x58 + x59 + x60 + x61 + x62 + x63 + x64 + x65 + x66 + x67 + x68 + x69 + x70 + x71 + x72 + x73 + x74\n"
     ]
    }
   ],
   "source": [
    "print(f'simple model formula: {simple_model_formula}')\n",
    "print(f'true model formula: {true_model_formula}')\n",
    "print(f'full model formula: {full_model_formula}')"
   ]
  },
  {
   "cell_type": "code",
   "execution_count": 67,
   "id": "07ce8e43",
   "metadata": {},
   "outputs": [
    {
     "data": {
      "text/plain": [
       "((75, 76), (25, 76))"
      ]
     },
     "execution_count": 67,
     "metadata": {},
     "output_type": "execute_result"
    }
   ],
   "source": [
    "from sklearn.model_selection import train_test_split\n",
    "train, test = train_test_split(df, test_size = 0.25, random_state = 1)\n",
    "train.shape, test.shape"
   ]
  },
  {
   "cell_type": "code",
   "execution_count": 68,
   "id": "fc6a0808",
   "metadata": {},
   "outputs": [],
   "source": [
    "def cv_error(formula, train, test):\n",
    "    model = smf.ols(formula, data=train).fit()\n",
    "    yhat_test = model.predict(test)\n",
    "    error = np.sum((test['y'] - yhat_test) ** 2)\n",
    "    return error"
   ]
  },
  {
   "cell_type": "code",
   "execution_count": 69,
   "id": "f7646d3a",
   "metadata": {},
   "outputs": [
    {
     "name": "stdout",
     "output_type": "stream",
     "text": [
      "Simple model: 2606.817128750115\n",
      "True model: 23.68482037439225\n",
      "Full model: 1108.5921382899548\n"
     ]
    }
   ],
   "source": [
    "print(f'Simple model: {cv_error(simple_model_formula, train, test)}')\n",
    "print(f'True model: {cv_error(true_model_formula, train, test)}')\n",
    "print(f'Full model: {cv_error(full_model_formula, train, test)}')"
   ]
  },
  {
   "cell_type": "markdown",
   "id": "88541134",
   "metadata": {},
   "source": [
    "Advantages of cross-validation:\n",
    "1. It can be used for any sort of model, i.e., you don't need to know how to compute the likelihood of the model\n",
    "2. It is a good measure of the model's predictive power\n",
    "\n",
    "Disadvantages of cross-validation:\n",
    "1. It is computationally expensive\n",
    "2. It is not a measure of the model's **goodness of fit**!!\n",
    "    * i.e., You can have two models with the same cross-validation error but one is a better fit than the other\n",
    "\n",
    "<br><br>"
   ]
  },
  {
   "cell_type": "markdown",
   "id": "ee0e1586",
   "metadata": {},
   "source": [
    "## Stepwise Selection\n",
    "\n",
    "Now that we have a selection criterion, let’s call it\n",
    "\n",
    "$$\n",
    "C(\\{x_1, x_2, \\dots, x_p\\})\n",
    "$$\n",
    "\n",
    "we can use this criterion to select the best model from all possible models."
   ]
  },
  {
   "cell_type": "markdown",
   "id": "4dcd8a78",
   "metadata": {},
   "source": [
    "### Forward Selection\n",
    "\n",
    "The forward selection algorithm starts with the **null model**\n",
    "\n",
    "$$\n",
    "y = \\beta_0 + e\n",
    "$$\n",
    "\n",
    "and iteratively **adds** the predictor that most improves the model according to the selection criterion.\n",
    "\n",
    "That is, suppose we have variables $(x_{i_1}, x_{i_2}, \\dots, x_{i_k})$ in the model already. Then we **add** the predictor $x_j$ for $j \\notin \\{i_1, i_2, \\dots, i_k\\}$ that minimizes the criterion\n",
    "\n",
    "$$\n",
    "\\min_{j \\notin \\{i_1, i_2, \\dots, i_k\\}} C(\\{x_{i_1}, x_{i_2}, \\dots, x_{i_k}\\} \\cup x_j)\n",
    "$$\n",
    "\n",
    "Terminate if\n",
    "\n",
    "$$\n",
    "\\min_{j \\notin \\{i_1, i_2, \\dots, i_k\\}} C(\\{x_{i_1}, x_{i_2}, \\dots, x_{i_k}\\} \\cup x_j) > C(\\{x_{i_1}, x_{i_2}, \\dots, x_{i_k}\\})\n",
    "$$\n"
   ]
  },
  {
   "cell_type": "markdown",
   "id": "a0e74913",
   "metadata": {},
   "source": [
    "### Backward Selection\n",
    "\n",
    "The backward selection algorithm starts with the **full model**\n",
    "\n",
    "$$\n",
    "y = \\beta_0 + \\beta_1 x_1 + \\beta_2 x_2 + \\dots + \\beta_p x_p + e\n",
    "$$\n",
    "\n",
    "and iteratively **removes** predictors that least contribute to the model according to the selection criterion.\n",
    "\n",
    "That is, suppose we have variables $(x_{i_1}, x_{i_2}, \\dots, x_{i_k})$ in the model already. Then we **remove** the predictor $x_j$ for $j \\in \\{i_1, i_2, \\dots, i_k\\}$ which minimizes the criterion\n",
    "\n",
    "$$\n",
    "\\min_{j \\in \\{i_1, i_2, \\dots, i_k\\}} C(\\{x_{i_1}, x_{i_2}, \\dots, x_{i_k}\\} \\setminus x_j)\n",
    "$$\n",
    "\n",
    "Terminate if\n",
    "\n",
    "$$\n",
    "\\min_{j \\in \\{i_1, i_2, \\dots, i_k\\}} C(\\{x_{i_1}, x_{i_2}, \\dots, x_{i_k}\\} \\setminus x_j) > C(\\{x_{i_1}, x_{i_2}, \\dots, x_{i_k}\\})\n",
    "$$\n"
   ]
  },
  {
   "cell_type": "markdown",
   "id": "5bb026ee",
   "metadata": {},
   "source": [
    "### Mixed Selection\n",
    "\n",
    "The mixed selection algorithm does a combination of forward and backward selection. It starts with the null model and iteratively **adds** _and/or_ **removes** predictors according to the selection criterion."
   ]
  },
  {
   "cell_type": "markdown",
   "id": "ddca4660",
   "metadata": {},
   "source": [
    "**NOTICE that the two method does not neccessarily give you the same model. It gives you solution along the optimal path but not the optimal solution**"
   ]
  },
  {
   "cell_type": "markdown",
   "id": "10d5c26e",
   "metadata": {},
   "source": [
    "We can write a simple function to do forward/backward selection using the `statsmodels` package."
   ]
  },
  {
   "cell_type": "code",
   "execution_count": 70,
   "id": "6041dd97",
   "metadata": {},
   "outputs": [
    {
     "data": {
      "text/plain": [
       "292.5174663915003"
      ]
     },
     "execution_count": 70,
     "metadata": {},
     "output_type": "execute_result"
    }
   ],
   "source": [
    "criterion = lambda formula, df: smf.ols(formula, data=df).fit().bic\n",
    "criterion(true_model_formula, df)"
   ]
  },
  {
   "cell_type": "code",
   "execution_count": 71,
   "id": "57833364",
   "metadata": {},
   "outputs": [],
   "source": [
    "def add(df, selected_columns, columns, criterion, response='y'):\n",
    "    best_criterion = np.inf\n",
    "    best_column = None\n",
    "    for column in columns - selected_columns:\n",
    "        new_columns = selected_columns.union({column})\n",
    "        formula = f'{response} ~ {\" + \".join(new_columns)}'\n",
    "        current_criterion = criterion(formula, df)\n",
    "        if current_criterion < best_criterion:\n",
    "            best_criterion = current_criterion\n",
    "            best_column = column\n",
    "    return selected_columns.union({best_column}), best_criterion\n",
    "\n",
    "def forward(df, criterion, response='y'):\n",
    "    selected_columns = set()\n",
    "    columns = set(df.columns.drop(response))\n",
    "    best_criterion = np.inf\n",
    "    while len(selected_columns) < len(columns):\n",
    "        potential_columns, current_criterion = add(df, selected_columns, columns, criterion, response)\n",
    "        if current_criterion > best_criterion:\n",
    "            break\n",
    "        else:\n",
    "            selected_columns = potential_columns\n",
    "            best_criterion = current_criterion\n",
    "            print(f'Criterion: {best_criterion}')\n",
    "    return selected_columns"
   ]
  },
  {
   "cell_type": "code",
   "execution_count": 72,
   "id": "d355c1f1",
   "metadata": {},
   "outputs": [
    {
     "name": "stdout",
     "output_type": "stream",
     "text": [
      "Criterion: 681.9788150488921\n",
      "Criterion: 643.1599289933773\n",
      "Criterion: 568.2608642451685\n",
      "Criterion: 467.14393960969767\n",
      "Criterion: 276.88644527557176\n",
      "Criterion: 271.4092426870773\n",
      "Criterion: 269.2372232103861\n",
      "Criterion: 267.52917190970163\n",
      "Criterion: 265.775579291663\n",
      "Criterion: 264.2440434961077\n",
      "Criterion: 261.85934621848764\n",
      "Criterion: 260.93887882045397\n",
      "Criterion: 259.8833001446284\n",
      "Criterion: 258.1346666734003\n",
      "Criterion: 257.0355095873332\n",
      "Criterion: 255.93201775021407\n",
      "Criterion: 254.7291312975522\n",
      "Criterion: 253.8458750763437\n",
      "Criterion: 253.3815932944145\n",
      "Criterion: 252.18305096879317\n",
      "Criterion: 251.5030842770947\n",
      "Criterion: 687.1891554208682\n",
      "Criterion: 650.9754395513417\n",
      "Criterion: 578.6815449891209\n",
      "Criterion: 480.16979053963814\n",
      "Criterion: 292.5174663915003\n",
      "Criterion: 289.64543398899394\n",
      "Criterion: -0.34608026596799735\n",
      "Criterion: -0.5607572363065052\n",
      "Criterion: -0.7942988489831296\n",
      "Criterion: -0.9258769577304805\n",
      "Criterion: -0.9890456831466617\n",
      "Criterion: -0.9897255844808185\n",
      "Criterion: -0.9900383014288969\n",
      "Criterion: -0.9902954373243478\n",
      "Criterion: -0.990549099160862\n",
      "Criterion: -0.9907745312052192\n",
      "Criterion: -0.9910699625467232\n",
      "Criterion: -0.991227300139614\n",
      "Criterion: -0.9913923646009707\n",
      "Criterion: -0.9916115198699484\n",
      "Criterion: -0.99177068945081\n",
      "Criterion: -0.9919260444993757\n",
      "Criterion: -0.9920851874752623\n",
      "Criterion: -0.9922151967083193\n",
      "Criterion: -0.9923097504091436\n",
      "Criterion: -0.9924575535029961\n",
      "Criterion: -0.9925628630417055\n",
      "Criterion: -0.9926128817405376\n",
      "Criterion: -0.9926613596469214\n",
      "Criterion: -0.9926819498871525\n",
      "Criterion: -0.9927328639753357\n",
      "Criterion: -0.9928017279442306\n",
      "Criterion: -0.9928405979744526\n",
      "forward_vars_aic: {'x17', 'x29', 'x65', 'x57', 'x70', 'x38', 'x52', 'x34', 'x39', 'x40', 'x62', 'x14', 'x23', 'x33', 'x24', 'x19', 'x44', 'x50', 'x73', 'x43', 'x58'}\n",
      "forward_vars_bic: {'x52', 'x34', 'x73', 'x43', 'x58', 'x50'}\n",
      "forward_vars_r2: {'x17', 'x26', 'x29', 'x65', 'x57', 'x37', 'x70', 'x38', 'x52', 'x34', 'x39', 'x40', 'x62', 'x14', 'x23', 'x33', 'x24', 'x47', 'x19', 'x44', 'x50', 'x0', 'x73', 'x64', 'x43', 'x58', 'x71'}\n"
     ]
    }
   ],
   "source": [
    "r2_adj_criterion = lambda formula, df: -smf.ols(formula, data=df).fit().rsquared_adj\n",
    "bic_criterion = lambda formula, df: smf.ols(formula, data=df).fit().bic\n",
    "aic_criterion = lambda formula, df: smf.ols(formula, data=df).fit().aic\n",
    "\n",
    "forward_vars_aic = forward(df, aic_criterion, response='y')\n",
    "forward_vars_bic = forward(df, bic_criterion, response='y')\n",
    "forward_vars_r2 = forward(df, r2_adj_criterion, response='y')\n",
    "\n",
    "print(f'forward_vars_aic: {forward_vars_aic}')\n",
    "print(f'forward_vars_bic: {forward_vars_bic}')\n",
    "print(f'forward_vars_r2: {forward_vars_r2}')"
   ]
  },
  {
   "cell_type": "code",
   "execution_count": 73,
   "id": "830d4ea0",
   "metadata": {},
   "outputs": [
    {
     "data": {
      "text/plain": [
       "({'x34', 'x43', 'x50', 'x52', 'x58', 'x73'},\n",
       " {'x34', 'x43', 'x52', 'x58', 'x73'})"
      ]
     },
     "execution_count": 73,
     "metadata": {},
     "output_type": "execute_result"
    }
   ],
   "source": [
    "forward_vars_bic, true_x"
   ]
  },
  {
   "cell_type": "code",
   "execution_count": 74,
   "id": "525d37d5",
   "metadata": {},
   "outputs": [
    {
     "name": "stdout",
     "output_type": "stream",
     "text": [
      "                            OLS Regression Results                            \n",
      "==============================================================================\n",
      "Dep. Variable:                      y   R-squared:                       0.990\n",
      "Model:                            OLS   Adj. R-squared:                  0.990\n",
      "Method:                 Least Squares   F-statistic:                     1590.\n",
      "Date:                Fri, 28 Feb 2025   Prob (F-statistic):           2.17e-91\n",
      "Time:                        14:47:17   Log-Likelihood:                -128.70\n",
      "No. Observations:                 100   AIC:                             271.4\n",
      "Df Residuals:                      93   BIC:                             289.6\n",
      "Df Model:                           6                                         \n",
      "Covariance Type:            nonrobust                                         \n",
      "==============================================================================\n",
      "                 coef    std err          t      P>|t|      [0.025      0.975]\n",
      "------------------------------------------------------------------------------\n",
      "Intercept      0.0881      0.094      0.935      0.352      -0.099       0.275\n",
      "x52            2.0972      0.087     24.178      0.000       1.925       2.269\n",
      "x34            4.9227      0.094     52.258      0.000       4.736       5.110\n",
      "x73            3.9971      0.095     42.107      0.000       3.809       4.186\n",
      "x43            3.0588      0.086     35.398      0.000       2.887       3.230\n",
      "x58            5.8352      0.093     62.708      0.000       5.650       6.020\n",
      "x50            0.1999      0.074      2.687      0.009       0.052       0.348\n",
      "==============================================================================\n",
      "Omnibus:                       13.846   Durbin-Watson:                   1.908\n",
      "Prob(Omnibus):                  0.001   Jarque-Bera (JB):               16.124\n",
      "Skew:                           0.768   Prob(JB):                     0.000315\n",
      "Kurtosis:                       4.228   Cond. No.                         1.55\n",
      "==============================================================================\n",
      "\n",
      "Notes:\n",
      "[1] Standard Errors assume that the covariance matrix of the errors is correctly specified.\n"
     ]
    }
   ],
   "source": [
    "forward_formula = f'y ~ {\" + \".join(forward_vars_bic)}'\n",
    "forward_model = smf.ols(forward_formula, data=df).fit()\n",
    "print(forward_model.summary())"
   ]
  },
  {
   "cell_type": "markdown",
   "id": "3a24bfb3",
   "metadata": {},
   "source": [
    "---\n",
    "---"
   ]
  },
  {
   "cell_type": "markdown",
   "id": "d56041c0",
   "metadata": {},
   "source": [
    "## Another Perspective: Regularization / Shrinkage Methods\n",
    "\n",
    "Looking from another perspective, we try to deal with tradeoffs as well through the scope of regularization. We look at regularziation from **machine learning and optimization's perspective** before, let's look at it from a **statistical perspective now**.\n",
    "\n",
    "<br>\n",
    "\n",
    "* Regularization / Shrinkage methods are a class of methods that use a **penalty** to shrink **the coefficients of the less important predictors** to zero. \n",
    "\n",
    "* It achieves a similar objective to stepwise selection, but uses a slightly different strategy. \n",
    "\n",
    "\n",
    "To see this, first let's look at the objective function of the **standard regression** task:"
   ]
  },
  {
   "cell_type": "markdown",
   "id": "0b91a11a",
   "metadata": {},
   "source": [
    "> #### Standard Regression\n",
    "\n",
    "\n",
    "$$\n",
    "y = \\beta_0 + \\beta_1 x_1 + \\beta_2 x_2 + \\dots + \\beta_p x_p + \\epsilon\n",
    "$$\n",
    "\n",
    "Recall that the **least-squares loss** selects the model with the smallest residual standard error, i.e., \n",
    "\n",
    "$$\n",
    "L(\\beta_0, \\beta_2, \\dots, \\beta_p) = SS_{Res} = \\sum_{i=1}^n (y_i - \\beta_0 - \\beta_1 x_{1, i} - \\dots \\beta_p x_{p, i})^2\n",
    "$$\n",
    "\n",
    "\n",
    "The solution to this problem is denoted as follows:\n",
    "\n",
    "$$\n",
    "(\\hat\\beta_0, \\hat\\beta_1, \\hat\\beta_2, \\dots, \\hat\\beta_p) = \\mathop{\\arg\\min}\\limits_{\\beta_1 \\dots \\beta_p} L(\\beta_0, \\beta_2, \\dots, \\beta_p)\n",
    "$$"
   ]
  },
  {
   "cell_type": "markdown",
   "id": "ec5e916b",
   "metadata": {},
   "source": [
    "**We will then look at regu,larizor from a very statistical perspective!**"
   ]
  },
  {
   "cell_type": "markdown",
   "id": "9e5993fe",
   "metadata": {},
   "source": [
    "> #### Regularized Regression\n",
    "\n",
    "If we want to select only a subset of these variables in our final model, we can include a penalty term \n",
    "$$p_\\lambda(\\beta_1, \\dots, \\beta_p)$$ \n",
    "\n",
    "which **favours solutions which select smaller subsets of the variables.** In this setting, the objective function becomes\n",
    "\n",
    "$$\n",
    "\\boxed{\n",
    "L_\\lambda(\\beta_0, \\beta_1, \\dots, \\beta_p) = L(\\beta_0, \\beta_2, \\dots, \\beta_p) + p_\\lambda(\\beta_1, \\dots, \\beta_p)\n",
    "}\n",
    "$$\n",
    "\n",
    "* Here $\\lambda$ is a user-defined parameter that controls the strength of the penalty."
   ]
  },
  {
   "cell_type": "markdown",
   "id": "324132f9",
   "metadata": {},
   "source": [
    "> #### What do we want an ideal penalty function to do?\n",
    "\n",
    "\n",
    "1. We want $p_\\lambda(\\beta_1, \\beta_2, \\dots, \\beta_p)$ to be be **large** when too many predictors are included in the model. \n",
    "\n",
    "2. We want $p_\\lambda(\\beta_1, \\beta_2, \\dots, \\beta_p)$ to be **small** when only a few predictors are included in the model.\n",
    "\n",
    "3. Ideally, we want $p_\\lambda(\\beta_1, \\beta_2, \\dots, \\beta_p)$ to be **zero** when only the true predictors are included in the model.\n",
    "\n",
    "Unfortunately, this ideal is never achieved in practice! "
   ]
  },
  {
   "cell_type": "markdown",
   "id": "76bdbe22",
   "metadata": {},
   "source": [
    "> #### The regularization trade-off\n",
    "\n",
    "The final solution to the regularized regression problem is denoted as follows:\n",
    "\n",
    "$$\n",
    "(\\hat\\beta_0, \\hat\\beta_1, \\hat\\beta_2, \\dots, \\hat\\beta_p) = \\mathop{\\arg\\min}\\limits_{\\beta_1 \\dots \\beta_p} L(\\beta_0, \\beta_2, \\dots, \\beta_p) + p_\\lambda(\\beta_1, \\dots, \\beta_p)\n",
    "$$\n",
    "\n",
    "The solution to this problem is a trade-off between:\n",
    "\n",
    "* the **model fit** since we are minimizing $L(\\beta_0, \\beta_2, \\dots, \\beta_p)$\n",
    "* the **complexity of the model** since we are also minimizing $p_\\lambda(\\beta_1, \\dots, \\beta_p)$\n",
    "\n",
    "\n",
    "Observations:\n",
    "* If we only focus on $L(\\beta_0, \\beta_2, \\dots, \\beta_p)$, we will select too many variables.\n",
    "* If we only focus on $p_\\lambda(\\beta_1, \\dots, \\beta_p)$, we will end up selecting no predictors at all!\n",
    "* So the parameter $\\lambda$ controls the trade-off between the two objectives.\n",
    "\n",
    "**If you just choos the regularizer, you essentially just choose the null soluton picking no predictors at all**. We will look at a few ways of doing this loss in the following methods."
   ]
  },
  {
   "cell_type": "markdown",
   "id": "5d0236b5",
   "metadata": {},
   "source": [
    "> #### 1. The Ridge Penalty\n",
    "\n",
    "The ridge penalty is defined as\n",
    "\n",
    "$$\n",
    "p_\\lambda(\\beta_1, \\dots, \\beta_p) = \\lambda ||{\\betav}||^2 =  \\lambda \\sum_{j=1}^p \\beta_j^2\n",
    "$$\n",
    "\n",
    "The ridge penalty is also known as the $L_2$ penalty. It favours solutions where all the coefficients are small."
   ]
  },
  {
   "cell_type": "markdown",
   "id": "da887d44",
   "metadata": {},
   "source": [
    "> #### 2. The Lasso Penalty\n",
    "\n",
    "The LASSO (Least Angle Shrinkage and Selection Operator) penalty is defined as\n",
    "\n",
    "$$\n",
    "p_\\lambda(\\beta_1, \\dots, \\beta_p) = \\lambda ||{\\betav}||_1 =  \\lambda \\sum_{j=1}^p |\\beta_j|\n",
    "$$\n",
    "\n",
    "The LASSO penalty is also known as the $L_1$ penalty. It favours solutions where many of the coefficients are zero."
   ]
  },
  {
   "cell_type": "markdown",
   "id": "79840bd4",
   "metadata": {},
   "source": [
    "> #### 3. The Elastic Net Penalty\n",
    "\n",
    "The elastic net penalty is a combination of the ridge and lasso penalties. It is defined as\n",
    "\n",
    "$$\n",
    "p_\\lambda(\\beta_1, \\dots, \\beta_p) = \\lambda \\Big( \\gamma ||{\\betav}||_1 + (1-\\gamma) ||{\\betav}||^2 \\Big)\n",
    "$$\n",
    "\n",
    "where $\\gamma$ controls how much of the penalty is due to the lasso penalty and $(1-\\gamma)$ controls how much of the penalty is due to the ridge penalty.\n"
   ]
  },
  {
   "cell_type": "markdown",
   "id": "c311de91",
   "metadata": {},
   "source": [
    "We will look at an example:"
   ]
  },
  {
   "cell_type": "markdown",
   "id": "04964c93",
   "metadata": {},
   "source": [
    "**Consider the Boston housing data:**\n",
    "\n",
    "\n",
    "The original data are 506 observations on 14 variables, medv being the target variable:\n",
    "\n",
    "* `crim` per capita crime rate by town\n",
    "* `zn` proportion of residential land zoned for lots over 25,000 sq.ft\n",
    "* `indus` proportion of non-retail business acres per town\n",
    "* `chas` Charles River dummy variable (= 1 if tract bounds river; 0 otherwise)\n",
    "* `nox` nitric oxides concentration (parts per 10 million)\n",
    "* `rm` average number of rooms per dwelling\n",
    "* `age` proportion of owner-occupied units built prior to 1940\n",
    "* `dis` weighted distances to five Boston employment centres\n",
    "* `rad` index of accessibility to radial highways\n",
    "* `tax` full-value property-tax rate per USD 10,000\n",
    "* `ptratio` pupil-teacher ratio by town\n",
    "* ~`b` 1000(B - 0.63)^2 where B is the proportion of black residents by town~\n",
    "* `lstat` percentage of lower status of the population\n",
    "* `medv` median value of owner-occupied homes in USD 1000's"
   ]
  },
  {
   "cell_type": "code",
   "execution_count": 75,
   "id": "0ef963f2",
   "metadata": {},
   "outputs": [
    {
     "data": {
      "text/html": [
       "<div>\n",
       "<style scoped>\n",
       "    .dataframe tbody tr th:only-of-type {\n",
       "        vertical-align: middle;\n",
       "    }\n",
       "\n",
       "    .dataframe tbody tr th {\n",
       "        vertical-align: top;\n",
       "    }\n",
       "\n",
       "    .dataframe thead th {\n",
       "        text-align: right;\n",
       "    }\n",
       "</style>\n",
       "<table border=\"1\" class=\"dataframe\">\n",
       "  <thead>\n",
       "    <tr style=\"text-align: right;\">\n",
       "      <th></th>\n",
       "      <th>rownames</th>\n",
       "      <th>crim</th>\n",
       "      <th>zn</th>\n",
       "      <th>indus</th>\n",
       "      <th>chas</th>\n",
       "      <th>nox</th>\n",
       "      <th>rm</th>\n",
       "      <th>age</th>\n",
       "      <th>dis</th>\n",
       "      <th>rad</th>\n",
       "      <th>tax</th>\n",
       "      <th>ptratio</th>\n",
       "      <th>black</th>\n",
       "      <th>lstat</th>\n",
       "      <th>medv</th>\n",
       "    </tr>\n",
       "  </thead>\n",
       "  <tbody>\n",
       "    <tr>\n",
       "      <th>0</th>\n",
       "      <td>1</td>\n",
       "      <td>0.00632</td>\n",
       "      <td>18.0</td>\n",
       "      <td>2.31</td>\n",
       "      <td>0</td>\n",
       "      <td>0.538</td>\n",
       "      <td>6.575</td>\n",
       "      <td>65.2</td>\n",
       "      <td>4.0900</td>\n",
       "      <td>1</td>\n",
       "      <td>296</td>\n",
       "      <td>15.3</td>\n",
       "      <td>396.90</td>\n",
       "      <td>4.98</td>\n",
       "      <td>24.0</td>\n",
       "    </tr>\n",
       "    <tr>\n",
       "      <th>1</th>\n",
       "      <td>2</td>\n",
       "      <td>0.02731</td>\n",
       "      <td>0.0</td>\n",
       "      <td>7.07</td>\n",
       "      <td>0</td>\n",
       "      <td>0.469</td>\n",
       "      <td>6.421</td>\n",
       "      <td>78.9</td>\n",
       "      <td>4.9671</td>\n",
       "      <td>2</td>\n",
       "      <td>242</td>\n",
       "      <td>17.8</td>\n",
       "      <td>396.90</td>\n",
       "      <td>9.14</td>\n",
       "      <td>21.6</td>\n",
       "    </tr>\n",
       "    <tr>\n",
       "      <th>2</th>\n",
       "      <td>3</td>\n",
       "      <td>0.02729</td>\n",
       "      <td>0.0</td>\n",
       "      <td>7.07</td>\n",
       "      <td>0</td>\n",
       "      <td>0.469</td>\n",
       "      <td>7.185</td>\n",
       "      <td>61.1</td>\n",
       "      <td>4.9671</td>\n",
       "      <td>2</td>\n",
       "      <td>242</td>\n",
       "      <td>17.8</td>\n",
       "      <td>392.83</td>\n",
       "      <td>4.03</td>\n",
       "      <td>34.7</td>\n",
       "    </tr>\n",
       "    <tr>\n",
       "      <th>3</th>\n",
       "      <td>4</td>\n",
       "      <td>0.03237</td>\n",
       "      <td>0.0</td>\n",
       "      <td>2.18</td>\n",
       "      <td>0</td>\n",
       "      <td>0.458</td>\n",
       "      <td>6.998</td>\n",
       "      <td>45.8</td>\n",
       "      <td>6.0622</td>\n",
       "      <td>3</td>\n",
       "      <td>222</td>\n",
       "      <td>18.7</td>\n",
       "      <td>394.63</td>\n",
       "      <td>2.94</td>\n",
       "      <td>33.4</td>\n",
       "    </tr>\n",
       "    <tr>\n",
       "      <th>4</th>\n",
       "      <td>5</td>\n",
       "      <td>0.06905</td>\n",
       "      <td>0.0</td>\n",
       "      <td>2.18</td>\n",
       "      <td>0</td>\n",
       "      <td>0.458</td>\n",
       "      <td>7.147</td>\n",
       "      <td>54.2</td>\n",
       "      <td>6.0622</td>\n",
       "      <td>3</td>\n",
       "      <td>222</td>\n",
       "      <td>18.7</td>\n",
       "      <td>396.90</td>\n",
       "      <td>5.33</td>\n",
       "      <td>36.2</td>\n",
       "    </tr>\n",
       "  </tbody>\n",
       "</table>\n",
       "</div>"
      ],
      "text/plain": [
       "   rownames     crim    zn  indus  chas    nox     rm   age     dis  rad  tax  \\\n",
       "0         1  0.00632  18.0   2.31     0  0.538  6.575  65.2  4.0900    1  296   \n",
       "1         2  0.02731   0.0   7.07     0  0.469  6.421  78.9  4.9671    2  242   \n",
       "2         3  0.02729   0.0   7.07     0  0.469  7.185  61.1  4.9671    2  242   \n",
       "3         4  0.03237   0.0   2.18     0  0.458  6.998  45.8  6.0622    3  222   \n",
       "4         5  0.06905   0.0   2.18     0  0.458  7.147  54.2  6.0622    3  222   \n",
       "\n",
       "   ptratio   black  lstat  medv  \n",
       "0     15.3  396.90   4.98  24.0  \n",
       "1     17.8  396.90   9.14  21.6  \n",
       "2     17.8  392.83   4.03  34.7  \n",
       "3     18.7  394.63   2.94  33.4  \n",
       "4     18.7  396.90   5.33  36.2  "
      ]
     },
     "execution_count": 75,
     "metadata": {},
     "output_type": "execute_result"
    }
   ],
   "source": [
    "url = \"https://vincentarelbundock.github.io/Rdatasets/csv/MASS/Boston.csv\"\n",
    "boston = pd.read_csv(url)\n",
    "df = boston\n",
    "df.head()"
   ]
  },
  {
   "cell_type": "code",
   "execution_count": 76,
   "id": "6e6a0fd8",
   "metadata": {},
   "outputs": [
    {
     "data": {
      "text/plain": [
       "Text(0, 0.5, 'coefficient')"
      ]
     },
     "execution_count": 76,
     "metadata": {},
     "output_type": "execute_result"
    },
    {
     "data": {
      "image/png": "[encoded data removed]",
      "text/plain": [
       "<Figure size 700x700 with 1 Axes>"
      ]
     },
     "metadata": {},
     "output_type": "display_data"
    }
   ],
   "source": [
    "df = boston\n",
    "response = 'medv'\n",
    "full_model_formula = f\"{response} ~ {'+'.join(df.columns.drop(response))}\"\n",
    "\n",
    "l1wt = 1.0\n",
    "alphas = np.linspace(1e-3, 0.5, 200)\n",
    "elastic_coefs = []\n",
    "for alpha in alphas:\n",
    "    elastic_fit = smf.ols(full_model_formula, data=df).\\\n",
    "                fit_regularized(method='elastic_net', alpha=alpha, L1_wt=l1wt)\n",
    "    elastic_coefs.append(elastic_fit.params[1:])\n",
    "\n",
    "# Dataframe of coefficients\n",
    "elastic_coefs = pd.DataFrame(elastic_coefs, index=alphas)\n",
    "elastic_coefs\n",
    "\n",
    "# plot each coefficient\n",
    "fig, ax = plt.subplots(figsize=(7, 7))\n",
    "for column in elastic_coefs.columns:\n",
    "    ax.plot(alphas, elastic_coefs[column], label=column)\n",
    "ax.set_xlabel('alpha')\n",
    "ax.set_ylabel('coefficient')"
   ]
  },
  {
   "cell_type": "code",
   "execution_count": 77,
   "id": "2be57346",
   "metadata": {},
   "outputs": [
    {
     "name": "stdout",
     "output_type": "stream",
     "text": [
      "Intercept    7.620455\n",
      "rownames     0.010851\n",
      "zn           0.081443\n",
      "rm           4.008946\n",
      "black        0.015194\n",
      "dtype: float64\n"
     ]
    }
   ],
   "source": [
    "final_fit = elastic_fit = smf.ols(full_model_formula, data=df).\\\n",
    "                fit_regularized(method='elastic_net', alpha=0.5, L1_wt=1.0)\n",
    "\n",
    "print(final_fit.params[final_fit.params > 1e-2])"
   ]
  },
  {
   "cell_type": "code",
   "execution_count": 78,
   "id": "911b9e61",
   "metadata": {},
   "outputs": [
    {
     "name": "stdout",
     "output_type": "stream",
     "text": [
      "                            OLS Regression Results                            \n",
      "==============================================================================\n",
      "Dep. Variable:                   medv   R-squared:                       0.713\n",
      "Model:                            OLS   Adj. R-squared:                  0.708\n",
      "Method:                 Least Squares   F-statistic:                     137.0\n",
      "Date:                Fri, 28 Feb 2025   Prob (F-statistic):          2.18e-128\n",
      "Time:                        14:47:23   Log-Likelihood:                -1524.3\n",
      "No. Observations:                 506   AIC:                             3069.\n",
      "Df Residuals:                     496   BIC:                             3111.\n",
      "Df Model:                           9                                         \n",
      "Covariance Type:            nonrobust                                         \n",
      "==============================================================================\n",
      "                 coef    std err          t      P>|t|      [0.025      0.975]\n",
      "------------------------------------------------------------------------------\n",
      "Intercept     18.3153      4.259      4.300      0.000       9.947      26.684\n",
      "crim          -0.0601      0.033     -1.829      0.068      -0.125       0.004\n",
      "zn             0.0448      0.014      3.153      0.002       0.017       0.073\n",
      "rm             4.4132      0.425     10.384      0.000       3.578       5.248\n",
      "age           -0.0171      0.013     -1.294      0.196      -0.043       0.009\n",
      "dis           -1.1812      0.190     -6.209      0.000      -1.555      -0.807\n",
      "tax           -0.0037      0.002     -1.801      0.072      -0.008       0.000\n",
      "ptratio       -0.7174      0.127     -5.635      0.000      -0.968      -0.467\n",
      "black          0.0099      0.003      3.530      0.000       0.004       0.015\n",
      "lstat         -0.5481      0.053    -10.404      0.000      -0.652      -0.445\n",
      "==============================================================================\n",
      "Omnibus:                      213.320   Durbin-Watson:                   0.950\n",
      "Prob(Omnibus):                  0.000   Jarque-Bera (JB):             1178.401\n",
      "Skew:                           1.777   Prob(JB):                    1.30e-256\n",
      "Kurtosis:                       9.578   Cond. No.                     1.08e+04\n",
      "==============================================================================\n",
      "\n",
      "Notes:\n",
      "[1] Standard Errors assume that the covariance matrix of the errors is correctly specified.\n",
      "[2] The condition number is large, 1.08e+04. This might indicate that there are\n",
      "strong multicollinearity or other numerical problems.\n"
     ]
    }
   ],
   "source": [
    "final_params = final_fit.params[final_fit.params != 0].index[2:]\n",
    "\n",
    "print(smf.ols( f'{response} ~ {\"+\".join(final_params)}', df).fit().summary())"
   ]
  },
  {
   "cell_type": "markdown",
   "id": "c2054701",
   "metadata": {},
   "source": [
    "---"
   ]
  }
 ],
 "metadata": {
  "celltoolbar": "Slideshow",
  "hide_input": false,
  "kernelspec": {
   "display_name": "Python 3 (ipykernel)",
   "language": "python",
   "name": "python3"
  },
  "language_info": {
   "codemirror_mode": {
    "name": "ipython",
    "version": 3
   },
   "file_extension": ".py",
   "mimetype": "text/x-python",
   "name": "python",
   "nbconvert_exporter": "python",
   "pygments_lexer": "ipython3",
   "version": "3.8.20"
  },
  "toc": {
   "base_numbering": 2
  }
 },
 "nbformat": 4,
 "nbformat_minor": 5
}
