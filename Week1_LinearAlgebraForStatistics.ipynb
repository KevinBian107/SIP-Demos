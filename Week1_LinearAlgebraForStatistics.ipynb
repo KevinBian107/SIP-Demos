{
 "cells": [
  {
   "cell_type": "markdown",
   "id": "200e3bab",
   "metadata": {
    "slideshow": {
     "slide_type": "slide"
    },
    "tags": []
   },
   "source": [
    "# Math 189 Week 1 Summary"
   ]
  },
  {
   "cell_type": "code",
   "execution_count": 1,
   "id": "26ea9fb2",
   "metadata": {
    "slideshow": {
     "slide_type": "skip"
    }
   },
   "outputs": [],
   "source": [
    "import numpy as np\n",
    "import math\n",
    "import pandas as pd\n",
    "import matplotlib.pyplot as plt\n",
    "import ipywidgets\n",
    "from ipywidgets import interact, interactive, fixed, interact_manual\n",
    "%matplotlib inline"
   ]
  },
  {
   "cell_type": "markdown",
   "id": "801859d0",
   "metadata": {
    "slideshow": {
     "slide_type": "slide"
    },
    "tags": []
   },
   "source": [
    "# §1 Vectors and Linear Algebra"
   ]
  },
  {
   "cell_type": "code",
   "execution_count": 2,
   "id": "d040e5a0",
   "metadata": {
    "code_folding": [
     0,
     11,
     26,
     39,
     53,
     67
    ],
    "hide_input": false,
    "slideshow": {
     "slide_type": "skip"
    }
   },
   "outputs": [],
   "source": [
    "# These are plotting functions for the interactive visualizations\n",
    "def plot_v(v1, v2, v3):\n",
    "    fig = plt.figure()\n",
    "    ax = fig.add_subplot(111, projection='3d')\n",
    "    ax.quiver(0, 0, 0, v1, v2, v3)\n",
    "    ax.set_xlim([-3, 3]); ax.set_ylim([-3, 3]); ax.set_zlim([-3, 3])\n",
    "    ax.set_xlabel('X'); ax.set_ylabel('Y'); ax.set_zlabel('Z')\n",
    "    # camera angle\n",
    "    # ax.view_init(elev=20, azim=45)\n",
    "    plt.tight_layout()\n",
    "    plt.show()\n",
    "\n",
    "def plot_vw(v1, v2, v3, w1, w2, w3):\n",
    "    v = np.array([v1, v2, v3])\n",
    "    w = np.array([w1, w2, w3])\n",
    "    vw = v + w\n",
    "    fig = plt.figure()\n",
    "    ax = fig.add_subplot(111, projection='3d')\n",
    "    ax.quiver(0, 0, 0, *v)\n",
    "    ax.quiver(0, 0, 0, *w, color='black')\n",
    "    ax.quiver(0, 0, 0, *vw, color='red')\n",
    "    ax.set_xlim([-3, 3]); ax.set_ylim([-3, 3]); ax.set_zlim([-3, 3])\n",
    "    ax.set_xlabel('X'); ax.set_ylabel('Y'); ax.set_zlabel('Z')\n",
    "    # camera angle\n",
    "    # ax.view_init(elev=20, azim=45)\n",
    "    plt.show()\n",
    "  \n",
    "def plot_dotv(u1=1, u2=1, v1=1,v2=1):\n",
    "    u = np.array([u1, u2])\n",
    "    v = np.array([v1, v2])\n",
    "    uv = np.dot(u, v)\n",
    "    fig = plt.figure()\n",
    "    ax = fig.add_subplot(111)\n",
    "    ax.quiver(0, 0, *v, angles='xy', scale_units='xy', scale=1)\n",
    "    ax.quiver(0, 0, *u, angles='xy', scale_units='xy', scale=1)\n",
    "    ax.set_xlim([-3, 3]); ax.set_ylim([-3, 3])\n",
    "    ax.set_title(f'dot-product = {uv}')\n",
    "    plt.tight_layout()\n",
    "    plt.show()\n",
    "    \n",
    "def plot_crossv(u1=1, u2=1, v1=1,v2=1):\n",
    "    u = np.array([u1, u1, u2])\n",
    "    v = np.array([v1, 0, v2])\n",
    "    uv = np.cross(u, v)\n",
    "    fig = plt.figure()\n",
    "    ax = fig.add_subplot(111, projection='3d')\n",
    "    ax.quiver(0, 0, 0, *v,)\n",
    "    ax.quiver(0, 0, 0, *u,)\n",
    "    ax.quiver(0, 0, 0, *uv, color='red')\n",
    "    ax.set_xlim([-3, 3]); ax.set_ylim([-3, 3]); ax.set_zlim([-3, 3])\n",
    "    ax.set_title(f'cross-product = {uv}')\n",
    "    plt.tight_layout()\n",
    "    plt.show()\n",
    "\n",
    "def plot_Av(v1=1, v2=1, show_w=False):\n",
    "    # matrix on vector\n",
    "    w = A @ np.array([v1, v2])\n",
    "    fig = plt.figure()\n",
    "    ax = fig.add_subplot(111)\n",
    "    ax.quiver(0, 0, v1, v2, angles='xy', scale_units='xy', scale=1)\n",
    "    if show_w:\n",
    "        ax.quiver(0, 0, w[0], w[1], angles='xy', scale_units='xy', scale=1, color='red')\n",
    "    ax.set_xlim([-3, 3]); ax.set_ylim([-3, 3])\n",
    "    ax.set_xlabel('X'); ax.set_ylabel('Y')\n",
    "    plt.tight_layout()\n",
    "    plt.show()\n",
    "    print(f'A = \\n{A}')\n",
    "\n",
    "def plot_evec_multiplication(v1, v2, i, show_evec, show_av):\n",
    "    # i is the index of the eigenvector\n",
    "    # The matrix A is defined globally\n",
    "    eigvals, eigvecs = np.linalg.eig(A)\n",
    "    w = A @ np.array([v1, v2])\n",
    "    fig = plt.figure()\n",
    "    ax = fig.add_subplot(111)\n",
    "    ax.quiver(0, 0, v1, v2, angles='xy', scale_units='xy', scale=1)\n",
    "    if show_evec:\n",
    "        ax.quiver(0, 0, eigvecs[0, i], eigvecs[1, i], angles='xy', scale_units='xy', scale=1, color='red')\n",
    "    if show_av:\n",
    "        ax.quiver(0, 0, w[0], w[1], angles='xy', scale_units='xy', scale=1, color='green')\n",
    "    ax.set_xlim([-3, 3]); ax.set_ylim([-3, 3])\n",
    "    ax.set_xlabel('X'); ax.set_ylabel('Y')\n",
    "    plt.tight_layout()\n",
    "    plt.show()\n",
    "    print(f'w[{i}] = \\n{eigvecs[:, i]}')\n",
    "    print(f'λ[{i}] = {eigvals[i]}')"
   ]
  },
  {
   "cell_type": "markdown",
   "id": "7a20d73d",
   "metadata": {
    "slideshow": {
     "slide_type": "slide"
    },
    "tags": []
   },
   "source": [
    "## §1.1 Vectors"
   ]
  },
  {
   "cell_type": "markdown",
   "id": "92e6fa65",
   "metadata": {},
   "source": [
    "A vector $v \\in \\R^n$ represents a point \n",
    "\n",
    "$$\n",
    "v = (v_1, v_2, \\dots, v_n)\n",
    "$$\n",
    "\n",
    "in $n$-dimensional space where each $v_i$ is a number."
   ]
  },
  {
   "cell_type": "code",
   "execution_count": null,
   "id": "844505cf",
   "metadata": {
    "code_folding": []
   },
   "outputs": [],
   "source": [
    "@interact(v1=(-3.0, 3.5, 0.5), v2=(-3.0, 3.5, 0.5), v3=(-3.0, 3.5, 0.5))\n",
    "def _(**kwargs):\n",
    "    plot_v(**kwargs)"
   ]
  },
  {
   "cell_type": "markdown",
   "id": "c0f9a1a9",
   "metadata": {},
   "source": [
    "Given two vectors \n",
    "\n",
    "$$\n",
    "v = (v_1, v_2, \\dots v_n) \\\\\n",
    "w = (w_1, w_2, \\dots, w_n)\n",
    "$$\n",
    "\n",
    "the addition of $v$ and $w$ is given by\n",
    "\n",
    "$$\n",
    "v+w = (v_1 + w_1, v_2 + w_2, \\dots, v_n + w_n)\n",
    "$$"
   ]
  },
  {
   "cell_type": "code",
   "execution_count": null,
   "id": "fb6f737b",
   "metadata": {},
   "outputs": [],
   "source": [
    "v = np.array([1, 2, 3])\n",
    "w = np.array([1, 2, 3])\n",
    "v + w"
   ]
  },
  {
   "cell_type": "code",
   "execution_count": null,
   "id": "ef8562f1",
   "metadata": {
    "code_folding": [],
    "hide_input": false
   },
   "outputs": [],
   "source": [
    "@interact(\n",
    "    v1=(-3.0, 3.5, 0.5), v2=(-3.0, 3.5, 0.5), v3=(-3.0, 3.5, 0.5), \n",
    "    w1=(-3.0, 3.5, 0.5), w2=(-3.0, 3.5, 0.5), w3=(-3.0, 3.5, 0.5), \n",
    ")\n",
    "def _(**kwargs):\n",
    "    plot_vw(**kwargs)"
   ]
  },
  {
   "cell_type": "markdown",
   "id": "c8a89e09",
   "metadata": {},
   "source": [
    "### **Two types of \"products\" of vectors**"
   ]
  },
  {
   "cell_type": "markdown",
   "id": "c7a5c531",
   "metadata": {},
   "source": [
    "1. **dot product**\n",
    "\n",
    "The dot product of two vectors $u, v \\in \\R^n$ is the sum of the element-wise product\n",
    "\n",
    "$$\n",
    "u  v = \\sum_{i=1}^n u_i v_i\n",
    "$$\n",
    "\n",
    "The geometric interpretation of the dot product is given by:\n",
    "\n",
    "$$\n",
    "u  v = \\|{u}\\| \\|{v}\\| \\cos\\Big(\\angle \\theta(u, v)\\Big)\n",
    "$$"
   ]
  },
  {
   "cell_type": "code",
   "execution_count": null,
   "id": "03ba7318",
   "metadata": {
    "code_folding": []
   },
   "outputs": [],
   "source": [
    "@interact(u1=(-2, 2, 0.5), u2=(-2, 2, 0.5), v1=(-2, 2, 0.5), v2=(-2, 2, 0.5))\n",
    "def _(**kwargs):\n",
    "    plot_dotv(**kwargs)"
   ]
  },
  {
   "cell_type": "markdown",
   "id": "5979797a",
   "metadata": {},
   "source": [
    "2. **cross product**\n",
    "\n",
    "The cross product of two vectors $u, v \\in \\R^n$ the vector $w$ which is perpendicular to the linear space _spanned_ by $u$ and $v$, i.e.,\n",
    "$$\n",
    "w \\perp \\text{span}\\{u, v\\}\n",
    "$$\n",
    "and whose magnitude is \n",
    "$$\n",
    "\\|w\\| = \\|u\\| \\|v\\| \\sin\\big(\\angle\\theta(u, v)\\big)\n",
    "$$"
   ]
  },
  {
   "cell_type": "code",
   "execution_count": null,
   "id": "8a6c8895",
   "metadata": {
    "code_folding": []
   },
   "outputs": [],
   "source": [
    "@interact(u1=(-2, 2, 0.5), u2=(-2, 2, 0.5), v1=(-2, 2, 0.5), v2=(-2, 2, 0.5))\n",
    "def _(**kwargs): \n",
    "    plot_crossv(**kwargs)"
   ]
  },
  {
   "cell_type": "markdown",
   "id": "8692469f",
   "metadata": {},
   "source": [
    "Notice that cross product does give you a vector while dot product gives you a scaler value."
   ]
  },
  {
   "cell_type": "markdown",
   "id": "877b173d",
   "metadata": {
    "slideshow": {
     "slide_type": "slide"
    },
    "tags": []
   },
   "source": [
    "## §1.2: Linear Algebra on Vectors/Matrices"
   ]
  },
  {
   "cell_type": "markdown",
   "id": "abdef98a",
   "metadata": {},
   "source": [
    "The transformation of a vector $v \\in \\R^n$ by a matrix $A \\in \\R^{m \\times n}$ is another vector $w= f_A(v) = Av \\in \\R^m$ whose components are given by\n",
    "\n",
    "$$\n",
    "w_{1} = \\sum_{j=1}^n A_{1j}v_{j}\\\\\n",
    "w_{2} = \\sum_{j=1}^n A_{2j}v_{j}\\\\\n",
    "    \\vdots\\\\\n",
    "w_{m} = \\sum_{j=1}^n A_{mj}v_{j}\n",
    "$$\n",
    "\n",
    "Matrix is essentially defining a function (lienar) that has specifal property, essentially linear algebra is about acting matrix on vectors with special property."
   ]
  },
  {
   "cell_type": "code",
   "execution_count": null,
   "id": "db144994",
   "metadata": {},
   "outputs": [],
   "source": [
    "A = np.array([\n",
    "        [1.0, -1.0],\n",
    "        [-1.0, 1.0],\n",
    "    ])\n",
    "A"
   ]
  },
  {
   "cell_type": "code",
   "execution_count": null,
   "id": "f0fa5460",
   "metadata": {},
   "outputs": [],
   "source": [
    "A = np.array([\n",
    "        [1.0, -2.0],\n",
    "        [-1.0, 1.0]\n",
    "    ])\n",
    "@interact(v1=(-3.0, 3.5, 0.5), v2=(-3.0, 3.5, 0.5), show_w=False)\n",
    "def _(**kwargs):\n",
    "    plot_Av(**kwargs)"
   ]
  },
  {
   "cell_type": "code",
   "execution_count": null,
   "id": "fa646c55",
   "metadata": {},
   "outputs": [],
   "source": [
    "A = np.array([[1, -1], [-1, 1]])\n",
    "v = np.array([2,3])\n",
    "A @ v\n",
    "\n",
    "# Matrix-matrix product\n",
    "A @ A"
   ]
  },
  {
   "cell_type": "markdown",
   "id": "7b7e7d1c",
   "metadata": {},
   "source": [
    "## §2: Eigenvalues and Eigenvectors"
   ]
  },
  {
   "cell_type": "markdown",
   "id": "79c33416",
   "metadata": {},
   "source": [
    "Decomposition gives you more insights. Can `red` vector just be doing a scaling on the `black` vector?\n",
    "\n",
    "Given a **square matrix** $A$, one might ask if there exists a vector $v$ such that\n",
    "\n",
    "$$\n",
    "Av = \\lambda v\n",
    "$$\n",
    "\n",
    "where $\\lambda$ is a scalar. \n",
    "\n",
    "We want to know is there a vector $v$ associated with the matrix $A$ such that when $A$ is applied to $v$, the result is a scalar multiple of $v$? Yes, such vectors $v$ are called **eigenvectors** and the corresponding scalars $\\lambda$ are called **eigenvalues**. `It is a special property of both the matrix A and the vector v."
   ]
  },
  {
   "cell_type": "code",
   "execution_count": null,
   "id": "f2a57bce",
   "metadata": {},
   "outputs": [],
   "source": [
    "# Eigenvalues\n",
    "a = np.random.randn(2, 2)\n",
    "A = a @ a.T\n",
    "\n",
    "# compute eigenvalues\n",
    "eigenvalues, eigenvectors = np.linalg.eig(A)\n",
    "print(f'Eigenvalues of A are \\n{eigenvalues}\\n\\n')\n",
    "print(f'Eigenvectors of A are \\n{eigenvectors}\\n\\n')"
   ]
  },
  {
   "cell_type": "markdown",
   "id": "f3d4069f",
   "metadata": {},
   "source": [
    "Every square $n\\times n$ matrix $A$ has $n$ eigenvectors \n",
    "$$\n",
    "v_1, v_2, \\dots v_n\n",
    "$$ \n",
    "and $n$ corresponding eigenvalues (every single eigenvectors would follow such formulation)\n",
    "$$\n",
    "\\lambda_1, \\lambda_2, \\dots, \\lambda_n \\in \\mathbb{C} \\tag{General Matrix}\n",
    "$$ \n",
    "\n",
    "On the other hand, if the matrix $A$ is **symmetric**, then all the eigenvalues are real, i.e., \n",
    "\n",
    "$$\n",
    "\\lambda_1, \\lambda_2, \\dots, \\lambda_n \\in \\mathbb{R} \\tag{Symmetric Matrix}\n",
    "$$\n",
    "\n",
    "Furthermore, if the matrix $A$ is **positive definite**, then all the eigenvalues are positive, i.e.,\n",
    "\n",
    "$$\n",
    "\\lambda_1, \\lambda_2, \\dots, \\lambda_n > 0 \\tag{Symmetric, PD Matrix}\n",
    "$$"
   ]
  },
  {
   "cell_type": "markdown",
   "id": "e0e6b958",
   "metadata": {},
   "source": [
    "Let's confirm that the eigenvectors truly satisfy the equation $Av = \\lambda v$. `i` tells what is different values of the eigenvectors"
   ]
  },
  {
   "cell_type": "code",
   "execution_count": null,
   "id": "edbaf3f4",
   "metadata": {
    "code_folding": [
     1
    ]
   },
   "outputs": [],
   "source": [
    "@interact(v1=(-3.0, 3.5, 0.25), v2=(-3.0, 3.5, 0.25), i=(0, 1), show_evec=False, show_av=False)\n",
    "def _(**kwargs): \n",
    "    plot_evec_multiplication(**kwargs)"
   ]
  },
  {
   "cell_type": "markdown",
   "id": "cb60d18d",
   "metadata": {},
   "source": [
    "Properties of eigenvalues and eigenvectors:\n",
    "\n",
    "1. The sum of the eigenvalues of a matrix is equal to the **trace** of the matrix, i.e.,\n",
    "$$\n",
    "\\sum_{i=1}^n \\lambda_i = \\text{trace}(A)\n",
    "$$\n",
    "\n",
    "2. The product of the eigenvalues of a matrix is equal to the **determinant** of the matrix, i.e.,\n",
    "$$\n",
    "\\prod_{i=1}^n \\lambda_i = \\text{det}(A)\n",
    "$$\n",
    "\n",
    "3. The **rank** of a matrix is equal to the number of non-zero eigenvalues\n",
    "$$\n",
    "\\text{rank}(A) = \\text{number of non-zero eigenvalues}\n",
    "$$\n",
    "\n",
    "4. The eigenvectors are **orthonormal** (dot product is all zero, cosine is 90 degrees)\n",
    "$$\n",
    "v_i v_j = 0 \\text{ if } i \\neq j\\\\\n",
    "v_i v_j = 1 \\text{ if } i = j\n",
    "$$"
   ]
  },
  {
   "cell_type": "markdown",
   "id": "5da3f116",
   "metadata": {},
   "source": [
    "## §3: The most important use of matrices is to solve algebric systems"
   ]
  },
  {
   "cell_type": "markdown",
   "id": "df600808",
   "metadata": {},
   "source": [
    "An $n \\times m$ **matrix** $A$, is used to encode a system of $n$ linear equations in $m$ unknowns as follows:\n",
    "\n",
    "Consider $4$ unknown variables satisfying a system of $4$ linear equations given by\n",
    "\n",
    "$$\n",
    "\\begin{aligned}\n",
    "10 &= a + 2b + 3c + 4d\\\\\n",
    "9 &= 2a + 10b - 2c + 2d\\\\\n",
    "11 &= -a + b + 10c - 4d\\\\\n",
    "1 &= 3a - 2b + c/2 + d\n",
    "\\end{aligned}\n",
    "$$\n",
    "\n",
    "This is equivalently given by:\n",
    "\n",
    "$$\n",
    "b = A x\n",
    "$$\n",
    "\n",
    "where\n",
    "\n",
    "$$\n",
    "b = \n",
    "\\begin{pmatrix}\n",
    "10 \\\\\n",
    "9 \\\\\n",
    "11\\\\\n",
    "1\n",
    "\\end{pmatrix}\n",
    "\\quad \n",
    "A = \n",
    "\\begin{pmatrix}\n",
    "1  &  2    & 3 & 4\\\\\n",
    "2  &  10   & - 2 & 2\\\\\n",
    "-1 &  1    & 10 & -4\\\\\n",
    "3   & -2   & 1/2 & 1\n",
    "\\end{pmatrix}\n",
    "\\quad\n",
    "x = \\begin{pmatrix}\n",
    "a \\\\\n",
    "b \\\\\n",
    "c\\\\\n",
    "d\n",
    "\\end{pmatrix}\n",
    "$$\n",
    "\n",
    "The solution for $x$ is, then, given by\n",
    "\n",
    "$$\n",
    "\\boxed{x = A^{-1}b}\n",
    "$$\n",
    "\n",
    "This is the reason of why linear algebra is developed in the first place, to succintely represent algebric systems."
   ]
  },
  {
   "cell_type": "code",
   "execution_count": null,
   "id": "148c8236",
   "metadata": {},
   "outputs": [],
   "source": [
    "b = np.array([10, 9, 11, 1])\n",
    "\n",
    "A = np.array([\n",
    "    [1, 2, 3, 4],\n",
    "    [2, 10, -2, 2],\n",
    "    [-1, 1, 10, -4],\n",
    "    [2, -2, 1/2, 1],\n",
    "])\n",
    "\n",
    "\n",
    "# two ways of solving for x\n",
    "print(f' inv(A) @ b = {np.linalg.inv(A) @ b}')\n",
    "print(f' solve(A, b) = {np.linalg.solve(A, b)}')"
   ]
  }
 ],
 "metadata": {
  "celltoolbar": "Slideshow",
  "hide_input": false,
  "kernelspec": {
   "display_name": "Python 3 (ipykernel)",
   "language": "python",
   "name": "python3"
  },
  "language_info": {
   "codemirror_mode": {
    "name": "ipython",
    "version": 3
   },
   "file_extension": ".py",
   "mimetype": "text/x-python",
   "name": "python",
   "nbconvert_exporter": "python",
   "pygments_lexer": "ipython3",
   "version": "3.8.20"
  },
  "toc": {
   "base_numbering": 1,
   "nav_menu": {},
   "number_sections": true,
   "sideBar": true,
   "skip_h1_title": false,
   "title_cell": "Table of Contents",
   "title_sidebar": "Contents",
   "toc_cell": false,
   "toc_position": {},
   "toc_section_display": true,
   "toc_window_display": false
  }
 },
 "nbformat": 4,
 "nbformat_minor": 5
}
