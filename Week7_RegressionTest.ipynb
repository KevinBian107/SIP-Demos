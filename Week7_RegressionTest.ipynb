{
 "cells": [
  {
   "cell_type": "markdown",
   "id": "d499b8cf",
   "metadata": {},
   "source": [
    "# Math 189 Week 7 Summary\n",
    "> NAME: $\\color{blue}{\\text{Kaiwen Bian}}$\n",
    "> \n",
    "> PID: $\\color{blue}{\\text{A17316568}}$\n",
    ">\n",
    "> \n",
    "---"
   ]
  },
  {
   "cell_type": "markdown",
   "id": "1bce0cf8",
   "metadata": {},
   "source": [
    "I certify that the following write-up is my own work, and have abided by the UCSD Academic Integrity Guidelines.\n",
    "\n",
    "- [x] Yes\n",
    "- [ ] No"
   ]
  },
  {
   "cell_type": "markdown",
   "id": "6a1c41b1",
   "metadata": {},
   "source": [
    "% # %load tex-macros\n",
    "<div hidden>\n",
    "\\newcommand{\\require}[1]{}\n",
    "\n",
    "$\\require{begingroup}\\require{newcommand}$\n",
    "$\\long\\def \\forcecommand #1{\\providecommand{#1}{}\\renewcommand{#1}}$\n",
    "$\\forcecommand{\\defeq}{\\stackrel{\\small\\bullet}{=}}$\n",
    "$\\forcecommand{\\ra}{\\rangle}$\n",
    "$\\forcecommand{\\la}{\\langle}$\n",
    "$\\forcecommand{\\pr}{{\\mathbb P}}$\n",
    "$\\forcecommand{\\qr}{{\\mathbb Q}}$\n",
    "$\\forcecommand{\\xv}{{\\boldsymbol{x}}}$\n",
    "$\\forcecommand{\\av}{{\\boldsymbol{a}}}$\n",
    "$\\forcecommand{\\bv}{{\\boldsymbol{b}}}$\n",
    "$\\forcecommand{\\cv}{{\\boldsymbol{c}}}$\n",
    "$\\forcecommand{\\dv}{{\\boldsymbol{d}}}$\n",
    "$\\forcecommand{\\ev}{{\\boldsymbol{e}}}$\n",
    "$\\forcecommand{\\fv}{{\\boldsymbol{f}}}$\n",
    "$\\forcecommand{\\gv}{{\\boldsymbol{g}}}$\n",
    "$\\forcecommand{\\hv}{{\\boldsymbol{h}}}$\n",
    "$\\forcecommand{\\nv}{{\\boldsymbol{n}}}$\n",
    "$\\forcecommand{\\sv}{{\\boldsymbol{s}}}$\n",
    "$\\forcecommand{\\tv}{{\\boldsymbol{t}}}$\n",
    "$\\forcecommand{\\uv}{{\\boldsymbol{u}}}$\n",
    "$\\forcecommand{\\vv}{{\\boldsymbol{v}}}$\n",
    "$\\forcecommand{\\wv}{{\\boldsymbol{w}}}$\n",
    "$\\forcecommand{\\zerov}{{\\mathbf{0}}}$\n",
    "$\\forcecommand{\\onev}{{\\mathbf{0}}}$\n",
    "$\\forcecommand{\\phiv}{{\\boldsymbol{\\phi}}}$\n",
    "$\\forcecommand{\\cc}{{\\check{C}}}$\n",
    "$\\forcecommand{\\xv}{{\\boldsymbol{x}}}$\n",
    "$\\forcecommand{\\Xv}{{\\boldsymbol{X}\\!}}$\n",
    "$\\forcecommand{\\yv}{{\\boldsymbol{y}}}$\n",
    "$\\forcecommand{\\Yv}{{\\boldsymbol{Y}}}$\n",
    "$\\forcecommand{\\zv}{{\\boldsymbol{z}}}$\n",
    "$\\forcecommand{\\Zv}{{\\boldsymbol{Z}}}$\n",
    "$\\forcecommand{\\Iv}{{\\boldsymbol{I}}}$\n",
    "$\\forcecommand{\\Jv}{{\\boldsymbol{J}}}$\n",
    "$\\forcecommand{\\Cv}{{\\boldsymbol{C}}}$\n",
    "$\\forcecommand{\\Ev}{{\\boldsymbol{E}}}$\n",
    "$\\forcecommand{\\Fv}{{\\boldsymbol{F}}}$\n",
    "$\\forcecommand{\\Gv}{{\\boldsymbol{G}}}$\n",
    "$\\forcecommand{\\Hv}{{\\boldsymbol{H}}}$\n",
    "$\\forcecommand{\\alphav}{{\\boldsymbol{\\alpha}}}$\n",
    "$\\forcecommand{\\epsilonv}{{\\boldsymbol{\\epsilon}}}$\n",
    "$\\forcecommand{\\betav}{{\\boldsymbol{\\beta}}}$\n",
    "$\\forcecommand{\\deltav}{{\\boldsymbol{\\delta}}}$\n",
    "$\\forcecommand{\\gammav}{{\\boldsymbol{\\gamma}}}$\n",
    "$\\forcecommand{\\etav}{{\\boldsymbol{\\eta}}}$\n",
    "$\\forcecommand{\\piv}{{\\boldsymbol{\\pi}}}$\n",
    "$\\forcecommand{\\thetav}{{\\boldsymbol{\\theta}}}$\n",
    "$\\forcecommand{\\tauv}{{\\boldsymbol{\\tau}}}$\n",
    "$\\forcecommand{\\muv}{{\\boldsymbol{\\mu}}}$\n",
    "$%$\n",
    "$\\forcecommand{\\sd}{\\text{SD}}$\n",
    "$\\forcecommand{\\se}{\\text{SE}}$\n",
    "$\\forcecommand{\\med}{\\text{median}}$\n",
    "$\\forcecommand{\\median}{\\text{median}}$\n",
    "$%$\n",
    "$\\forcecommand{\\supp}{\\text{supp}}$\n",
    "$\\forcecommand{\\E}{\\mathbb{E}}$\n",
    "$\\forcecommand{\\var}{\\text{Var}}$\n",
    "$\\forcecommand{\\Ber}{{\\text{Ber}}}$\n",
    "$\\forcecommand{\\Bin}{{\\text{Bin}}}$\n",
    "$\\forcecommand{\\Geo}{{\\text{Geo}}}$\n",
    "$\\forcecommand{\\Unif}{{\\text{Unif}}}$\n",
    "$\\forcecommand{\\Poi}{{\\text{Poi}}}$\n",
    "$\\forcecommand{\\Exp}{{\\text{Exp}}}$\n",
    "$\\forcecommand{\\Chisq}{{\\chi^2}}$\n",
    "$\\forcecommand{\\N}{\\mathbb{N}}$\n",
    "$\\forcecommand{\\iid}{{\\stackrel{iid}{\\sim}}}$\n",
    "$\\forcecommand{\\px}{p_{X}}$\n",
    "$\\forcecommand{\\fx}{f_{X}}$\n",
    "$\\forcecommand{\\Fx}{F_{X}}$\n",
    "$\\forcecommand{\\py}{p_{Y}}$\n",
    "$\\forcecommand{\\pxy}{p_{X,Y}}$\n",
    "$\\forcecommand{\\po}{{p_0}}$\n",
    "$\\forcecommand{\\pa}{{p_a}}$\n",
    "$\\forcecommand{\\Xbar}{\\overline{X}}$\n",
    "$\\forcecommand{\\Ybar}{\\overline{Y}}$\n",
    "$\\forcecommand{\\Zbar}{\\overline{Z}}$\n",
    "$\\forcecommand{\\nXbar}{n \\cdot \\overline{X}}$\n",
    "$\\forcecommand{\\nYbar}{n \\cdot \\overline{Y}}$\n",
    "$\\forcecommand{\\nZbar}{n \\cdot \\overline{Z}}$\n",
    "$\\forcecommand{\\Xn}{X_1, X_2, \\dots, X_n}$\n",
    "$\\forcecommand{\\Xm}{{X_1, X_2, \\dots, X_m}}$\n",
    "$\\forcecommand{\\Yn}{Y_1, Y_2, \\dots, Y_n}$\n",
    "$\\forcecommand{\\Ym}{{Y_1, Y_2, \\dots, Y_m}}$\n",
    "$\\forcecommand{\\sumXn}{X_1 + X_2 + \\dots + X_n}$\n",
    "$\\forcecommand{\\sumym}{Y_1 + Y_2 + \\dots + Y_m}$\n",
    "$\\forcecommand{\\la}{\\ell_\\alpha}$\n",
    "$\\forcecommand{\\ua}{u_\\alpha}$\n",
    "$\\forcecommand{\\at}{{\\alpha/2}}$\n",
    "$\\forcecommand{\\mux}{\\mu_{X}}$\n",
    "$\\forcecommand{\\muy}{\\mu_{Y}}$\n",
    "$\\forcecommand{\\sx}{\\sigma_{X}}$\n",
    "$\\forcecommand{\\sy}{\\sigma_{Y}}$\n",
    "$\\forcecommand{\\ci}{\\text{CI}}$\n",
    "$\\forcecommand{\\pvalue}{$p$-value}$\n",
    "$\\forcecommand{\\Ho}{H_{0}}$\n",
    "$\\forcecommand{\\Ha}{H_{a}}$\n",
    "\n",
    "\\vskip-\\parskip\n",
    "\\vskip-\\baselineskip\n",
    "</div>"
   ]
  },
  {
   "cell_type": "code",
   "execution_count": 1,
   "id": "bb0120db",
   "metadata": {},
   "outputs": [],
   "source": [
    "import numpy as np\n",
    "import scipy\n",
    "from scipy import stats as stats\n",
    "\n",
    "import statsmodels\n",
    "import statsmodels.api as sm"
   ]
  },
  {
   "cell_type": "markdown",
   "id": "fbfec7ec",
   "metadata": {},
   "source": [
    "---"
   ]
  },
  {
   "cell_type": "markdown",
   "id": "15c6dc53",
   "metadata": {},
   "source": [
    "## Key Takeaways from Week 7"
   ]
  },
  {
   "cell_type": "markdown",
   "id": "cc992f31",
   "metadata": {},
   "source": [
    "\n",
    "#### Tuesday: \n",
    "\n",
    "... insert your key takeaways here ..."
   ]
  },
  {
   "cell_type": "markdown",
   "id": "6d69de7b",
   "metadata": {},
   "source": [
    "#### Thursday\n",
    "\n",
    "... insert your takeaway here ...\n"
   ]
  },
  {
   "cell_type": "markdown",
   "id": "aaadbca8",
   "metadata": {},
   "source": [
    "---"
   ]
  },
  {
   "cell_type": "markdown",
   "id": "5abad0d9",
   "metadata": {},
   "source": [
    "# Inference from Regression Models"
   ]
  },
  {
   "cell_type": "markdown",
   "id": "6b7f47b9",
   "metadata": {},
   "source": [
    "Consider the following regression model example:\n"
   ]
  },
  {
   "cell_type": "code",
   "execution_count": null,
   "id": "abecc050",
   "metadata": {},
   "outputs": [],
   "source": []
  },
  {
   "cell_type": "markdown",
   "id": "4c3aaa91",
   "metadata": {},
   "source": [
    "There are qualitatively, **three different types of inference (`uncertainty quantification`)** that can be made from regression models:\n",
    "\n",
    "1. Hypothesis testing\n",
    "2. ...\n",
    "3. ..."
   ]
  },
  {
   "cell_type": "markdown",
   "id": "0313ab33",
   "metadata": {},
   "source": [
    "## Type 1: Examining Effects of Particular Variable\n",
    "\n",
    "The *p*-values for the coefficients are used to test the null hypothesis that the coefficient is zero, i.e.,\n",
    "\n",
    "$$\n",
    "H_0: \\beta_j = 0\n",
    "$$\n",
    "\n",
    "$$\n",
    "H_a: \\beta_j \\neq 0\n",
    "$$\n",
    "\n",
    "At level $\\alpha$, if the *p*-value for the $j$-th coefficient is less than $\\alpha$, then we reject the null hypothesis that the $j$-th coefficient is zero, i.e.,\n",
    "\n",
    "**We can look at the significance of all of the coefficients!!!**"
   ]
  },
  {
   "cell_type": "code",
   "execution_count": null,
   "id": "ef1743dc",
   "metadata": {},
   "outputs": [],
   "source": []
  },
  {
   "cell_type": "markdown",
   "id": "845f52bb",
   "metadata": {},
   "source": [
    "## Type 2: Analysis of Variance\n",
    "Very complciated, usually there are a few cources that covers the detials of ANOVA.\n",
    "\n",
    "- We will only get some key `intuition` here for using ANOVA.\n",
    "- It is based from **sums of squares**.\n",
    "\n",
    "We need to go back to sum of squares and sum of residuals"
   ]
  },
  {
   "cell_type": "markdown",
   "id": "2f39cbf6",
   "metadata": {},
   "source": [
    "### Sum of Squares\n",
    "\n",
    "We have three main quantities that are used to evaluate the goodness of fit of the regression model:\n",
    "\n",
    "| Quantity | Description |\n",
    "|----------|------------|\n",
    "| $y$     | Observed values of the dependent variable |\n",
    "| $\\hat{y}$ | Predicted values of the dependent variable |\n",
    "| $\\bar{y}$ | Mean of the observed values of the dependent variable |\n",
    "\n",
    "Your regression line has to path through the means of the data, the mean of $\\hat{y}$ will be thes ame with mean of $y$."
   ]
  },
  {
   "cell_type": "markdown",
   "id": "0b9f9ec1",
   "metadata": {},
   "source": [
    "Based on this, we have three important **sums of squares** in the regression model:\n",
    "\n",
    "| Sum of squares | Equation | Intuition |\n",
    "|---------------|----------|-----------|\n",
    "| $SS_{\\text{Tot}}$ | $\\sum\\limits_{i=1}^{n} (y_i - \\bar{y})^2$ | How much variability is present in the observed values $y$ |\n",
    "| $SS_{\\text{Reg}}$ | $\\sum\\limits_{i=1}^{n} (\\hat{y}_i - \\bar{y})^2$ | How much variability the regression model $\\hat{y}$ reproduces |\n",
    "| $SS_{\\text{Res}}$ | $\\sum\\limits_{i=1}^{n} (y_i - \\hat{y}_i)^2$ | How much variability in $y$ the regression model $\\hat{y}$ is unable to reproduce |\n",
    "\n",
    "- $SS_{\\text{Reg}}$ + $SS_{\\text{Res}}$ should be smaller than $SS_{\\text{Tot}}$. Think of a triangle where $SS_{\\text{Reg}}$ is the base.\n",
    "- Hence we want a **triangle with smaller base**\n"
   ]
  },
  {
   "cell_type": "markdown",
   "id": "2b94418c",
   "metadata": {},
   "source": [
    "### F-Statistic\n",
    "\n",
    "The *F*-statistic is a measure of how well the model explains the variance in the data. It is given by:\n",
    "\n",
    "$$\n",
    "\\hat{F} = \\frac{SS_{\\text{Reg}} / \\text{df}_{\\text{Reg}}}{SS_{\\text{Res}} / \\text{df}_{\\text{Res}}}\n",
    "$$\n",
    "\n",
    "where\n",
    "\n",
    "$$\n",
    "\\text{df}_{\\text{Reg}} = 1\n",
    "$$\n",
    "\n",
    "$$\n",
    "\\text{df}_{\\text{Res}} = n - p - 1\n",
    "$$\n",
    "\n",
    "Intuitively, the *F*-statistic is the **ratio** of the explained variance to the unexplained variance in the data.\n",
    "\n",
    "The *F*-statistic is used to test the null hypothesis that the model is no better than the null model, i.e., the model with no predictors.\n",
    "\n",
    "$$\n",
    "H_0: \\beta_1 = \\beta_2 = \\dots = \\beta_p = 0\n",
    "$$\n",
    "\n",
    "$$\n",
    "H_a: \\text{At least one } \\beta_j \\neq 0\n",
    "$$\n",
    "\n",
    "The *F*-statistic follows an $F(\\text{df}_{\\text{Reg}}, \\text{df}_{\\text{Res}})$ distribution under the null hypothesis, i.e.,\n",
    "\n",
    "$$\n",
    "\\hat{F} = \\frac{SS_{\\text{Reg}} / \\text{df}_{\\text{Reg}}}{SS_{\\text{Res}} / \\text{df}_{\\text{Res}}} \\sim F(\\text{df}_{\\text{Reg}}, \\text{df}_{\\text{Res}})\n",
    "$$\n"
   ]
  },
  {
   "cell_type": "markdown",
   "id": "de3506af",
   "metadata": {},
   "source": [
    "> ANOVA is the doing like a `goodness of fit` test on all the variables of the F-test"
   ]
  },
  {
   "cell_type": "markdown",
   "id": "652264fa",
   "metadata": {},
   "source": [
    "### Analysis of Variance (ANOVA)\n",
    "\n",
    "ANOVA is a method used to test whether the inclusion of a set of variables in a model significantly improves the model fit (among other things...).\n",
    "\n",
    "### Setting:\n",
    "\n",
    "Suppose we have two models: **we have one full model, then a `subset` od the big model, we want to see whether there is actually a improvement in the fit of data.**\n",
    "\n",
    "**Small model:**\n",
    "$$\n",
    "y_i = \\beta_0 + \\beta_1 x_1 + \\beta_3 x_3 + \\beta_{p-1} x_{p-1} + \\epsilon_i\n",
    "$$\n",
    "\n",
    "**Big model:**\n",
    "$$\n",
    "y_i = \\beta_0 + \\beta_1 x_1 + \\beta_2 x_2 + \\beta_3 x_3 + \\dots + \\beta_p x_p + \\epsilon_i\n",
    "$$\n",
    "\n",
    "i.e.,\n",
    "\n",
    "- Small model: $(\\beta_0, \\beta_1, \\beta_3, \\beta_{p-1})$\n",
    "- Big model: $(\\beta_0, \\beta_1, \\beta_2, \\beta_3, \\dots, \\beta_p)$\n",
    "\n",
    "The idea is that **does having a bigger model give you more power to explain the variance (how much explanatory power does your big model has in relative to the smaller model)?** We look at it from three perspective\n",
    "- `Extra variance explained`\n",
    "- `Extra degree of freedom needed`\n",
    "- `Extra residual caused`"
   ]
  },
  {
   "cell_type": "markdown",
   "id": "4446fce4",
   "metadata": {},
   "source": [
    "### Method:\n",
    "\n",
    "- How much excess variance is explained by the inclusion of variables in the Big Model?\n",
    "\n",
    "  **Answer:**\n",
    "  $$\n",
    "  SS_{\\text{Reg}}(\\text{Small Model}) - SS_{\\text{Reg}}(\\text{Big Model})\n",
    "  $$\n",
    "\n",
    "- How many degrees of freedom are used up by the inclusion of variables in the Big Model?\n",
    "\n",
    "  **Answer:**\n",
    "  $$\n",
    "  \\Delta \\text{df} = \\text{df}_{\\text{Reg}}(\\text{Small Model}) - \\text{df}_{\\text{Reg}}(\\text{Big Model})\n",
    "  $$\n",
    "\n",
    "- How much residual variance is left after the inclusion of variables in the Big Model?\n",
    "\n",
    "  **Answer:**\n",
    "  $$\n",
    "  SS_{\\text{Res}}(\\text{Big Model})\n",
    "  $$\n"
   ]
  },
  {
   "cell_type": "markdown",
   "id": "a29ef6e7",
   "metadata": {},
   "source": [
    "If the excess variance explained by the inclusion of $x_3, \\dots, x_p$ is large relative to the residual variance left after the inclusion of $x_3, \\dots, x_p$, then we conclude that the inclusion of $x_3, \\dots, x_p$ significantly improves the model fit, i.e.,\n",
    "\n",
    "$$\n",
    "\\hat{F} = \\frac{\\frac{SS_{\\text{Reg}}(\\text{Small Model}) - SS_{\\text{Reg}}(\\text{Big Model})}{\\Delta \\text{df}}}\n",
    "{\\frac{SS_{\\text{Res}}(\\text{Big Model})}{\\text{df}_{\\text{Res}}(\\text{Big Model})}}\n",
    "$$\n",
    "\n",
    "- Ths is a `generalization` of the F-test\n",
    "\n",
    "If $\\hat{F}$ is **LARGE**, then **including the variables** of the big model **significantly improves the model fit**. The rejection region for the ANOVA *F*-test is:\n",
    "\n",
    "$$\n",
    "(x_{\\alpha}, \\infty)\n",
    "$$"
   ]
  },
  {
   "cell_type": "markdown",
   "id": "d7f2b5d7",
   "metadata": {},
   "source": [
    "Techniqually, with this setup, you can have a **combinatorial** composition of nested smaller models!!!"
   ]
  },
  {
   "cell_type": "code",
   "execution_count": null,
   "id": "5c00fb62",
   "metadata": {},
   "outputs": [],
   "source": []
  },
  {
   "cell_type": "markdown",
   "id": "6f157045",
   "metadata": {},
   "source": [
    "## Type 3: How Regression Coefficients Relates to Each Other"
   ]
  },
  {
   "cell_type": "markdown",
   "id": "74dabdbb",
   "metadata": {},
   "source": [
    "**Under the null hypotheiss, you have a belief that there are linear corrolation.**"
   ]
  },
  {
   "cell_type": "markdown",
   "id": "339972a3",
   "metadata": {},
   "source": [
    "### General Linear Hypothesis Testing\n",
    "\n",
    "Suppose we want to test some general hypothesis about the coefficients, e.g.,\n",
    "\n",
    "$$\n",
    "H_0: 2\\beta_1 - 3\\beta_2 = 1 \\quad \\text{and} \\quad 3\\beta_0 + \\beta_1 + 4\\beta_2 = 100\n",
    "$$\n",
    "\n",
    "$$\n",
    "H_a: 2\\beta_1 - 3\\beta_2 \\neq 1 \\quad \\text{OR} \\quad 3\\beta_0 + \\beta_1 + 4\\beta_2 \\neq 100\n",
    "$$\n",
    "\n",
    "This is called a **general linear hypothesis** and can be written in matrix form as:\n",
    "\n",
    "$$\n",
    "\\begin{bmatrix} \n",
    "0 & 2 & -3 \\\\ \n",
    "3 & 1 & 4 \n",
    "\\end{bmatrix}\n",
    "\\begin{bmatrix} \n",
    "\\beta_0 \\\\ \n",
    "\\beta_1 \\\\ \n",
    "\\beta_2 \n",
    "\\end{bmatrix}\n",
    "=\n",
    "\\begin{bmatrix} \n",
    "1 \\\\ \n",
    "100 \n",
    "\\end{bmatrix}\n",
    "$$\n",
    "\n",
    "More generally, suppose we want to test the hypothesis:\n",
    "\n",
    "$$\n",
    "H_0: R\\beta = q\n",
    "$$\n",
    "\n",
    "$$\n",
    "H_a: R\\beta \\neq q\n",
    "$$\n",
    "\n",
    "where\n",
    "\n",
    "- \\( R \\) is a \\( c \\times (p + 1) \\) matrix of constants\n",
    "- \\( q \\) is a \\( c \\times 1 \\) vector of constants\n"
   ]
  },
  {
   "cell_type": "code",
   "execution_count": null,
   "id": "0fad940e",
   "metadata": {},
   "outputs": [],
   "source": []
  },
  {
   "cell_type": "markdown",
   "id": "646c5ed1",
   "metadata": {},
   "source": [
    "---"
   ]
  },
  {
   "cell_type": "markdown",
   "id": "cdb16e9c",
   "metadata": {},
   "source": [
    "# What Happens When Having Nonlinear Data"
   ]
  },
  {
   "cell_type": "markdown",
   "id": "e79e111f",
   "metadata": {},
   "source": [
    "**we have shown eralier that maybe we can use transformation (i.e. log transformation) to solve some easy condisitions.**"
   ]
  },
  {
   "cell_type": "code",
   "execution_count": null,
   "id": "93ce8a71",
   "metadata": {},
   "outputs": [],
   "source": []
  },
  {
   "cell_type": "markdown",
   "id": "903d83dc",
   "metadata": {},
   "source": [
    "## Interaction Terms\n",
    "\n",
    "The objective of adding an interaction term is to ..."
   ]
  },
  {
   "cell_type": "markdown",
   "id": "9dfa4865",
   "metadata": {},
   "source": [
    "### Interaction: categorical $\\times$ numeric"
   ]
  },
  {
   "cell_type": "markdown",
   "id": "ac371164",
   "metadata": {},
   "source": [
    "Here, we've fit the model:\n",
    "\n",
    "$$\n",
    "E(y|x_1, x_2) = \\beta_0 + \\beta_1 x_1 + \\beta_2 x_2 + \\beta_3 x_1 x_2\n",
    "$$\n",
    "\n",
    "For simplicity, suppose the term $ x_2 \\in \\{0,1\\} $ is a categorical variable. Then the interpretation of the coefficient $ \\beta_3 $ is as follows:\n",
    "\n",
    "> Case: $ x_2 = 0 $\n",
    "$$\n",
    "E(y|x_1, x_2 = 0) = \\beta_0 + \\beta_1 x_1\n",
    "$$\n",
    "$$\n",
    "\\Rightarrow \\frac{\\partial}{\\partial x_1} E(y|x_1, x_2 = 0) = \\beta_1\n",
    "$$\n",
    "\n",
    "> Case: $ x_2 = 1 $\n",
    "$$\n",
    "E(y|x_1, x_2 = 1) = \\beta_0 + \\beta_1 x_1 + \\beta_2 + \\beta_3 x_1\n",
    "$$\n",
    "$$\n",
    "= (\\beta_0 + \\beta_2) + (\\beta_1 + \\beta_3)x_1\n",
    "$$\n",
    "$$\n",
    "\\Rightarrow \\frac{\\partial}{\\partial x_1} E(y|x_1, x_2 = 1) = \\beta_1 + \\beta_3\n",
    "$$\n"
   ]
  },
  {
   "cell_type": "markdown",
   "id": "1d90fd52",
   "metadata": {},
   "source": [
    "More generally, the interaction term $ \\beta_{i:j} $, which is the coefficient of the term $ x_i x_j $ in the model, is interpreted as:\n",
    "\n",
    "$$\n",
    "\\beta_{i:j} = \\frac{\\partial^2}{\\partial x_j \\partial x_i} E(y | x_1, x_2)\n",
    "$$\n",
    "\n",
    "When $ x_1 $ and $ x_2 $ are continuous, it has the effect of bringing in some curvature (nonlinear effect) into the model.\n"
   ]
  },
  {
   "cell_type": "code",
   "execution_count": null,
   "id": "99737ee4",
   "metadata": {},
   "outputs": [],
   "source": []
  },
  {
   "cell_type": "markdown",
   "id": "3f38ed4e",
   "metadata": {},
   "source": [
    "##### Interaction: numeric $\\times$ numeric\n",
    "\n",
    "...\n",
    "\n",
    "\n",
    "> Interpretation of the coefficient of the interaction term. \n",
    "> \n",
    "> ..."
   ]
  },
  {
   "cell_type": "markdown",
   "id": "8eb3e101",
   "metadata": {},
   "source": [
    "##### Higher order terms\n",
    "\n",
    "...\n",
    "\n",
    "\n",
    "> Interpretation of the coefficient of the higher-order term. \n",
    "> \n",
    "> ..."
   ]
  },
  {
   "cell_type": "markdown",
   "id": "f15473cf",
   "metadata": {},
   "source": [
    "---\n",
    "---"
   ]
  },
  {
   "cell_type": "markdown",
   "id": "06efcaa3",
   "metadata": {},
   "source": [
    "## Thu, Feb 20"
   ]
  },
  {
   "cell_type": "markdown",
   "id": "9b025551",
   "metadata": {},
   "source": [
    "### Multicollinearity"
   ]
  },
  {
   "cell_type": "markdown",
   "id": "6d263628",
   "metadata": {},
   "source": [
    "##### Intuition\n",
    "\n",
    "The multicollinearity phenomenon is, intuitively, ..."
   ]
  },
  {
   "cell_type": "markdown",
   "id": "0d11df14",
   "metadata": {},
   "source": [
    "##### Manifestation\n",
    "\n",
    "In the regression model, the effect of multicollinearity is ..."
   ]
  },
  {
   "cell_type": "markdown",
   "id": "3c6020e6",
   "metadata": {},
   "source": [
    "##### Detection\n",
    "\n",
    "We can check for the presence of multicollinearity by ..."
   ]
  },
  {
   "cell_type": "markdown",
   "id": "ee525856",
   "metadata": {},
   "source": [
    "---"
   ]
  },
  {
   "cell_type": "markdown",
   "id": "25ab4e41",
   "metadata": {},
   "source": [
    "### Regression with categorical response"
   ]
  },
  {
   "cell_type": "markdown",
   "id": "1b4d65de",
   "metadata": {},
   "source": [
    "> #### Issue with treating $y$ as a standard quantiative response\n",
    "..."
   ]
  },
  {
   "cell_type": "markdown",
   "id": "64f63cc7",
   "metadata": {},
   "source": [
    "> #### Remedy for the case when $y$ is binary categorical\n",
    "..."
   ]
  },
  {
   "cell_type": "markdown",
   "id": "e72ce914",
   "metadata": {},
   "source": [
    "> #### Odds\n",
    "..."
   ]
  },
  {
   "cell_type": "markdown",
   "id": "65350648",
   "metadata": {},
   "source": [
    "> #### log-Odds\n",
    "..."
   ]
  },
  {
   "cell_type": "markdown",
   "id": "7cc15fd5",
   "metadata": {},
   "source": [
    "> #### Logistic Function\n",
    "The main point of the logistic function is to ..."
   ]
  },
  {
   "cell_type": "markdown",
   "id": "6f4159cf",
   "metadata": {},
   "source": [
    "> #### Logistic Regression\n",
    "The way logistic regression remedies the issue of standard regression for a categorical response is ..."
   ]
  },
  {
   "cell_type": "markdown",
   "id": "2999732f",
   "metadata": {},
   "source": [
    "> #### Interpretation of the coefficients\n",
    "...\n",
    "\n",
    "##### 1. Coefficient of continuous covariate\n",
    "...\n",
    "\n",
    "##### 2. Coefficient of categorical covariate\n",
    "..."
   ]
  },
  {
   "cell_type": "markdown",
   "id": "c2054701",
   "metadata": {},
   "source": [
    "---"
   ]
  }
 ],
 "metadata": {
  "celltoolbar": "Slideshow",
  "hide_input": false,
  "kernelspec": {
   "display_name": "Python 3 (ipykernel)",
   "language": "python",
   "name": "python3"
  },
  "language_info": {
   "codemirror_mode": {
    "name": "ipython",
    "version": 3
   },
   "file_extension": ".py",
   "mimetype": "text/x-python",
   "name": "python",
   "nbconvert_exporter": "python",
   "pygments_lexer": "ipython3",
   "version": "3.8.20"
  },
  "toc": {
   "base_numbering": 2
  }
 },
 "nbformat": 4,
 "nbformat_minor": 5
}
