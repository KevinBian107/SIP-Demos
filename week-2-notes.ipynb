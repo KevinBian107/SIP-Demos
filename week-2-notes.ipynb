{
 "cells": [
  {
   "cell_type": "markdown",
   "id": "d499b8cf",
   "metadata": {},
   "source": [
    "# Math 189 Week 2 Summary\n",
    "> NAME: $\\color{blue}{\\text{Kaiwen Bian}}$\n",
    "> \n",
    "> PID: $\\color{blue}{\\text{A17316568}}$\n",
    ">\n",
    "> \n",
    "---"
   ]
  },
  {
   "cell_type": "markdown",
   "id": "6a1c41b1",
   "metadata": {},
   "source": [
    "%%load tex-macros\n",
    "<div hidden>\n",
    "\\newcommand{\\require}[1]{}\n",
    "\n",
    "$\\require{begingroup}\\require{newcommand}$\n",
    "$\\long\\def \\forcecommand #1{\\providecommand{#1}{}\\renewcommand{#1}}$\n",
    "$\\forcecommand{\\defeq}{\\stackrel{\\small\\bullet}{=}}$\n",
    "$\\forcecommand{\\ra}{\\rangle}$\n",
    "$\\forcecommand{\\la}{\\langle}$\n",
    "$\\forcecommand{\\pr}{{\\mathbb P}}$\n",
    "$\\forcecommand{\\qr}{{\\mathbb Q}}$\n",
    "$\\forcecommand{\\xv}{{\\boldsymbol{x}}}$\n",
    "$\\forcecommand{\\av}{{\\boldsymbol{a}}}$\n",
    "$\\forcecommand{\\bv}{{\\boldsymbol{b}}}$\n",
    "$\\forcecommand{\\cv}{{\\boldsymbol{c}}}$\n",
    "$\\forcecommand{\\dv}{{\\boldsymbol{d}}}$\n",
    "$\\forcecommand{\\ev}{{\\boldsymbol{e}}}$\n",
    "$\\forcecommand{\\fv}{{\\boldsymbol{f}}}$\n",
    "$\\forcecommand{\\gv}{{\\boldsymbol{g}}}$\n",
    "$\\forcecommand{\\hv}{{\\boldsymbol{h}}}$\n",
    "$\\forcecommand{\\nv}{{\\boldsymbol{n}}}$\n",
    "$\\forcecommand{\\sv}{{\\boldsymbol{s}}}$\n",
    "$\\forcecommand{\\tv}{{\\boldsymbol{t}}}$\n",
    "$\\forcecommand{\\uv}{{\\boldsymbol{u}}}$\n",
    "$\\forcecommand{\\vv}{{\\boldsymbol{v}}}$\n",
    "$\\forcecommand{\\wv}{{\\boldsymbol{w}}}$\n",
    "$\\forcecommand{\\zerov}{{\\mathbf{0}}}$\n",
    "$\\forcecommand{\\onev}{{\\mathbf{0}}}$\n",
    "$\\forcecommand{\\phiv}{{\\boldsymbol{\\phi}}}$\n",
    "$\\forcecommand{\\cc}{{\\check{C}}}$\n",
    "$\\forcecommand{\\xv}{{\\boldsymbol{x}}}$\n",
    "$\\forcecommand{\\Xv}{{\\boldsymbol{X}\\!}}$\n",
    "$\\forcecommand{\\yv}{{\\boldsymbol{y}}}$\n",
    "$\\forcecommand{\\Yv}{{\\boldsymbol{Y}}}$\n",
    "$\\forcecommand{\\zv}{{\\boldsymbol{z}}}$\n",
    "$\\forcecommand{\\Zv}{{\\boldsymbol{Z}}}$\n",
    "$\\forcecommand{\\Iv}{{\\boldsymbol{I}}}$\n",
    "$\\forcecommand{\\Jv}{{\\boldsymbol{J}}}$\n",
    "$\\forcecommand{\\Cv}{{\\boldsymbol{C}}}$\n",
    "$\\forcecommand{\\Ev}{{\\boldsymbol{E}}}$\n",
    "$\\forcecommand{\\Fv}{{\\boldsymbol{F}}}$\n",
    "$\\forcecommand{\\Gv}{{\\boldsymbol{G}}}$\n",
    "$\\forcecommand{\\Hv}{{\\boldsymbol{H}}}$\n",
    "$\\forcecommand{\\alphav}{{\\boldsymbol{\\alpha}}}$\n",
    "$\\forcecommand{\\epsilonv}{{\\boldsymbol{\\epsilon}}}$\n",
    "$\\forcecommand{\\betav}{{\\boldsymbol{\\beta}}}$\n",
    "$\\forcecommand{\\deltav}{{\\boldsymbol{\\delta}}}$\n",
    "$\\forcecommand{\\gammav}{{\\boldsymbol{\\gamma}}}$\n",
    "$\\forcecommand{\\etav}{{\\boldsymbol{\\eta}}}$\n",
    "$\\forcecommand{\\piv}{{\\boldsymbol{\\pi}}}$\n",
    "$\\forcecommand{\\thetav}{{\\boldsymbol{\\theta}}}$\n",
    "$\\forcecommand{\\tauv}{{\\boldsymbol{\\tau}}}$\n",
    "$\\forcecommand{\\muv}{{\\boldsymbol{\\mu}}}$\n",
    "$%$\n",
    "$\\forcecommand{\\sd}{\\text{SD}}$\n",
    "$\\forcecommand{\\se}{\\text{SE}}$\n",
    "$\\forcecommand{\\med}{\\text{median}}$\n",
    "$\\forcecommand{\\median}{\\text{median}}$\n",
    "$%$\n",
    "$\\forcecommand{\\supp}{\\text{supp}}$\n",
    "$\\forcecommand{\\E}{\\mathbb{E}}$\n",
    "$\\forcecommand{\\var}{\\text{Var}}$\n",
    "$\\forcecommand{\\Ber}{{\\text{Ber}}}$\n",
    "$\\forcecommand{\\Bin}{{\\text{Bin}}}$\n",
    "$\\forcecommand{\\Geo}{{\\text{Geo}}}$\n",
    "$\\forcecommand{\\Unif}{{\\text{Unif}}}$\n",
    "$\\forcecommand{\\Poi}{{\\text{Poi}}}$\n",
    "$\\forcecommand{\\Exp}{{\\text{Exp}}}$\n",
    "$\\forcecommand{\\Chisq}{{\\chi^2}}$\n",
    "$\\forcecommand{\\N}{\\mathbb{N}}$\n",
    "$\\forcecommand{\\iid}{{\\stackrel{iid}{\\sim}}}$\n",
    "$\\forcecommand{\\px}{p_{X}}$\n",
    "$\\forcecommand{\\fx}{f_{X}}$\n",
    "$\\forcecommand{\\Fx}{F_{X}}$\n",
    "$\\forcecommand{\\py}{p_{Y}}$\n",
    "$\\forcecommand{\\pxy}{p_{X,Y}}$\n",
    "$\\forcecommand{\\po}{{p_0}}$\n",
    "$\\forcecommand{\\pa}{{p_a}}$\n",
    "$\\forcecommand{\\Xbar}{\\overline{X}}$\n",
    "$\\forcecommand{\\Ybar}{\\overline{Y}}$\n",
    "$\\forcecommand{\\Zbar}{\\overline{Z}}$\n",
    "$\\forcecommand{\\nXbar}{n \\cdot \\overline{X}}$\n",
    "$\\forcecommand{\\nYbar}{n \\cdot \\overline{Y}}$\n",
    "$\\forcecommand{\\nZbar}{n \\cdot \\overline{Z}}$\n",
    "$\\forcecommand{\\Xn}{X_1, X_2, \\dots, X_n}$\n",
    "$\\forcecommand{\\Xm}{{X_1, X_2, \\dots, X_m}}$\n",
    "$\\forcecommand{\\Yn}{Y_1, Y_2, \\dots, Y_n}$\n",
    "$\\forcecommand{\\Ym}{{Y_1, Y_2, \\dots, Y_m}}$\n",
    "$\\forcecommand{\\sumXn}{X_1 + X_2 + \\dots + X_n}$\n",
    "$\\forcecommand{\\sumym}{Y_1 + Y_2 + \\dots + Y_m}$\n",
    "$\\forcecommand{\\la}{\\ell_\\alpha}$\n",
    "$\\forcecommand{\\ua}{u_\\alpha}$\n",
    "$\\forcecommand{\\at}{{\\alpha/2}}$\n",
    "$\\forcecommand{\\mux}{\\mu_{X}}$\n",
    "$\\forcecommand{\\muy}{\\mu_{Y}}$\n",
    "$\\forcecommand{\\sx}{\\sigma_{X}}$\n",
    "$\\forcecommand{\\sy}{\\sigma_{Y}}$\n",
    "$\\forcecommand{\\ci}{\\text{CI}}$\n",
    "$\\forcecommand{\\pvalue}{$p$-value}$\n",
    "$\\forcecommand{\\Ho}{H_{0}}$\n",
    "$\\forcecommand{\\Ha}{H_{a}}$\n",
    "\n",
    "\\vskip-\\parskip\n",
    "\\vskip-\\baselineskip\n",
    "</div>"
   ]
  },
  {
   "cell_type": "markdown",
   "id": "1bce0cf8",
   "metadata": {},
   "source": [
    "I certify that the following write-up is my own work, and have abided by the UCSD Academic Integrity Guidelines.\n",
    "\n",
    "- [x] Yes\n",
    "- [ ] No"
   ]
  },
  {
   "cell_type": "code",
   "execution_count": 1,
   "id": "bb0120db",
   "metadata": {},
   "outputs": [],
   "source": [
    "import numpy as np\n",
    "import pandas as pd\n",
    "import seaborn as sns\n",
    "import matplotlib.pyplot as plt\n",
    "import seaborn as sns\n",
    "import statsmodels.api as sm\n",
    "\n",
    "import ipywidgets as widgets\n",
    "from ipywidgets import interact, fixed\n",
    "%matplotlib inline"
   ]
  },
  {
   "cell_type": "code",
   "execution_count": 2,
   "id": "c3c7bdb4",
   "metadata": {},
   "outputs": [],
   "source": [
    "# Helper functions\n",
    "def plot_X(X, ax, type='pmf', **kwargs):\n",
    "    ax.set_xlabel('Support')\n",
    "    ax.set_title(f'{X.dist.name}{X.args}')\n",
    "    \n",
    "    min_X, max_X = X.ppf((1e-3, 1-1e-3))\n",
    "    supp_X = np.linspace(min_X-1, max_X + 1, 200)\n",
    "    \n",
    "    if type == 'pmf':\n",
    "        supp_X = np.arange(min_X-1, max_X + 1)\n",
    "        ax.bar(supp_X, X.pmf(supp_X), **kwargs)\n",
    "        ax.set_ylabel('PMF')\n",
    "    elif type == 'pdf':\n",
    "        ax.plot(supp_X, X.pdf(supp_X), **kwargs)\n",
    "        ax.set_ylabel('PDF')\n",
    "    elif type == 'cdf':\n",
    "        ax.plot(supp_X, X.cdf(supp_X), **kwargs)\n",
    "        ax.set_ylabel('CDF')\n",
    "    else:\n",
    "        raise ValueError('type must be pmf, pdf, or cdf')"
   ]
  },
  {
   "cell_type": "markdown",
   "id": "fbfec7ec",
   "metadata": {},
   "source": [
    "---"
   ]
  },
  {
   "cell_type": "markdown",
   "id": "15c6dc53",
   "metadata": {},
   "source": [
    "## Takeaways from Week 2"
   ]
  },
  {
   "cell_type": "markdown",
   "id": "cc992f31",
   "metadata": {},
   "source": [
    "#### Tuesday: \n",
    "Mainly we had disussion about the basics of probability and what is probabilit from a statistical perpsective, what is theoritical and imperical probability. Moreover, we went over most fundamental concepts in probability such as expecttaion and varaince and went over the connection between them. At last, we  disucussed about how w  actually meausre these random vraibles: with distributions we call PMF and PDF."
   ]
  },
  {
   "cell_type": "markdown",
   "id": "6d69de7b",
   "metadata": {},
   "source": [
    "#### Thursday:\n",
    "Over Thursday, we discussed various distributions varying from discrete to continuous distributions, their formulations, and the connections in between them (i.e. exponential is measuring the wait time of poisson and  chi-square is composed of many many gaussian). At last, we look at how we construct distributions in practice, with empirical distributions."
   ]
  },
  {
   "cell_type": "markdown",
   "id": "aaadbca8",
   "metadata": {},
   "source": [
    "---"
   ]
  },
  {
   "cell_type": "markdown",
   "id": "0346e6ec",
   "metadata": {},
   "source": [
    "# Probability Perspectives"
   ]
  },
  {
   "cell_type": "markdown",
   "id": "59c8dd4f",
   "metadata": {},
   "source": [
    "Given a sample space $\\mathcal{S}$ and an event $A$, there are three qualiatively different ways to define the probability $\\pr(A)$:"
   ]
  },
  {
   "cell_type": "markdown",
   "id": "03e3f4a3",
   "metadata": {},
   "source": [
    "**Empiricial Probability**\n",
    "\n",
    "Based on repeadily observing the outcoes of an event.\n",
    "\n",
    "$$\n",
    "\\pr(A) = \\frac{\\text{Number of times that A occur}}{\\text{Number of  all trials}}\n",
    "$$\n",
    "\n",
    "An example of empirical probability is the following scenario:\n",
    "\n",
    "> An example of it would be tossing a un-fair coin many many times and record the observations we have, then conclude the percentage of getting heads and tails. More trials performed, more accurate the probability will be."
   ]
  },
  {
   "cell_type": "markdown",
   "id": "a29edae6",
   "metadata": {},
   "source": [
    "**Theoretical Probability**\n",
    "\n",
    "Based on the assumption of the model, enumertae all possibilities\n",
    "\n",
    "\n",
    "$$\n",
    "\\pr(A) = \\frac{\\text{Number of ways that A can occur}}{\\text{Number of  all possible outcomes}}\n",
    "$$\n",
    "\n",
    "An example of theoretical probability is the following scenario:\n",
    "\n",
    "> Same example, but in theoritical probability, we make some assumption and then **enumerate** all the possible outcomes that can occur (i.e. $P(HH) = \\frac{HH}{SUM(HH, HT, TH, TT)}$)."
   ]
  },
  {
   "cell_type": "markdown",
   "id": "0dd73cb3",
   "metadata": {},
   "source": [
    "**Subjective Probability**\n",
    "\n",
    "Bayesian statistics, it's about a belief\n",
    "\n",
    "$$\n",
    "\\pr(A) = \\text{degree of belief that A will happen}\n",
    "$$"
   ]
  },
  {
   "cell_type": "markdown",
   "id": "8839fbb4",
   "metadata": {},
   "source": [
    "## Random Variables\n",
    "\n",
    "***Random variable is the way we try to model things, by thinking how randomness would play for an event A.***"
   ]
  },
  {
   "cell_type": "markdown",
   "id": "dda3434f",
   "metadata": {},
   "source": [
    "We model these random variables with a distributiob that we have observed in experiments, these distributions would describe the probability of  each possible outcomes.\n",
    "\n",
    "$$\n",
    "X \\sim D(\\theta)\n",
    "$$"
   ]
  },
  {
   "cell_type": "markdown",
   "id": "2d77ba66",
   "metadata": {},
   "source": [
    "Intuitively, a random variable $X$ is the **notion of how we model randomness, modeling how event A may happen.** and, the support of a random variable, denoted $\\text{supp}(X)$, is the **set of all values that this random variable cna take.** A random variable $X$ can have different types of supports. \n",
    "\n",
    "Qualitative R.V.\n",
    "\n",
    "1. Categorical: support has different categories, but no notion of order ($supp(X) = \\{Red, Green, Blue\\}$)\n",
    "2. Ordinal: support has different categories, has notion of order, but no definition of distance ($supp(X) = \\{Low, Med, High\\}$)\n",
    "\n",
    "Quantitaive R.V.\n",
    "\n",
    "3. Discrete: support is a discrete collection of objects, has notion of both order and distance ($supp(X) = \\{0, 1, 2\\}$)\n",
    "4. Continuous:support is continum ($supp(X) = \\R $)"
   ]
  },
  {
   "cell_type": "markdown",
   "id": "70eab890",
   "metadata": {},
   "source": [
    "## Encoding Categrical Random Variable\n",
    "In categorical settings, it may become hard when we want to represent, so we need to transform them to a **numerical representation**. Any transformation of a random variable remains as a random variable. Let $ X $ be defined as:\n",
    "\n",
    "$$\n",
    "X =\n",
    "\\begin{cases} \n",
    "0 & \\text{if red} \\\\\n",
    "1 & \\text{if green} \\\\\n",
    "2 & \\text{if blue}\n",
    "\\end{cases}\n",
    "$$\n",
    "\n",
    "However, this pose a problem as it doesn't make sense to include actual quanittaive values since if we say we saw 2 green car would be (1 + 1 = 2), which should represent a blue car. Instead, we can choose to make them as a vector, ceratin **independent unit vector**. Now the addition of vectors makes much more sense.\n",
    "\n",
    "$$\n",
    "X =\n",
    "\\begin{cases} \n",
    "(1, 0, 0)^\\top & \\text{if red} \\\\\n",
    "(0, 1, 0)^\\top & \\text{if green} \\\\\n",
    "(0, 0, 1)^\\top & \\text{if blue}\n",
    "\\end{cases}\n",
    "$$\n",
    "\n",
    "This is **One-Hot=-Encoding** where we use $k$ dimensions in the Eucledian space to represent them. More efficient, we can encode one of them as the origin and save space to only $k-1$ Eucledian space, this is called **dummy variable encoding**.\n",
    "\n",
    "$$\n",
    "X =\n",
    "\\begin{cases} \n",
    "(0, 0)^\\top & \\text{if red} \\\\\n",
    "(1, 0)^\\top & \\text{if blue} \\\\\n",
    "(0, 1)^\\top & \\text{if green}\n",
    "\\end{cases}\n",
    "$$"
   ]
  },
  {
   "cell_type": "markdown",
   "id": "4670dab2",
   "metadata": {},
   "source": [
    "`scipy` will have these distributions."
   ]
  },
  {
   "cell_type": "code",
   "execution_count": 3,
   "id": "f92f35e3",
   "metadata": {},
   "outputs": [],
   "source": [
    "import scipy.stats as stats"
   ]
  },
  {
   "cell_type": "markdown",
   "id": "1f3410ae",
   "metadata": {},
   "source": [
    "## Properties of Random Variables\n",
    "**How do we meausre the likelihood of an event in the support space of the event**, such probability is encoded in PMF and PDF."
   ]
  },
  {
   "cell_type": "markdown",
   "id": "198a0f2f",
   "metadata": {},
   "source": [
    "### Probability Mass/Density Function \n",
    "\n",
    "The **probability mass function (PMF)** of a **discrete random variable** $ X $ is a function $ p_X $ that gives the probability that $ X $ is exactly equal to some value.\n",
    "\n",
    "$$\n",
    "p_X(x) = u(X = x)\n",
    "$$\n",
    "\n",
    "The **probability density function (PDF)** of a **continuous random variable** $X$ is a function $f_X$ that gives the probability that $X$ is in a particular interval.\n",
    "\n",
    "$$\n",
    "u(a \\leq X \\leq b) = \\int_a^b f_X(x)dx\n",
    "$$"
   ]
  },
  {
   "cell_type": "code",
   "execution_count": 4,
   "id": "e1e3abb0",
   "metadata": {},
   "outputs": [
    {
     "data": {
      "image/png": "[encoded data removed]",
      "text/plain": [
       "<Figure size 640x480 with 1 Axes>"
      ]
     },
     "metadata": {},
     "output_type": "display_data"
    }
   ],
   "source": [
    "X_discrete = stats.poisson(2)\n",
    "plot_X(X_discrete, plt.gca(), type='pmf')\n",
    "plt.xticks(np.arange(-5, 10)); plt.yticks(np.linspace(0, 1, 11));"
   ]
  },
  {
   "cell_type": "code",
   "execution_count": 5,
   "id": "e9d105a6",
   "metadata": {},
   "outputs": [
    {
     "data": {
      "image/png": "[encoded data removed]",
      "text/plain": [
       "<Figure size 640x480 with 1 Axes>"
      ]
     },
     "metadata": {},
     "output_type": "display_data"
    }
   ],
   "source": [
    "X_continuous = stats.laplace(0, 0.5)\n",
    "plot_X(X_continuous, plt.gca(), type='pdf')\n",
    "plt.xticks(np.arange(-5, 6)); plt.yticks(np.linspace(0, 1, 11));"
   ]
  },
  {
   "cell_type": "markdown",
   "id": "1ffca2a9",
   "metadata": {},
   "source": [
    "### Cumulative Distribution Function\n",
    "\n",
    "Intuitively, the cumulative distribution function (CDF) of a random variable $X$ measures the **probability of a value less of equal to a value on the support**.\n",
    "\n",
    "For a random variable $X$ with PDF $\\fx(x)$ the CDF $\\Fx(x)$ is given by\n",
    "\n",
    "$$\n",
    "\\Fx(x)  =  \\pr(-\\infty < X \\leq x) \\tag{formula for CDF of continuous RV}\n",
    "$$\n",
    "\n",
    "This should be a **monotonic function**, the values should not decrease. In this class, we will be using CDF property greatly because we will use many **non-parametric** test (unliek Math 181A where we jsut use Gaussian distribution and assume CLT).\n",
    "\n",
    "$$\n",
    "F_X(x) = \\begin{cases}\n",
    "\\displaystyle\\sum_{y \\leq x} p_X(y) & \\text{if } X \\text{ is discrete} \\\\ \\\\\n",
    "\\displaystyle\\int_{-\\infty}^x f_X(y) dy & \\text{if } X \\text{ is continuous} \\\\\n",
    "\\end{cases}\n",
    "$$"
   ]
  },
  {
   "cell_type": "code",
   "execution_count": 6,
   "id": "990c24f2",
   "metadata": {},
   "outputs": [
    {
     "data": {
      "application/vnd.jupyter.widget-view+json": {
       "model_id": "480b28ac78624b0cb47ee9198e172f64",
       "version_major": 2,
       "version_minor": 0
      },
      "text/plain": [
       "interactive(children=(Checkbox(value=False, description='discrete'), FloatSlider(value=2.0, description='xval'…"
      ]
     },
     "metadata": {},
     "output_type": "display_data"
    }
   ],
   "source": [
    "@interact(discrete=False, xval=(-2, 7, 0.1))\n",
    "def _(discrete, xval):\n",
    "    X = X_discrete if discrete else X_continuous\n",
    "    fig, axs = plt.subplots(1, 2, figsize=(12, 6))\n",
    "    plot_X(X, axs[0], type='pmf' if discrete else 'pdf')\n",
    "    plot_X(X, axs[1], type='cdf')\n",
    "    for ax in axs:\n",
    "        ax.set_xticks(np.arange(-5, 7));ax.set_yticks(np.linspace(0, 1, 11)); ax.axvline(xval, color='red')\n",
    "    plt.tight_layout(); plt.show()"
   ]
  },
  {
   "cell_type": "markdown",
   "id": "7e4977f0",
   "metadata": {},
   "source": [
    "### Expected value\n",
    "\n",
    "For a random variable $X$ with PMF $\\px$ or with PDF $\\fx$, the expected value of $X$ is **the best guess, the weighetd average (probability is some what like a weight) of the likelihood of the radnom varaible $X$ outcome**.\n",
    "\n",
    "$$\n",
    "\\E(X)  = \\sum_{x \\in \\text{Supp}(X)} x \\cdot p_X(x) \\tag{formula for PMF}\n",
    "$$\n",
    "$$\n",
    "\\E(X)  = \\int_{-\\infty}^\\infty x \\cdot f_X(x) \\, dx \\tag{formula for PDF}\n",
    "$$\n",
    "\n",
    "Notice that the $\\E (X)$ is the equivalent with` X.mean()` and `X.moment(1)` to certain decimal place.\n",
    "\n",
    "$$\n",
    "\\E (X^k) = \\text{kth moment}\n",
    "$$"
   ]
  },
  {
   "cell_type": "code",
   "execution_count": 7,
   "id": "0c234e6d",
   "metadata": {},
   "outputs": [
    {
     "data": {
      "text/plain": [
       "2.779999999999999"
      ]
     },
     "execution_count": 7,
     "metadata": {},
     "output_type": "execute_result"
    }
   ],
   "source": [
    "X = stats.laplace(2.78, 2.0)\n",
    "X.expect()"
   ]
  },
  {
   "cell_type": "code",
   "execution_count": 8,
   "id": "49da853d",
   "metadata": {},
   "outputs": [
    {
     "data": {
      "text/plain": [
       "False"
      ]
     },
     "execution_count": 8,
     "metadata": {},
     "output_type": "execute_result"
    }
   ],
   "source": [
    "X.mean() == X.expect() == X.moment(1)"
   ]
  },
  {
   "cell_type": "markdown",
   "id": "c7906e0c",
   "metadata": {},
   "source": [
    "### Variance\n",
    "\n",
    "For a random variable $X$ with expected value $\\E(X)$ and second moment $\\E(X^2)$, the variance of $X$ is **the uncertainty/spread/variability of the random variable $X$ (expected value plays a major role in the variance)**. When we want to know how to measure the deviation, we square it.\n",
    "\n",
    "\n",
    "$$\n",
    "\\var(X)  =  E\\left( \\{ X - E(X) \\}^2 \\right) = E(X^2) - E(X)^2\n",
    " \\tag{formula for variance}\n",
    "$$"
   ]
  },
  {
   "cell_type": "code",
   "execution_count": 9,
   "id": "9a029d2f",
   "metadata": {},
   "outputs": [
    {
     "name": "stdout",
     "output_type": "stream",
     "text": [
      " EX = 2.0\n",
      " E[X^2] = 6.0\n",
      " Var(X) = 2.0\n"
     ]
    }
   ],
   "source": [
    "X = stats.poisson(2)\n",
    "# X = stats.laplace(2, 0.5)\n",
    "EX = X.expect()\n",
    "EX2 = X.moment(2)\n",
    "varX = X.var()\n",
    "\n",
    "print(f' EX = {EX}\\n E[X^2] = {EX2}\\n Var(X) = {varX}')"
   ]
  },
  {
   "cell_type": "code",
   "execution_count": 10,
   "id": "afc44541",
   "metadata": {},
   "outputs": [
    {
     "data": {
      "text/plain": [
       "True"
      ]
     },
     "execution_count": 10,
     "metadata": {},
     "output_type": "execute_result"
    }
   ],
   "source": [
    "X.var() == X.moment(2) - X.expect()**2"
   ]
  },
  {
   "cell_type": "markdown",
   "id": "a59ff4d8",
   "metadata": {},
   "source": [
    "---"
   ]
  },
  {
   "cell_type": "markdown",
   "id": "bcaa3d33",
   "metadata": {},
   "source": [
    "# Examples of Probability Distributions\n",
    "The distribution you can use would effect the results of the analysis that you can actually do. **All of statistics (traditioanl statistics) is to model some real world phenomenon in the population**.\n",
    "- We will see that there are many connections between each distributions (i.e. things tends to be connected to Gaussian)"
   ]
  },
  {
   "cell_type": "markdown",
   "id": "56c11926",
   "metadata": {},
   "source": [
    "## §1. Bernoulli distribution\n",
    "\n",
    "A random variable $X \\sim \\Ber(p)$ follows a Bernoulli distribution with parameter $p$.\n",
    "\n",
    "* The support is\n",
    "$$\n",
    "\\supp(X) = \\{0, 1\\}\n",
    "$$\n",
    "* The PMF is \n",
    "$$\n",
    "\\px(x) = \\begin{cases} \n",
    "p & \\text{if } x = 1 \\\\\n",
    "1 - p & \\text{if } x = 0 \n",
    "\\end{cases} \\quad \\text{(PMF)}\n",
    "$$\n",
    "* or the equivalent PMF\n",
    "$$\n",
    "p_X(x) = p^x (1-p)^{1-x}\n",
    "$$\n",
    "* Notice when we take the log of this, this is essentially the **binary cross entropy** function, it comes from a bernulli distribution.\n",
    "$$\n",
    "\\log (p_X(x)) = \\log (p^x (1-p)^{1-x})\n",
    "$$\n",
    "* The expected value is\n",
    "$$\n",
    "\\mathbb E(X) = \\sum_{x \\in \\text{Supp}(X)} x \\cdot p_X(x) \\\\  = 0 \\cdot (1 - p) + 1 \\cdot p \\\\ = p\n",
    "$$\n",
    "* The variance is\n",
    "$$\n",
    "\\var(X) = E(X^2) - E(X)^2 \\\\ = p - p^2 \\\\ = p(1 - p)\n",
    "$$\n",
    "\n",
    "In python, we can generate $10$ random samples from a Bernoulli distribution as follows:\n",
    "- the Bernulli random varaibale only has two jumps in the CDF."
   ]
  },
  {
   "cell_type": "code",
   "execution_count": 11,
   "id": "895fdba7",
   "metadata": {},
   "outputs": [
    {
     "data": {
      "application/vnd.jupyter.widget-view+json": {
       "model_id": "7b04486468fa4820ba923435096e5bdc",
       "version_major": 2,
       "version_minor": 0
      },
      "text/plain": [
       "interactive(children=(FloatSlider(value=0.0, description='p', max=1.0, step=0.01), Output()), _dom_classes=('w…"
      ]
     },
     "metadata": {},
     "output_type": "display_data"
    }
   ],
   "source": [
    "@interact(p = (0, 1, 0.01))\n",
    "def _(p):\n",
    "    X = stats.bernoulli(p)\n",
    "    fig, axs = plt.subplots(1, 2, figsize=(12, 6))\n",
    "    plot_X(X, axs[0], type='pmf', color='blue', alpha=0.5)\n",
    "    plot_X(X, axs[1], type='cdf', color='blue', alpha=0.5)\n",
    "    axs[0].set_xlim(-0.5, 1.5); axs[0].set_ylim(-0.0, 1.1)\n",
    "    plt.tight_layout(); plt.show()"
   ]
  },
  {
   "cell_type": "markdown",
   "id": "07fbff42",
   "metadata": {},
   "source": [
    "---"
   ]
  },
  {
   "cell_type": "markdown",
   "id": "89e9d296",
   "metadata": {},
   "source": [
    "## §2. Binomial distribution\n",
    "\n",
    "Binomial R.V. is just consecutively taking many Bernoulli R.V.\n",
    "\n",
    "$$\n",
    "X \\sim \\text{Bin}(n, p) \\text{ is a random variable that can take on } 0, 1, 2, \\dots, n.\n",
    "$$\n",
    "\n",
    "$$\n",
    "\\supp(X) = \\{ 0, 1, 2, \\dots, n\\}\n",
    "$$\n",
    "\n",
    "$$\n",
    "p_X(x) = \n",
    "\\begin{cases} \n",
    "\\binom{n}{x} p^x (1 - p)^{n-x} & \\text{if } x = 0, 1, 2, \\dots, n \\\\\n",
    "0 & \\text{otherwise}\n",
    "\\end{cases}\n",
    "$$\n",
    "\n",
    "$$\n",
    "E(X) = np \\quad \\text{and} \\quad \\text{Var}(X) = np(1 - p)\n",
    "$$\n",
    "\n",
    "**Binomial from Bernoulli:**\n",
    "\n",
    "$$\n",
    "X \\sim \\text{Bin}(n, p) \\iff X = \\sum_{i=1}^n Y_i, \\quad \\text{where } Y_i \\sim \\text{Ber}(p).\n",
    "$$\n",
    "\n",
    "Notice that as sample size increase, the **Binomial distribution** will look closer and closer like to a **Normal distribution**.\n"
   ]
  },
  {
   "cell_type": "code",
   "execution_count": 12,
   "id": "6d8a10fa",
   "metadata": {},
   "outputs": [
    {
     "data": {
      "application/vnd.jupyter.widget-view+json": {
       "model_id": "f06d87c6b058452f897eb209d3560bc0",
       "version_major": 2,
       "version_minor": 0
      },
      "text/plain": [
       "interactive(children=(IntSlider(value=100, description='n', max=200, min=1), FloatSlider(value=0.45, descripti…"
      ]
     },
     "metadata": {},
     "output_type": "display_data"
    }
   ],
   "source": [
    "@interact(n=(1, 200, 1), p=(0.05, 0.95, 0.05))\n",
    "def _(n, p):\n",
    "    X = stats.binom(n, p)\n",
    "    fig, axs = plt.subplots(1, 2, figsize=(12, 6))\n",
    "    plot_X(X, axs[0], type='pmf', color='blue', alpha=0.5)\n",
    "    plot_X(X, axs[1], type='cdf', color='blue', alpha=0.5)\n",
    "    axs[0].set_ylim(-1e-2, np.exp(-p));\n",
    "    plt.tight_layout(); plt.show()"
   ]
  },
  {
   "cell_type": "markdown",
   "id": "309181bf",
   "metadata": {},
   "source": [
    "---"
   ]
  },
  {
   "cell_type": "markdown",
   "id": "554eb8c1",
   "metadata": {},
   "source": [
    "## §3. Discrete Uniform distribution\n",
    "\n",
    "A random variable $X \\sim \\Unif \\{a, b\\}$ follows a _discrete uniform_ distribution with parameter(s) $a$ and $b$. \n",
    "\n",
    "$$\n",
    "X \\sim \\text{Unif}(\\{a, b\\}) \\text{ is a discrete uniform random variable that can take on values } a, a+1, a+2, \\dots, b.\n",
    "$$\n",
    "\n",
    "* The support is\n",
    "$$\n",
    "\\supp(X) = \\{a, a+1, a+2, \\dots, b\\}\n",
    "$$\n",
    "* The PMF is \n",
    "$$\n",
    "\\px(x) = \\begin{cases} \n",
    "\\frac{1}{b - a + 1} & \\text{if } x = a, a+1, a+2, \\dots, b \\\\\n",
    "0 & \\text{otherwise}\n",
    "\\end{cases}\n",
    "$$\n",
    "* The expected value is\n",
    "$$\n",
    "\\mathbb E(X) = \\frac{a + b}{2} \\quad \\text{and} \\quad\n",
    "$$\n",
    "* The variance is\n",
    "$$\n",
    "\\var(X) = \\frac{(b - a + 1)^2 - 1}{12}\n",
    "$$\n",
    "\n",
    "We can generate $10$ random samples from a discrete uniform distribution as follows (we can model fair coins):"
   ]
  },
  {
   "cell_type": "code",
   "execution_count": 13,
   "id": "9f1f7267",
   "metadata": {},
   "outputs": [
    {
     "data": {
      "application/vnd.jupyter.widget-view+json": {
       "model_id": "ed4cb436d328403e9213cbe13191cb2d",
       "version_major": 2,
       "version_minor": 0
      },
      "text/plain": [
       "interactive(children=(IntSlider(value=5, description='a', max=10), IntSlider(value=10, description='b', max=20…"
      ]
     },
     "metadata": {},
     "output_type": "display_data"
    }
   ],
   "source": [
    "@interact(a=(0, 10, 1), b=(1, 20, 1))\n",
    "def _(a, b):\n",
    "    X = stats.randint(a, b+1)\n",
    "    fig, axs = plt.subplots(1, 2, figsize=(12, 6))\n",
    "    plot_X(X, axs[0], type='pmf', color='blue', alpha=0.5)\n",
    "    plot_X(X, axs[1], type='cdf', color='blue', alpha=0.5)\n",
    "    for ax in axs:\n",
    "        ax.set_xticks(np.arange(a-1, b+2))\n",
    "        ax.set_ylim(-1e-2, 1.1)\n",
    "    plt.tight_layout(); plt.show()"
   ]
  },
  {
   "cell_type": "markdown",
   "id": "c0000bd7",
   "metadata": {},
   "source": [
    "---"
   ]
  },
  {
   "cell_type": "markdown",
   "id": "b7c5a779",
   "metadata": {},
   "source": [
    "## §4. Poisson Distribution\n",
    "\n",
    "A random variable $X \\sim \\Poi(\\lambda)$ follows a _Poisson_ distribution with parameter(s) $\\lambda$.\n",
    "\n",
    "$$\n",
    "X \\sim \\text{Poi}(\\lambda) \\text{ is a random variable that can take on values } 0, 1, 2, \\dots.\n",
    "$$\n",
    "\n",
    "\n",
    "* The support is\n",
    "$$\n",
    "\\supp(X) = \\{0, 1, 2, \\dots.\\}\n",
    "$$\n",
    "* The PMF is \n",
    "$$\n",
    "\\px(x) = \\begin{cases} \n",
    "\\frac{\\lambda^x e^{-\\lambda}}{x!} & \\text{if } x = 0, 1, 2, \\dots \\\\\n",
    "0 & \\text{otherwise}\n",
    "\\end{cases}\n",
    "$$\n",
    "* The expected value is\n",
    "$$\n",
    "\\mathbb E(X) = \\lambda \\quad \\text{and}\n",
    "$$\n",
    "* The variance is\n",
    "$$\n",
    "\\var(X) = \\lambda\n",
    "$$\n",
    "\n",
    "We can generate $10$ random samples from a Poisson distribution as follows (**Poisson is count, we cna model things with frequency, on a average population level, what is the average frequency of certain event**):"
   ]
  },
  {
   "cell_type": "code",
   "execution_count": 14,
   "id": "cc913380",
   "metadata": {},
   "outputs": [
    {
     "data": {
      "application/vnd.jupyter.widget-view+json": {
       "model_id": "4ef170101192487482ec50126bcfe6d2",
       "version_major": 2,
       "version_minor": 0
      },
      "text/plain": [
       "interactive(children=(FloatSlider(value=10.200000000000001, description='lambda_', max=20.0, min=0.5), Output(…"
      ]
     },
     "metadata": {},
     "output_type": "display_data"
    }
   ],
   "source": [
    "@interact(lambda_=(0.5, 20.0, 0.1))\n",
    "def _(lambda_):\n",
    "    X = stats.poisson(lambda_)\n",
    "    fig, axs = plt.subplots(1, 2, figsize=(12, 6))\n",
    "    plot_X(X, axs[0], type='pmf', color='blue', alpha=0.5)\n",
    "    plot_X(X, axs[1], type='cdf', color='blue', alpha=0.5)\n",
    "    axs[0].set_ylim(-1e-2, 0.4);\n",
    "    plt.tight_layout(); plt.show()"
   ]
  },
  {
   "cell_type": "markdown",
   "id": "2836e9e3",
   "metadata": {},
   "source": [
    "---"
   ]
  },
  {
   "cell_type": "markdown",
   "id": "2d837a0d",
   "metadata": {},
   "source": [
    "## §5. Continuous Uniform Distribution\n",
    "\n",
    "$$\n",
    "X \\sim \\text{Unif}(a, b) \\text{ is a random variable that can take on values } (a, b) \\text{ for } a < b.\n",
    "$$\n",
    "\n",
    "$$\n",
    "\\supp(X) = \\{(a, b) \\text{ for } a < b.\\}\n",
    "$$\n",
    "\n",
    "$$\n",
    "f_X(x) = \n",
    "\\begin{cases} \n",
    "\\frac{1}{b - a} & \\text{if } a < x < b \\\\\n",
    "0 & \\text{otherwise}\n",
    "\\end{cases}\n",
    "$$\n",
    "\n",
    "$$\n",
    "E(X) = \\frac{a + b}{2} \\quad \\text{and} \\quad \\text{Var}(X) = \\frac{(b - a)^2}{12}\n",
    "$$"
   ]
  },
  {
   "cell_type": "code",
   "execution_count": 15,
   "id": "ab9ebcad",
   "metadata": {},
   "outputs": [
    {
     "data": {
      "application/vnd.jupyter.widget-view+json": {
       "model_id": "bad0ca5c07aa480081eff587f97895aa",
       "version_major": 2,
       "version_minor": 0
      },
      "text/plain": [
       "interactive(children=(FloatSlider(value=0.0, description='a', max=5.0, min=-5.0, step=0.5), FloatSlider(value=…"
      ]
     },
     "metadata": {},
     "output_type": "display_data"
    }
   ],
   "source": [
    "@interact(a=(-5.0, 5.0, 0.5), b=(0.0, 10.0, 0.5))\n",
    "def _(a, b):\n",
    "    X = stats.uniform(a, b)\n",
    "    fig, axs = plt.subplots(1, 2, figsize=(12, 6))\n",
    "    plot_X(X, axs[0], type='pdf', color='blue', alpha=0.5)\n",
    "    plot_X(X, axs[1], type='cdf', color='blue', alpha=0.5)\n",
    "    axs[0].set_ylim(-1e-2, 0.4);\n",
    "    plt.tight_layout(); plt.show()"
   ]
  },
  {
   "cell_type": "markdown",
   "id": "b1da1a4a",
   "metadata": {},
   "source": [
    "---"
   ]
  },
  {
   "cell_type": "markdown",
   "id": "a2d78f9b",
   "metadata": {},
   "source": [
    "## §6. Exponential distribution\n",
    "\n",
    "A random variable $X \\sim \\Exp(\\lambda)$ follows an _Exponential_ distribution with parameter(s) $\\lambda$. It is the amount of time you wait between two posion rtandom varaible.\n",
    "\n",
    "$$\n",
    "X \\sim \\text{Exp}(\\lambda) \\text{ is a random variable that can take on values } (0, \\infty).\n",
    "$$\n",
    "\n",
    "* The support is\n",
    "$$\n",
    "\\supp(X) = \\{0, \\infty\\}\n",
    "$$\n",
    "* The PDF is \n",
    "$$\n",
    "\\fx(x) = \\begin{cases} \n",
    "\\lambda e^{-\\lambda x} & \\text{if } x \\geq 0 \\\\\n",
    "0 & \\text{otherwise}\n",
    "\\end{cases}\n",
    "$$\n",
    "* The expected value is\n",
    "$$\n",
    "\\mathbb E(X) = \\frac{1}{\\lambda}\n",
    "$$\n",
    "* The variance is\n",
    "$$\n",
    "\\var(X) = \\frac{1}{\\lambda^2}\n",
    "$$\n",
    "\n",
    "We can generate $10$ random samples from an Exponential distribution as follows (**model the tiems between two poisson rv, the amount of time we wait is a exponential distribution**):\n",
    "- Time between two consecutive debt,..."
   ]
  },
  {
   "cell_type": "code",
   "execution_count": 16,
   "id": "20cff9be",
   "metadata": {},
   "outputs": [
    {
     "data": {
      "application/vnd.jupyter.widget-view+json": {
       "model_id": "d0e8939d1e9e4adfae6ef28b00c0d023",
       "version_major": 2,
       "version_minor": 0
      },
      "text/plain": [
       "interactive(children=(FloatSlider(value=2.5, description='lambda_', max=5.0, min=0.5, step=0.5), Output()), _d…"
      ]
     },
     "metadata": {},
     "output_type": "display_data"
    }
   ],
   "source": [
    "@interact(lambda_=(0.5, 5.0, 0.5))\n",
    "def _(lambda_):\n",
    "    X = stats.expon(0, lambda_)\n",
    "    fig, axs = plt.subplots(1, 2, figsize=(12, 6))\n",
    "    plot_X(X, axs[0], type='pdf', color='blue', alpha=0.5)\n",
    "    plot_X(X, axs[1], type='cdf', color='blue', alpha=0.5)\n",
    "    axs[0].set_xlim(-1, 10);axs[0].set_ylim(-1e-2, 1.0);\n",
    "    axs[1].set_xlim(-1, 10);\n",
    "    plt.tight_layout(); plt.show()"
   ]
  },
  {
   "cell_type": "markdown",
   "id": "587326c8",
   "metadata": {},
   "source": [
    "---"
   ]
  },
  {
   "cell_type": "markdown",
   "id": "ea98f45b",
   "metadata": {},
   "source": [
    "## §7. Normal Distribution\n",
    "\n",
    "A random variable $X \\sim N(\\mu, \\sigma^2)$ follows a Normal distribution with parameter(s) $\\mu$ and $\\sigma^2$.\n",
    "\n",
    "* The support is\n",
    "$$\n",
    "\\supp(X) = \\{-\\infty, \\infty\\}\n",
    "$$\n",
    "* The PDF is \n",
    "$$\n",
    "\\fx(x) = \\frac{1}{\\sqrt{2\\pi\\sigma^2}} \\exp\\left(-\\frac{(x - \\mu)^2}{2\\sigma^2}\\right)\n",
    "$$\n",
    "* The expected value is\n",
    "$$\n",
    "\\mathbb E(X) = \\int_{-\\infty}^\\infty x \\cdot f_X(x) \\, dx \\\\ = \\int_{-\\infty}^\\infty x \\cdot \\frac{1}{\\sqrt{2\\pi\\sigma^2}} \\exp\\left(-\\frac{(x - \\mu)^2}{2\\sigma^2}\\right) \\, dx \\\\ = \\mu\n",
    "$$\n",
    "* The variance is\n",
    "$$\n",
    "\\var(X) = E(X^2) - E(X)^2 \\\\ = (\\mu^2 + \\sigma^2) - \\mu^2 \\\\ = \\sigma^2\n",
    "$$\n",
    "\n",
    "We can generate $10$ random samples from a Normal distribution as follows:\n",
    "- Interestingly, there is no way to analytically get the CDF function accurate value, only numerical approximations (recall in math 180A)\n",
    "- Keep a notice on the CDF when seeing how the PDF changes."
   ]
  },
  {
   "cell_type": "code",
   "execution_count": 17,
   "id": "6e6ec1d6",
   "metadata": {},
   "outputs": [
    {
     "data": {
      "application/vnd.jupyter.widget-view+json": {
       "model_id": "b2c09e9d3c1844e38369493f4019bbbd",
       "version_major": 2,
       "version_minor": 0
      },
      "text/plain": [
       "interactive(children=(FloatSlider(value=0.0, description='mu', max=1.0, min=-1.0), FloatSlider(value=1.0, desc…"
      ]
     },
     "metadata": {},
     "output_type": "display_data"
    }
   ],
   "source": [
    "@interact(mu = (-1, 1, 0.1), sigma=(0.1, 2, 0.1))\n",
    "def _(mu, sigma):\n",
    "    X = stats.norm(mu, sigma)\n",
    "    fig, axs = plt.subplots(1, 2, figsize=(12, 6))\n",
    "    plot_X(X, axs[0], type='pdf', color='blue', alpha=0.5)\n",
    "    plot_X(X, axs[1], type='cdf', color='blue', alpha=0.5)\n",
    "    axs[0].set_ylim(-1e-2, 1.0);\n",
    "    axs[0].set_xlim(-5, 5);axs[1].set_xlim(-5, 5);\n",
    "    plt.tight_layout(); plt.show()"
   ]
  },
  {
   "cell_type": "markdown",
   "id": "09f36ac9",
   "metadata": {},
   "source": [
    "---"
   ]
  },
  {
   "cell_type": "markdown",
   "id": "a21c7bfb",
   "metadata": {},
   "source": [
    "## §8. Chi-squared Distribution\n",
    "\n",
    "A random variable $X \\sim \\chi^2(k)$ follows a Chi-squared distribution with parameter(s) $k$. Chi-square distribution arises from standard normal distribution.\n",
    "\n",
    "$$\n",
    "X \\sim \\chi^2(k) \\text{ is a random variable that can take on values } (0, \\infty).\n",
    "$$\n",
    "\n",
    "* The support is\n",
    "$$\n",
    "\\supp(X) = \\{0, \\infty\\}\n",
    "$$\n",
    "* $X \\sim \\chi^2(k)$ is obtained using $k$ iid copies of a standard normal random variable $Z_1, Z_2, \\dots, Z_k \\sim N(0, 1)$ as follows:\n",
    "\n",
    "$$\n",
    "X \\sim \\chi^2(k) \\iff X = \\sum_{i=1}^k Z_i^2, \\quad \\text{where } Z_1, Z_2, \\dots, Z_n \\sim N(0, 1).\n",
    "$$\n",
    "\n",
    "*  The PDF is:\n",
    "\n",
    "$$\n",
    "X = \\begin{cases} \n",
    "\\frac{1}{2^{k/2} \\Gamma(k/2)} x^{k/2 - 1} e^{-x/2} & \\text{if } x \\geq 0 \\\\\n",
    "0 & \\text{otherwise}\n",
    "\\end{cases}\n",
    "$$\n",
    "* The expected value is\n",
    "$$\n",
    "\\mathbb E(X) = k\n",
    "$$\n",
    "* The variance is\n",
    "$$\n",
    "\\var(X) = 2k\n",
    "$$\n",
    "\n",
    "We can generate $10$ random samples from a Chi-squared distribution as follows:\n",
    "- When degree freedom is low, **chi-square distribution** looks very much like a **exponential distribution**, this is because they belong to a bigger class of distribution called **gamma distribution**.\n"
   ]
  },
  {
   "cell_type": "code",
   "execution_count": 18,
   "id": "19bed59c",
   "metadata": {},
   "outputs": [
    {
     "data": {
      "application/vnd.jupyter.widget-view+json": {
       "model_id": "0b9272a48c374847b6b2effd3a4a5c8b",
       "version_major": 2,
       "version_minor": 0
      },
      "text/plain": [
       "interactive(children=(IntSlider(value=15, description='df', max=30, min=1), Output()), _dom_classes=('widget-i…"
      ]
     },
     "metadata": {},
     "output_type": "display_data"
    }
   ],
   "source": [
    "@interact(df=(1, 30, 1))\n",
    "def plot_chisq(df):\n",
    "    X = stats.chi2(df)\n",
    "    fig, axs = plt.subplots(1, 2, figsize=(12, 6))\n",
    "    plot_X(X, axs[0], type='pdf', color='blue', alpha=0.5)\n",
    "    plot_X(X, axs[1], type='cdf', color='blue', alpha=0.5)\n",
    "    axs[0].set_ylim(-1e-2, 0.5);\n",
    "    plt.tight_layout(); plt.show()"
   ]
  },
  {
   "cell_type": "markdown",
   "id": "2f337b21",
   "metadata": {},
   "source": [
    "---"
   ]
  },
  {
   "cell_type": "markdown",
   "id": "3eeecfb7",
   "metadata": {},
   "source": [
    "## §9. Student's t Distribution\n",
    "\n",
    "A random variable $X \\sim t(k)$ follows a Student's $t$ distribution with parameter(s) $k$. This is a fairly new discovery in statistcis (1960), the author who published it forgot to change the name student back.\n",
    "\n",
    "$$\n",
    "X \\sim t(k) \\text{ is a random variable that can take on values } (-\\infty, \\infty).\n",
    "$$\n",
    "\n",
    "* The support is\n",
    "$$\n",
    "\\supp(X) = \\{-\\infty, \\infty\\}\n",
    "$$\n",
    "\n",
    "* Given $Z \\sim N(0,1)$ and $Y \\sim \\chi^2(k)$ with $Z \\perp Y$, a Student's $t$ random variable $X$ is obtained as follows:\n",
    "$$\n",
    "X \\sim t(k) \\iff X = \\frac{Z}{\\sqrt{Y / k}}, \\quad \\text{where } Z \\sim N(0, 1) \\text{ and } Y \\sim \\chi^2(k).\n",
    "$$\n",
    "\n",
    "We can generate $10$ random samples from a Student's $t$ distribution as follows:\n",
    "- Provide greater probability of observing more extreme values in the tails of the distribution. Using purely a normal distributions **heavily ignores the impact of the extreem values**. "
   ]
  },
  {
   "cell_type": "code",
   "execution_count": 19,
   "id": "d8d7ef05",
   "metadata": {},
   "outputs": [
    {
     "data": {
      "application/vnd.jupyter.widget-view+json": {
       "model_id": "d3f4d2d3fc4a460eb53790288e65ed0e",
       "version_major": 2,
       "version_minor": 0
      },
      "text/plain": [
       "interactive(children=(IntSlider(value=26, description='df', max=50, min=2), Output()), _dom_classes=('widget-i…"
      ]
     },
     "metadata": {},
     "output_type": "display_data"
    }
   ],
   "source": [
    "@interact(df=(2, 50, 1))\n",
    "def _(df):\n",
    "    X = stats.t(df)\n",
    "    X_norm = stats.norm(0, 1)\n",
    "    fig, axs = plt.subplots(1, 2, figsize=(12, 6))\n",
    "    plot_X(X_norm, axs[0], type='pdf', color='darkorange', alpha=0.5)\n",
    "    plot_X(X, axs[0], type='pdf', color='blue', alpha=0.5)\n",
    "    plot_X(X_norm, axs[1], type='cdf', color='darkorange', alpha=0.5)\n",
    "    plot_X(X, axs[1], type='cdf', color='blue', alpha=0.5)\n",
    "    axs[0].set_xlim(-7, 7); axs[0].set_ylim(-1e-2, 0.45);\n",
    "    axs[1].set_xlim(-7, 7);\n",
    "    plt.tight_layout(); plt.show()"
   ]
  },
  {
   "cell_type": "markdown",
   "id": "c422fffe",
   "metadata": {},
   "source": [
    "---"
   ]
  },
  {
   "cell_type": "markdown",
   "id": "c19066de",
   "metadata": {},
   "source": [
    "## §10. $F$ Distribution\n",
    "\n",
    "A random variable $X \\sim F(k_1, k_2)$ follows an $F$ distribution with parameter(s) $k_1$ and $k_2$. It is essentially the ratio of two different chi-square random variable. It is mostly used in **the analysis of variance (ANOVA)**.\n",
    "\n",
    "$$\n",
    "X \\sim F(k_1, k_2) \\text{ is a random variable that can take on values } (0, \\infty).\n",
    "$$\n",
    "\n",
    "* The support is\n",
    "$$\n",
    "\\supp(X) = \\{0, \\infty\\}\n",
    "$$\n",
    "\n",
    "* Given $Y \\sim \\chi^2(k_1)$ and $Z \\sim \\chi^2(k_2)$ with $Y \\perp Z$, an $F$ random variable $X$ is obtained as follows:\n",
    "$$\n",
    "X \\sim F(k_1, k_2) \\iff X = \\frac{Y / k_1}{Z / k_2}, \\quad \\text{where } Y \\sim \\chi^2(k_1) \\text{ and } Z \\sim \\chi^2(k_2).\n",
    "$$\n",
    "\n",
    "We can generate $10$ random samples from a Normal distribution as follows:"
   ]
  },
  {
   "cell_type": "code",
   "execution_count": 20,
   "id": "ad952832",
   "metadata": {},
   "outputs": [
    {
     "data": {
      "application/vnd.jupyter.widget-view+json": {
       "model_id": "0dd3e2eef1114f58838c2b0db8425b94",
       "version_major": 2,
       "version_minor": 0
      },
      "text/plain": [
       "interactive(children=(IntSlider(value=51, description='df1', min=3), IntSlider(value=51, description='df2', mi…"
      ]
     },
     "metadata": {},
     "output_type": "display_data"
    }
   ],
   "source": [
    "@interact(df1=(3, 100, 1), df2=(3, 100, 1))\n",
    "def _(df1, df2):\n",
    "    X = stats.f(df1, df2)\n",
    "    fig, axs = plt.subplots(1, 2, figsize=(12, 6))\n",
    "    plot_X(X, axs[0], type='pdf', color='blue', alpha=0.5)\n",
    "    plot_X(X, axs[1], type='cdf', color='blue', alpha=0.5)\n",
    "    axs[0].set_ylim(-1e-2, 2.0);\n",
    "    plt.tight_layout(); plt.show()"
   ]
  },
  {
   "cell_type": "markdown",
   "id": "65b3274f",
   "metadata": {},
   "source": [
    "---"
   ]
  },
  {
   "cell_type": "markdown",
   "id": "c5be86b9",
   "metadata": {},
   "source": [
    "# §11. Empirical Distribution\n",
    "\n",
    "**Historgram** give insights into the distributon that generates the underlaying distribution! **We use a distribution way to talk  about the world.** This histogram would be refered to as the **empirical distribution** and we can infer an **theroitical distribution** out of it."
   ]
  },
  {
   "cell_type": "markdown",
   "id": "7d9b8a24",
   "metadata": {},
   "source": [
    "Closer look at the Normal CDF:"
   ]
  },
  {
   "cell_type": "code",
   "execution_count": 21,
   "id": "1310e6fc",
   "metadata": {},
   "outputs": [
    {
     "data": {
      "application/vnd.jupyter.widget-view+json": {
       "model_id": "6f03ec1a7bb44dd680c544b118c1a228",
       "version_major": 2,
       "version_minor": 0
      },
      "text/plain": [
       "interactive(children=(FloatSlider(value=0.0, description='x', max=3.0, min=-3.0), Output()), _dom_classes=('wi…"
      ]
     },
     "metadata": {},
     "output_type": "display_data"
    }
   ],
   "source": [
    "@interact(x = (-3.0, 3.0, 0.1))\n",
    "def _(x=0.0):\n",
    "    X_normal = stats.norm(0.0, 1.0)\n",
    "    fig, axs = plt.subplots(1, 2, figsize=(10, 5))\n",
    "    plot_X(X_normal, axs[0], type='pdf')\n",
    "    plot_X(X_normal, axs[1], type='cdf')\n",
    "    axs[0].axvline(x=x, color='red', linestyle='--')\n",
    "    axs[1].axvline(x=x, color='red', linestyle='--')\n",
    "    x_range = np.linspace(-3.5, x, 100)\n",
    "    axs[0].fill_between(x_range, X_normal.pdf(x_range), alpha=0.5)\n",
    "    plt.tight_layout(); plt.show()"
   ]
  },
  {
   "cell_type": "markdown",
   "id": "4932788a",
   "metadata": {},
   "source": [
    "Given a random variable $X \\sim D$ and a number $\\alpha \\in (0, 1)$, the $\\alpha$-quantile of $X$ is the value $q_\\alpha$ such that\n",
    "\n",
    "$$\n",
    "\\pr(X > q_\\alpha) = \\alpha\n",
    "$$\n",
    "\n",
    "In terms of the CDF, this is\n",
    "\n",
    "$$\n",
    "F_X(q_\\alpha) = \\alpha\n",
    "$$\n",
    "\n",
    "In other words, $q_\\alpha$ is the value such that the probability that $X$ is less than or equal to $q_\\alpha$ is exactly $\\alpha$."
   ]
  },
  {
   "cell_type": "code",
   "execution_count": 22,
   "id": "785bbae0",
   "metadata": {},
   "outputs": [
    {
     "data": {
      "application/vnd.jupyter.widget-view+json": {
       "model_id": "a640564f74fe4bfea9cf833c1235cb95",
       "version_major": 2,
       "version_minor": 0
      },
      "text/plain": [
       "interactive(children=(FloatSlider(value=0.45, description='alpha', max=0.95, min=0.05, step=0.05), Output()), …"
      ]
     },
     "metadata": {},
     "output_type": "display_data"
    }
   ],
   "source": [
    "X = stats.norm(0, 2)\n",
    "\n",
    "@interact(alpha=(0.05, 0.95, 0.05))\n",
    "def _(alpha):\n",
    "    x = np.linspace(X.ppf(1e-5), X.ppf(1-1e-5), 1000)\n",
    "    fig, ax = plt.subplots(1, 2, figsize=(10, 5))\n",
    "    q_alpha = X.ppf(alpha)\n",
    "    ax[0].plot(x, X.pdf(x), lw=1, label='')\n",
    "    ax[0].fill_between(x, 0, X.pdf(x), where=(x < q_alpha), alpha=0.5)\n",
    "    ax[0].axvline(q_alpha, color='red', linestyle='--')\n",
    "    ax[1].axvline(q_alpha, color='red', linestyle='--')\n",
    "    ax[1].axhline(X.cdf(q_alpha), color='black', linestyle='--', lw=0.5)\n",
    "    ax[1].plot(x, X.cdf(x), lw=1, label='')\n",
    "    ax[0].set_title(rf'$q_\\alpha$={q_alpha: .3f}');\n",
    "    ax[1].set_title(rf'$P(X ≤ q_\\alpha)$={X.cdf(q_alpha): .3f}'); \n",
    "    plt.show()"
   ]
  },
  {
   "cell_type": "markdown",
   "id": "79fc245b",
   "metadata": {},
   "source": [
    "Generating random samples:"
   ]
  },
  {
   "cell_type": "code",
   "execution_count": 23,
   "id": "b6d8de50",
   "metadata": {},
   "outputs": [
    {
     "data": {
      "text/plain": [
       "array([4.92179108, 1.73050809, 4.64992914, 4.15943355, 7.88508099,\n",
       "       4.81473035, 3.09276555, 1.39507562, 5.05452786, 6.6098557 ])"
      ]
     },
     "execution_count": 23,
     "metadata": {},
     "output_type": "execute_result"
    }
   ],
   "source": [
    "X = stats.chi2(5)\n",
    "X.rvs(10)"
   ]
  },
  {
   "cell_type": "code",
   "execution_count": 24,
   "id": "49c280a7",
   "metadata": {},
   "outputs": [
    {
     "data": {
      "text/plain": [
       "<AxesSubplot:ylabel='Density'>"
      ]
     },
     "execution_count": 24,
     "metadata": {},
     "output_type": "execute_result"
    },
    {
     "data": {
      "image/png": "[encoded data removed]",
      "text/plain": [
       "<Figure size 640x480 with 1 Axes>"
      ]
     },
     "metadata": {},
     "output_type": "display_data"
    }
   ],
   "source": [
    "n = 500\n",
    "sns.histplot(X.rvs(n), bins=20, stat='density')"
   ]
  },
  {
   "cell_type": "code",
   "execution_count": 25,
   "id": "4576d389",
   "metadata": {},
   "outputs": [
    {
     "data": {
      "application/vnd.jupyter.widget-view+json": {
       "model_id": "5a4699a715f04246945a14573a25da9d",
       "version_major": 2,
       "version_minor": 0
      },
      "text/plain": [
       "interactive(children=(IntSlider(value=4910, description='n', max=10000, min=10, step=100), IntSlider(value=30,…"
      ]
     },
     "metadata": {},
     "output_type": "display_data"
    }
   ],
   "source": [
    "X = stats.chi2(5)\n",
    "@interact(n = (10, 10000, 100), bins=(10, 50, 10))\n",
    "def _(n, bins):\n",
    "    fig, axs = plt.subplots(1, 2, figsize=(10, 5))\n",
    "    sns.histplot(X.rvs(n), bins=bins, stat='density', ax=axs[0])\n",
    "    plot_X(X, axs[1], type='pdf')\n",
    "    plt.tight_layout(); plt.show()"
   ]
  },
  {
   "cell_type": "markdown",
   "id": "ba4e22fa",
   "metadata": {},
   "source": [
    "The empirical distribution is somwwhat always **discrete**. Given samples $X_1, X_2, \\dots, X_n$ from a random variable $X$, the empirical CDF is given by:\n",
    "\n",
    "$$\n",
    "\\hat{F}_n(x) = \\frac{1}{n} \\sum_{i=1}^n I(X_i \\leq x)\n",
    "$$\n",
    "\n",
    "where $I(X_i \\leq x)$ is the indicator function, i.e.,\n",
    "\n",
    "$$\n",
    "I(X_i \\leq x) = \n",
    "\\begin{cases} \n",
    "1 & \\text{if } X_i \\leq x \\\\\n",
    "0 & \\text{if } X_i > x\n",
    "\\end{cases}\n",
    "$$\n",
    "\n",
    "**As sample incerases, the empirical CDF will approximate the theoritical CDF**. Using the empricial CDF, $\\hat F_n(x)$, we can compute the **empricial quantile** of $\\Xn$, which is \n",
    "\n",
    "$$\n",
    "\\hat q_\\alpha = (100 \\times \\alpha) \\% \\text{ of } \\Xn\n",
    "$$\n",
    "\n",
    "<br><br><br>\n",
    " We will revisit empirical CDFs when we look at nonparametric inference in a week or two"
   ]
  },
  {
   "cell_type": "code",
   "execution_count": 26,
   "id": "fecedef1",
   "metadata": {},
   "outputs": [
    {
     "data": {
      "application/vnd.jupyter.widget-view+json": {
       "model_id": "100f703814284029b027f0bc20a2d6f8",
       "version_major": 2,
       "version_minor": 0
      },
      "text/plain": [
       "interactive(children=(IntSlider(value=20, description='n', max=500, min=20, step=20), Output()), _dom_classes=…"
      ]
     },
     "metadata": {},
     "output_type": "display_data"
    }
   ],
   "source": [
    "X = stats.chi2(5)\n",
    "@interact(n = (20, 500, 20))\n",
    "def _(n=20):\n",
    "    np.random.seed(0)\n",
    "    Xn = X.rvs(n)\n",
    "    fig, axs = plt.subplots(1, 2, figsize=(10, 5))\n",
    "    ecdf = lambda x: np.sum(Xn < x) / n\n",
    "    xs = np.linspace(X.ppf(1e-3), X.ppf(1-1e-3), 1000)\n",
    "    axs[0].plot(xs, [ecdf(x) for x in xs])\n",
    "    axs[0].set_ylabel(r'$\\hat F_n(x)$')\n",
    "    plot_X(X, axs[1], type='cdf')\n",
    "    plt.tight_layout(); plt.show()"
   ]
  },
  {
   "cell_type": "markdown",
   "id": "71ed822f",
   "metadata": {},
   "source": [
    "---"
   ]
  }
 ],
 "metadata": {
  "celltoolbar": "Slideshow",
  "hide_input": false,
  "kernelspec": {
   "display_name": "Python 3 (ipykernel)",
   "language": "python",
   "name": "python3"
  },
  "language_info": {
   "codemirror_mode": {
    "name": "ipython",
    "version": 3
   },
   "file_extension": ".py",
   "mimetype": "text/x-python",
   "name": "python",
   "nbconvert_exporter": "python",
   "pygments_lexer": "ipython3",
   "version": "3.8.20"
  },
  "toc": {
   "base_numbering": 2
  }
 },
 "nbformat": 4,
 "nbformat_minor": 5
}
